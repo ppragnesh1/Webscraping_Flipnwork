{
 "cells": [
  {
   "cell_type": "markdown",
   "id": "839c279a",
   "metadata": {},
   "source": [
    "## Q-1"
   ]
  },
  {
   "cell_type": "code",
   "execution_count": 134,
   "id": "15f912a5",
   "metadata": {},
   "outputs": [],
   "source": [
    "#get the necessary webscraping library\n",
    "import selenium\n",
    "from selenium import webdriver\n",
    "from selenium.webdriver.common.by import By\n",
    "import pandas as pd\n",
    "import warnings\n",
    "warnings.filterwarnings(\"ignore\")"
   ]
  },
  {
   "cell_type": "code",
   "execution_count": 135,
   "id": "932e67c6",
   "metadata": {},
   "outputs": [],
   "source": [
    "#define the driver for webriver to communicate with website\n",
    "driver = webdriver.Chrome(\"chromedriver.exe\")"
   ]
  },
  {
   "cell_type": "code",
   "execution_count": 28,
   "id": "f9713bea",
   "metadata": {},
   "outputs": [],
   "source": [
    "#\n",
    "driver.get(\"https://www.amazon.in/\")"
   ]
  },
  {
   "cell_type": "code",
   "execution_count": 29,
   "id": "df188dbf",
   "metadata": {},
   "outputs": [
    {
     "name": "stdout",
     "output_type": "stream",
     "text": [
      "Enter Your product name?Mens shoes size 7\n"
     ]
    }
   ],
   "source": [
    "#Ask to enter the product name and feed that product name into search item\n",
    "itemname = str(input(\"Enter Your product name?\"))\n",
    "searchitem = driver.find_element(By.XPATH,\"/html/body/div[1]/header/div/div[1]/div[2]/div/form/div[2]/div[1]/input\")\n",
    "searchitem.send_keys(itemname)\n",
    "#searching for Mens shoes size 7"
   ]
  },
  {
   "cell_type": "code",
   "execution_count": 30,
   "id": "4e5ddaa4",
   "metadata": {},
   "outputs": [],
   "source": [
    "# after getting the product name click the search button\n",
    "searchbtn = driver.find_element(By.XPATH,\"/html/body/div[1]/header/div/div[1]/div[2]/div/form/div[3]/div/span/input\").click()"
   ]
  },
  {
   "cell_type": "markdown",
   "id": "f16261d6",
   "metadata": {},
   "source": [
    "# Q-2"
   ]
  },
  {
   "cell_type": "code",
   "execution_count": 31,
   "id": "c41d9ebb",
   "metadata": {},
   "outputs": [],
   "source": [
    "# prepare the list of the item in exercise 1\n",
    "from selenium.common.exceptions import NoSuchElementException\n",
    "import time #import time to give sometime to load the page\n",
    "brand = []\n",
    "productname=[]\n",
    "#price=[]\n",
    "itemlinks=[]\n",
    "\n",
    "for i in range(0,4):\n",
    "    \n",
    "    brandtags = driver.find_elements(By.XPATH,'//span[@class=\"a-size-base-plus a-color-base\"]')\n",
    "    for i in brandtags:\n",
    "        brand.append(i.text)\n",
    "        \n",
    "    productnametags = driver.find_elements(By.XPATH,'//span[@class=\"a-size-base-plus a-color-base a-text-normal\"]')\n",
    "    for i in productnametags:\n",
    "        productname.append(i.text)\n",
    "    \n",
    "    itemhref = driver.find_elements(By.XPATH,'//span[@data-component-type=\"s-product-image\"]//a[@class=\"a-link-normal s-no-outline\"]')\n",
    "    for link in itemhref:\n",
    "        itemlinks.append(link.get_attribute('href'))\n",
    "    \n",
    "    try:\n",
    "        nextbtn = driver.find_element(By.XPATH,\"/html/body/div[1]/div[2]/div[1]/div[1]/div/span[1]/div[1]/div[66]/div/div/span/a[4]\")\n",
    "        time.sleep(2)\n",
    "    except NoSuchElementException: #\"Next button click after the page 4 making this code not work as exp\"\n",
    "        gotopageon2 = driver.find_element(By.XPATH,'/html/body/div[1]/div[2]/div[1]/div[1]/div/span[1]/div[1]/div[67]/div/div/span/span[2]').click()\n",
    "    "
   ]
  },
  {
   "cell_type": "code",
   "execution_count": 32,
   "id": "1e8d2513",
   "metadata": {},
   "outputs": [
    {
     "name": "stdout",
     "output_type": "stream",
     "text": [
      "260 260 260\n"
     ]
    }
   ],
   "source": [
    "print(len(brand),len(productname),len(itemlinks))"
   ]
  },
  {
   "cell_type": "code",
   "execution_count": 33,
   "id": "176dae61",
   "metadata": {},
   "outputs": [
    {
     "name": "stdout",
     "output_type": "stream",
     "text": [
      "['ASIAN', 'ASIAN', 'FURO by Redchief', 'eeken', 'ASIAN', 'ASIAN', 'Allen Cooper', 'Hush Puppies', 'Red Tape', 'Bond Street by (Red Tape)', '', '', 'Tiger', 'ASIAN', 'DSC', 'HILLSON', 'Campus', 'Campus', 'Tiger', 'Campus', 'BATA', 'Bourge', 'Ambrick', 'Allen Cooper', 'Adidas', 'ASIAN', 'ASIAN', 'ASIAN', 'ASIAN', 'Tiger', 'Liberty', 'DSC', 'Campus', 'Campus', 'Udenchi', 'BATA', 'Sparx', 'NEOSAFE', '$TEST$S2CTestBrandIN', 'ASIAN', 'Adidas', 'B-TUF', 'Bourge', 'Bourge', 'Sparx', 'Campus', 'Bourge', 'Adidas', 'KDR', 'Campus', 'Sparx', 'Campus', 'Campus', 'Adidas', 'Nivia', 'Sparx', 'BATA', 'Kraasa', 'Campus', 'Adidas', 'Sparx', 'FURO by Redchief', 'Amazon Brand - Symactive', 'Unistar', 'TruTuff', 'ASIAN', 'ASIAN', 'FURO by Redchief', 'eeken', 'ASIAN', 'ASIAN', 'Allen Cooper', 'Hush Puppies', 'Red Tape', 'Bond Street by (Red Tape)', '', '', 'Tiger', 'ASIAN', 'DSC', 'HILLSON', 'Campus', 'Campus', 'Tiger', 'Campus', 'BATA', 'Bourge', 'Ambrick', 'Allen Cooper', 'Adidas', 'ASIAN', 'ASIAN', 'ASIAN', 'ASIAN', 'Tiger', 'Liberty', 'DSC', 'Campus', 'Campus', 'Udenchi', 'BATA', 'Sparx', 'NEOSAFE', '$TEST$S2CTestBrandIN', 'ASIAN', 'Adidas', 'B-TUF', 'Bourge', 'Bourge', 'Sparx', 'Campus', 'Bourge', 'Adidas', 'KDR', 'Campus', 'Sparx', 'Campus', 'Campus', 'Adidas', 'Nivia', 'Sparx', 'BATA', 'Kraasa', 'Campus', 'Adidas', 'Sparx', 'FURO by Redchief', 'Amazon Brand - Symactive', 'Unistar', 'TruTuff', 'ASIAN', 'ASIAN', 'FURO by Redchief', 'eeken', 'ASIAN', 'ASIAN', 'Allen Cooper', 'Hush Puppies', 'Red Tape', 'Bond Street by (Red Tape)', '', '', 'Tiger', 'ASIAN', 'DSC', 'HILLSON', 'Campus', 'Campus', 'Tiger', 'Campus', 'BATA', 'Bourge', 'Ambrick', 'Allen Cooper', 'Adidas', 'ASIAN', 'ASIAN', 'ASIAN', 'ASIAN', 'Tiger', 'Liberty', 'DSC', 'Campus', 'Campus', 'Udenchi', 'BATA', 'Sparx', 'NEOSAFE', '$TEST$S2CTestBrandIN', 'ASIAN', 'Adidas', 'B-TUF', 'Bourge', 'Bourge', 'Sparx', 'Campus', 'Bourge', 'Adidas', 'KDR', 'Campus', 'Sparx', 'Campus', 'Campus', 'Adidas', 'Nivia', 'Sparx', 'BATA', 'Kraasa', 'Campus', 'Adidas', 'Sparx', 'FURO by Redchief', 'Amazon Brand - Symactive', 'Unistar', 'TruTuff', 'ASIAN', 'ASIAN', 'FURO by Redchief', 'eeken', 'ASIAN', 'ASIAN', 'Allen Cooper', 'Hush Puppies', 'Red Tape', 'Bond Street by (Red Tape)', '', '', 'Tiger', 'ASIAN', 'DSC', 'HILLSON', 'Campus', 'Campus', 'Tiger', 'Campus', 'BATA', 'Bourge', 'Ambrick', 'Allen Cooper', 'Adidas', 'ASIAN', 'ASIAN', 'ASIAN', 'ASIAN', 'Tiger', 'Liberty', 'DSC', 'Campus', 'Campus', 'Udenchi', 'BATA', 'Sparx', 'NEOSAFE', '$TEST$S2CTestBrandIN', 'ASIAN', 'Adidas', 'B-TUF', 'Bourge', 'Bourge', 'Sparx', 'Campus', 'Bourge', 'Adidas', 'KDR', 'Campus', 'Sparx', 'Campus', 'Campus', 'Adidas', 'Nivia', 'Sparx', 'BATA', 'Kraasa', 'Campus', 'Adidas', 'Sparx', 'FURO by Redchief', 'Amazon Brand - Symactive', 'Unistar', 'TruTuff']\n",
      "[\"Men's Cosko Sports Running,Walking,Gym,Training Sneaker Lace-Up Shoes for Men's & Boy's\", \"Men's PRIME-01 Sports Walking,Running,Gym Shoes with Eva Sole Extra Jump Lightweight Casual Slip-On Sneaker Shoes for Men's & Boy's\", 'Mens R1016 C830 Running Shoes', 'Maroon Athleisure Lightweight Casual Shoes for Men (by Paragon)', \"Men's PRIME-01 Sports Walking,Running,Gym Shoes with Eva Sole Extra Jump Lightweight Casual Slip-On Sneaker Shoes for Men's & Boy's\", \"Men's Cosko Sports Running,Walking,Gym,Training Sneaker Lace-Up Shoes for Men's & Boy's\", \"Allen Cooper 1156 Men's Safety Shoe, Size-7 UK, Grey (1 Pair Free Socks)\", 'Men Corso Loafer Formal Shoes', 'Men Navy Sneaker', 'Men Black Walking Shoes', '', '', \"Tiger Ashi Hardware Black LOREX Men's Safety Shoes - 7 UK\", \"Men's Bullet-02 Sports,Running,Walking Shoes\", 'Beamer Cricket Shoes for Mens (Light Weight | Economical | Durable)', 'Hillson Workout Dual Density PVC Safety Shoe (Size-7 UK, Black)', \"Men's Royce-2 Running Shoes\", 'Mens Stonic Running Shoes', 'Tiger Black Leather High Ankle Leopard Steel Toe Safety Shoes - 7', \"Men's OXYFIT (N) Walking Shoe\", \"Men's Formal Dress Slip On Shoes\", \"Men's Loire-z126 Running Shoes\", 'Running Shoes for Men', 'Allen Cooper 1008 Hi-Ankle Safety Shoe, Size-7 UK, Black-Grey (Free Socks)', 'Mens Drogo M Running Shoes', \"Men's Wonder-13 Sports Running Shoes\", 'F-04 Running Shoes,Gym Shoes,Training Shoes,Walking Shoes,Sports Shoes for Men', \"Men's Wonder-13 Pro Sports Running,Walking,Gym Lightweight Eva Sole with Extra Jump Sneaker Shoes for Men's\", \"Superwalk-08 Sport Running Shoes for Men's\", \"Tiger Men's Leather High Ankle Leopard Steel Toe Safety Shoes (Size 7 UK, Black )\", 'Mens Wind-3 Formal Shoes', 'Zooter Cricket Shoe for Mens', \"Men's Rodeo-2 Running Shoes\", 'Mens Bull Pro Running Shoes', 'UD12GRAY Genuine Suede Leather Steel Toe Industrial Safety Shoe for Men', 'Mens Boss-ace Uniform Dress Shoe', 'Mens Sm 651 Industrial Shoe', 'NEOSAFE Centaur A2025_7,\"Limited edition\" ISI Marked Brown High Ankle Men\\'s Executive Safety Shoes with Steel Toe Size 7', 'Mens Sm-323 Sneaker', \"Men's Wonder-13 Sports Running Shoes\", 'Mens Statix M Sd Running Shoes', 'Fighter Cricket Shoes/Studs Spikes Sports for Men Boys Unisex Kids', 'Mens Loire-z1 Running Shoes', 'Mens Vega-z5 Running Shoes', \"Men's Running Shoes\", \"Men's Wisdom Running Shoes\", \"Men's Loire-z3 Running Shoes\", \"Men's Agora 1.0 Multisport Training Shoes\", 'Black Sports Shoes for Men Size-7', \"Men's Europa Running Shoes\", \"Men's Sx0674g Running Shoes\", \"Men's Maxico Running Shoes\", \"Men's Crysta Running Shoes\", \"Men's Hellion Z M Running Shoe\", 'Nivia Storm Football Shoe for Mens (Yellow) UK - 7', 'Men Running Shoes', 'mens BOSS -ACE Black Derby - 7 UK (8216226070)', 'mens Caskd4417-white Sneaker', \"Men's King PRO Walking Shoes\", \"Men's Clinch-X M Running Shoe\", 'Mens Sm-648 Sports Shoes', 'Mens R1016 C829 Running Shoes', \"Men's Running Shoe\", 'Jogging, Walking & Running (Narrow Toe) Shoes; 602-Black', 'Men Safety Shoes - Light Weight, Anti Smash Steel Toe, Puncture Resistant Kevlar Midsole, Anti Skid Protection', \"Men's Cosko Sports Running,Walking,Gym,Training Sneaker Lace-Up Shoes for Men's & Boy's\", \"Men's PRIME-01 Sports Walking,Running,Gym Shoes with Eva Sole Extra Jump Lightweight Casual Slip-On Sneaker Shoes for Men's & Boy's\", 'Mens R1016 C830 Running Shoes', 'Maroon Athleisure Lightweight Casual Shoes for Men (by Paragon)', \"Men's PRIME-01 Sports Walking,Running,Gym Shoes with Eva Sole Extra Jump Lightweight Casual Slip-On Sneaker Shoes for Men's & Boy's\", \"Men's Cosko Sports Running,Walking,Gym,Training Sneaker Lace-Up Shoes for Men's & Boy's\", \"Allen Cooper 1156 Men's Safety Shoe, Size-7 UK, Grey (1 Pair Free Socks)\", 'Men Corso Loafer Formal Shoes', 'Men Navy Sneaker', 'Men Black Walking Shoes', '', '', \"Tiger Ashi Hardware Black LOREX Men's Safety Shoes - 7 UK\", \"Men's Bullet-02 Sports,Running,Walking Shoes\", 'Beamer Cricket Shoes for Mens (Light Weight | Economical | Durable)', 'Hillson Workout Dual Density PVC Safety Shoe (Size-7 UK, Black)', \"Men's Royce-2 Running Shoes\", 'Mens Stonic Running Shoes', 'Tiger Black Leather High Ankle Leopard Steel Toe Safety Shoes - 7', \"Men's OXYFIT (N) Walking Shoe\", \"Men's Formal Dress Slip On Shoes\", \"Men's Loire-z126 Running Shoes\", 'Running Shoes for Men', 'Allen Cooper 1008 Hi-Ankle Safety Shoe, Size-7 UK, Black-Grey (Free Socks)', 'Mens Drogo M Running Shoes', \"Men's Wonder-13 Sports Running Shoes\", 'F-04 Running Shoes,Gym Shoes,Training Shoes,Walking Shoes,Sports Shoes for Men', \"Men's Wonder-13 Pro Sports Running,Walking,Gym Lightweight Eva Sole with Extra Jump Sneaker Shoes for Men's\", \"Superwalk-08 Sport Running Shoes for Men's\", \"Tiger Men's Leather High Ankle Leopard Steel Toe Safety Shoes (Size 7 UK, Black )\", 'Mens Wind-3 Formal Shoes', 'Zooter Cricket Shoe for Mens', \"Men's Rodeo-2 Running Shoes\", 'Mens Bull Pro Running Shoes', 'UD12GRAY Genuine Suede Leather Steel Toe Industrial Safety Shoe for Men', 'Mens Boss-ace Uniform Dress Shoe', 'Mens Sm 651 Industrial Shoe', 'NEOSAFE Centaur A2025_7,\"Limited edition\" ISI Marked Brown High Ankle Men\\'s Executive Safety Shoes with Steel Toe Size 7', 'Mens Sm-323 Sneaker', \"Men's Wonder-13 Sports Running Shoes\", 'Mens Statix M Sd Running Shoes', 'Fighter Cricket Shoes/Studs Spikes Sports for Men Boys Unisex Kids', 'Mens Loire-z1 Running Shoes', 'Mens Vega-z5 Running Shoes', \"Men's Running Shoes\", \"Men's Wisdom Running Shoes\", \"Men's Loire-z3 Running Shoes\", \"Men's Agora 1.0 Multisport Training Shoes\", 'Black Sports Shoes for Men Size-7', \"Men's Europa Running Shoes\", \"Men's Sx0674g Running Shoes\", \"Men's Maxico Running Shoes\", \"Men's Crysta Running Shoes\", \"Men's Hellion Z M Running Shoe\", 'Nivia Storm Football Shoe for Mens (Yellow) UK - 7', 'Men Running Shoes', 'mens BOSS -ACE Black Derby - 7 UK (8216226070)', 'mens Caskd4417-white Sneaker', \"Men's King PRO Walking Shoes\", \"Men's Clinch-X M Running Shoe\", 'Mens Sm-648 Sports Shoes', 'Mens R1016 C829 Running Shoes', \"Men's Running Shoe\", 'Jogging, Walking & Running (Narrow Toe) Shoes; 602-Black', 'Men Safety Shoes - Light Weight, Anti Smash Steel Toe, Puncture Resistant Kevlar Midsole, Anti Skid Protection', \"Men's Cosko Sports Running,Walking,Gym,Training Sneaker Lace-Up Shoes for Men's & Boy's\", \"Men's PRIME-01 Sports Walking,Running,Gym Shoes with Eva Sole Extra Jump Lightweight Casual Slip-On Sneaker Shoes for Men's & Boy's\", 'Mens R1016 C830 Running Shoes', 'Maroon Athleisure Lightweight Casual Shoes for Men (by Paragon)', \"Men's PRIME-01 Sports Walking,Running,Gym Shoes with Eva Sole Extra Jump Lightweight Casual Slip-On Sneaker Shoes for Men's & Boy's\", \"Men's Cosko Sports Running,Walking,Gym,Training Sneaker Lace-Up Shoes for Men's & Boy's\", \"Allen Cooper 1156 Men's Safety Shoe, Size-7 UK, Grey (1 Pair Free Socks)\", 'Men Corso Loafer Formal Shoes', 'Men Navy Sneaker', 'Men Black Walking Shoes', '', '', \"Tiger Ashi Hardware Black LOREX Men's Safety Shoes - 7 UK\", \"Men's Bullet-02 Sports,Running,Walking Shoes\", 'Beamer Cricket Shoes for Mens (Light Weight | Economical | Durable)', 'Hillson Workout Dual Density PVC Safety Shoe (Size-7 UK, Black)', \"Men's Royce-2 Running Shoes\", 'Mens Stonic Running Shoes', 'Tiger Black Leather High Ankle Leopard Steel Toe Safety Shoes - 7', \"Men's OXYFIT (N) Walking Shoe\", \"Men's Formal Dress Slip On Shoes\", \"Men's Loire-z126 Running Shoes\", 'Running Shoes for Men', 'Allen Cooper 1008 Hi-Ankle Safety Shoe, Size-7 UK, Black-Grey (Free Socks)', 'Mens Drogo M Running Shoes', \"Men's Wonder-13 Sports Running Shoes\", 'F-04 Running Shoes,Gym Shoes,Training Shoes,Walking Shoes,Sports Shoes for Men', \"Men's Wonder-13 Pro Sports Running,Walking,Gym Lightweight Eva Sole with Extra Jump Sneaker Shoes for Men's\", \"Superwalk-08 Sport Running Shoes for Men's\", \"Tiger Men's Leather High Ankle Leopard Steel Toe Safety Shoes (Size 7 UK, Black )\", 'Mens Wind-3 Formal Shoes', 'Zooter Cricket Shoe for Mens', \"Men's Rodeo-2 Running Shoes\", 'Mens Bull Pro Running Shoes', 'UD12GRAY Genuine Suede Leather Steel Toe Industrial Safety Shoe for Men', 'Mens Boss-ace Uniform Dress Shoe', 'Mens Sm 651 Industrial Shoe', 'NEOSAFE Centaur A2025_7,\"Limited edition\" ISI Marked Brown High Ankle Men\\'s Executive Safety Shoes with Steel Toe Size 7', 'Mens Sm-323 Sneaker', \"Men's Wonder-13 Sports Running Shoes\", 'Mens Statix M Sd Running Shoes', 'Fighter Cricket Shoes/Studs Spikes Sports for Men Boys Unisex Kids', 'Mens Loire-z1 Running Shoes', 'Mens Vega-z5 Running Shoes', \"Men's Running Shoes\", \"Men's Wisdom Running Shoes\", \"Men's Loire-z3 Running Shoes\", \"Men's Agora 1.0 Multisport Training Shoes\", 'Black Sports Shoes for Men Size-7', \"Men's Europa Running Shoes\", \"Men's Sx0674g Running Shoes\", \"Men's Maxico Running Shoes\", \"Men's Crysta Running Shoes\", \"Men's Hellion Z M Running Shoe\", 'Nivia Storm Football Shoe for Mens (Yellow) UK - 7', 'Men Running Shoes', 'mens BOSS -ACE Black Derby - 7 UK (8216226070)', 'mens Caskd4417-white Sneaker', \"Men's King PRO Walking Shoes\", \"Men's Clinch-X M Running Shoe\", 'Mens Sm-648 Sports Shoes', 'Mens R1016 C829 Running Shoes', \"Men's Running Shoe\", 'Jogging, Walking & Running (Narrow Toe) Shoes; 602-Black', 'Men Safety Shoes - Light Weight, Anti Smash Steel Toe, Puncture Resistant Kevlar Midsole, Anti Skid Protection', \"Men's Cosko Sports Running,Walking,Gym,Training Sneaker Lace-Up Shoes for Men's & Boy's\", \"Men's PRIME-01 Sports Walking,Running,Gym Shoes with Eva Sole Extra Jump Lightweight Casual Slip-On Sneaker Shoes for Men's & Boy's\", 'Mens R1016 C830 Running Shoes', 'Maroon Athleisure Lightweight Casual Shoes for Men (by Paragon)', \"Men's PRIME-01 Sports Walking,Running,Gym Shoes with Eva Sole Extra Jump Lightweight Casual Slip-On Sneaker Shoes for Men's & Boy's\", \"Men's Cosko Sports Running,Walking,Gym,Training Sneaker Lace-Up Shoes for Men's & Boy's\", \"Allen Cooper 1156 Men's Safety Shoe, Size-7 UK, Grey (1 Pair Free Socks)\", 'Men Corso Loafer Formal Shoes', 'Men Navy Sneaker', 'Men Black Walking Shoes', '', '', \"Tiger Ashi Hardware Black LOREX Men's Safety Shoes - 7 UK\", \"Men's Bullet-02 Sports,Running,Walking Shoes\", 'Beamer Cricket Shoes for Mens (Light Weight | Economical | Durable)', 'Hillson Workout Dual Density PVC Safety Shoe (Size-7 UK, Black)', \"Men's Royce-2 Running Shoes\", 'Mens Stonic Running Shoes', 'Tiger Black Leather High Ankle Leopard Steel Toe Safety Shoes - 7', \"Men's OXYFIT (N) Walking Shoe\", \"Men's Formal Dress Slip On Shoes\", \"Men's Loire-z126 Running Shoes\", 'Running Shoes for Men', 'Allen Cooper 1008 Hi-Ankle Safety Shoe, Size-7 UK, Black-Grey (Free Socks)', 'Mens Drogo M Running Shoes', \"Men's Wonder-13 Sports Running Shoes\", 'F-04 Running Shoes,Gym Shoes,Training Shoes,Walking Shoes,Sports Shoes for Men', \"Men's Wonder-13 Pro Sports Running,Walking,Gym Lightweight Eva Sole with Extra Jump Sneaker Shoes for Men's\", \"Superwalk-08 Sport Running Shoes for Men's\", \"Tiger Men's Leather High Ankle Leopard Steel Toe Safety Shoes (Size 7 UK, Black )\", 'Mens Wind-3 Formal Shoes', 'Zooter Cricket Shoe for Mens', \"Men's Rodeo-2 Running Shoes\", 'Mens Bull Pro Running Shoes', 'UD12GRAY Genuine Suede Leather Steel Toe Industrial Safety Shoe for Men', 'Mens Boss-ace Uniform Dress Shoe', 'Mens Sm 651 Industrial Shoe', 'NEOSAFE Centaur A2025_7,\"Limited edition\" ISI Marked Brown High Ankle Men\\'s Executive Safety Shoes with Steel Toe Size 7', 'Mens Sm-323 Sneaker', \"Men's Wonder-13 Sports Running Shoes\", 'Mens Statix M Sd Running Shoes', 'Fighter Cricket Shoes/Studs Spikes Sports for Men Boys Unisex Kids', 'Mens Loire-z1 Running Shoes', 'Mens Vega-z5 Running Shoes', \"Men's Running Shoes\", \"Men's Wisdom Running Shoes\", \"Men's Loire-z3 Running Shoes\", \"Men's Agora 1.0 Multisport Training Shoes\", 'Black Sports Shoes for Men Size-7', \"Men's Europa Running Shoes\", \"Men's Sx0674g Running Shoes\", \"Men's Maxico Running Shoes\", \"Men's Crysta Running Shoes\", \"Men's Hellion Z M Running Shoe\", 'Nivia Storm Football Shoe for Mens (Yellow) UK - 7', 'Men Running Shoes', 'mens BOSS -ACE Black Derby - 7 UK (8216226070)', 'mens Caskd4417-white Sneaker', \"Men's King PRO Walking Shoes\", \"Men's Clinch-X M Running Shoe\", 'Mens Sm-648 Sports Shoes', 'Mens R1016 C829 Running Shoes', \"Men's Running Shoe\", 'Jogging, Walking & Running (Narrow Toe) Shoes; 602-Black', 'Men Safety Shoes - Light Weight, Anti Smash Steel Toe, Puncture Resistant Kevlar Midsole, Anti Skid Protection']\n",
      "['https://www.amazon.in/sspa/click?ie=UTF8&spc=MToyNDgzODk1NjE2NzE0NDk4OjE2NzEwMzI4ODI6c3BfYXRmOjIwMDI3ODE4NjQ4MTA3OjowOjo&url=%2FASIAN-Cosco-Mouse-Walking-Shoes%2Fdp%2FB07FRTXPYQ%2Fref%3Dsr_1_1_sspa%3Fcrid%3D3OZX2GI0YBUEY%26keywords%3DMens%2Bshoes%2Bsize%2B7%26qid%3D1671032882%26sprefix%3Dmens%2Bshoes%2Bsize%2B7%252Caps%252C155%26sr%3D8-1-spons%26sp_csd%3Dd2lkZ2V0TmFtZT1zcF9hdGY%26psc%3D1', 'https://www.amazon.in/sspa/click?ie=UTF8&spc=MToyNDgzODk1NjE2NzE0NDk4OjE2NzEwMzI4ODI6c3BfYXRmOjIwMDI3ODE4NTg2NDA3OjowOjo&url=%2FASIAN-Prime-01-Orange-Running-Shoes%2Fdp%2FB07DY35K8C%2Fref%3Dsr_1_2_sspa%3Fcrid%3D3OZX2GI0YBUEY%26keywords%3DMens%2Bshoes%2Bsize%2B7%26qid%3D1671032882%26sprefix%3Dmens%2Bshoes%2Bsize%2B7%252Caps%252C155%26sr%3D8-2-spons%26sp_csd%3Dd2lkZ2V0TmFtZT1zcF9hdGY%26psc%3D1', 'https://www.amazon.in/sspa/click?ie=UTF8&spc=MToyNDgzODk1NjE2NzE0NDk4OjE2NzEwMzI4ODI6c3BfYXRmOjIwMDkwODkxNjY0MTk4OjowOjo&url=%2FFuro-Red-Chief-Running-R1016%2Fdp%2FB07F37NXTD%2Fref%3Dsr_1_3_sspa%3Fcrid%3D3OZX2GI0YBUEY%26keywords%3DMens%2Bshoes%2Bsize%2B7%26qid%3D1671032882%26sprefix%3Dmens%2Bshoes%2Bsize%2B7%252Caps%252C155%26sr%3D8-3-spons%26sp_csd%3Dd2lkZ2V0TmFtZT1zcF9hdGY%26psc%3D1', 'https://www.amazon.in/sspa/click?ie=UTF8&spc=MToyNDgzODk1NjE2NzE0NDk4OjE2NzEwMzI4ODI6c3BfYXRmOjIwMDg0MDI2NDUxMTA1OjowOjo&url=%2Feeken-Athleisure-Lightweight-Casual-Paragon%2Fdp%2FB08M3CXV74%2Fref%3Dsr_1_4_sspa%3Fcrid%3D3OZX2GI0YBUEY%26keywords%3DMens%2Bshoes%2Bsize%2B7%26qid%3D1671032882%26sprefix%3Dmens%2Bshoes%2Bsize%2B7%252Caps%252C155%26sr%3D8-4-spons%26sp_csd%3Dd2lkZ2V0TmFtZT1zcF9hdGY%26psc%3D1', 'https://www.amazon.in/ASIAN-Prime-01-Orange-Running-Shoes/dp/B07DY35K8C/ref=sr_1_5?crid=3OZX2GI0YBUEY&keywords=Mens+shoes+size+7&qid=1671032882&sprefix=mens+shoes+size+7%2Caps%2C155&sr=8-5', 'https://www.amazon.in/ASIAN-Cosco-Mouse-Walking-Shoes/dp/B07FRTXPYQ/ref=sr_1_6?crid=3OZX2GI0YBUEY&keywords=Mens+shoes+size+7&qid=1671032882&sprefix=mens+shoes+size+7%2Caps%2C155&sr=8-6', 'https://www.amazon.in/Allen-Cooper-1156-Safety-Size-7/dp/B013V4E7OQ/ref=sr_1_7?crid=3OZX2GI0YBUEY&keywords=Mens+shoes+size+7&qid=1671032882&sprefix=mens+shoes+size+7%2Caps%2C155&sr=8-7', 'https://www.amazon.in/Hush-Puppies-Loafer-Shoes-11-8546734/dp/B079QFV8F9/ref=sxin_15_popular-discounts-recommendation_1?content-id=amzn1.sym.f95f283c-9b17-458a-af1c-9e8769c6fd9e%3Aamzn1.sym.f95f283c-9b17-458a-af1c-9e8769c6fd9e&crid=3OZX2GI0YBUEY&cv_ct_cx=Mens+shoes+size+7&keywords=Mens+shoes+size+7&pd_rd_i=B079QFV8F9&pd_rd_r=be643bf6-6a63-45ad-a639-573c64097818&pd_rd_w=7BueZ&pd_rd_wg=aU5b8&pf_rd_p=f95f283c-9b17-458a-af1c-9e8769c6fd9e&pf_rd_r=RMSMQ8KKKHRPBTT2NG3W&qid=1671032882&sprefix=mens+shoes+size+7%2Caps%2C155&sr=1-1-df273b7b-639b-496b-8427-b1aabaae8e8a', 'https://www.amazon.in/Red-Tape-Classic-Sneakers-11-RTE157/dp/B07YM3CBXD/ref=sxin_15_popular-discounts-recommendation_2?content-id=amzn1.sym.f95f283c-9b17-458a-af1c-9e8769c6fd9e%3Aamzn1.sym.f95f283c-9b17-458a-af1c-9e8769c6fd9e&crid=3OZX2GI0YBUEY&cv_ct_cx=Mens+shoes+size+7&keywords=Mens+shoes+size+7&pd_rd_i=B07YM3CBXD&pd_rd_r=be643bf6-6a63-45ad-a639-573c64097818&pd_rd_w=7BueZ&pd_rd_wg=aU5b8&pf_rd_p=f95f283c-9b17-458a-af1c-9e8769c6fd9e&pf_rd_r=RMSMQ8KKKHRPBTT2NG3W&qid=1671032882&sprefix=mens+shoes+size+7%2Caps%2C155&sr=1-2-df273b7b-639b-496b-8427-b1aabaae8e8a', 'https://www.amazon.in/Bond-Street-Red-Tape-Running/dp/B08RBZQ3W4/ref=sxin_15_popular-discounts-recommendation_3?content-id=amzn1.sym.f95f283c-9b17-458a-af1c-9e8769c6fd9e%3Aamzn1.sym.f95f283c-9b17-458a-af1c-9e8769c6fd9e&crid=3OZX2GI0YBUEY&cv_ct_cx=Mens+shoes+size+7&keywords=Mens+shoes+size+7&pd_rd_i=B08RBZQ3W4&pd_rd_r=be643bf6-6a63-45ad-a639-573c64097818&pd_rd_w=7BueZ&pd_rd_wg=aU5b8&pf_rd_p=f95f283c-9b17-458a-af1c-9e8769c6fd9e&pf_rd_r=RMSMQ8KKKHRPBTT2NG3W&qid=1671032882&sprefix=mens+shoes+size+7%2Caps%2C155&sr=1-3-df273b7b-639b-496b-8427-b1aabaae8e8a', 'https://www.amazon.in/Reebok-Fusion-Xtreme-Conavy-FW0343/dp/B0861ZMP3Z/ref=sxin_15_popular-discounts-recommendation_4?content-id=amzn1.sym.f95f283c-9b17-458a-af1c-9e8769c6fd9e%3Aamzn1.sym.f95f283c-9b17-458a-af1c-9e8769c6fd9e&crid=3OZX2GI0YBUEY&cv_ct_cx=Mens+shoes+size+7&keywords=Mens+shoes+size+7&pd_rd_i=B0861ZMP3Z&pd_rd_r=be643bf6-6a63-45ad-a639-573c64097818&pd_rd_w=7BueZ&pd_rd_wg=aU5b8&pf_rd_p=f95f283c-9b17-458a-af1c-9e8769c6fd9e&pf_rd_r=RMSMQ8KKKHRPBTT2NG3W&qid=1671032882&sprefix=mens+shoes+size+7%2Caps%2C155&sr=1-4-df273b7b-639b-496b-8427-b1aabaae8e8a', 'https://www.amazon.in/Red-Tape-Black-Sneakers-11-RTE2381/dp/B083GTC9P1/ref=sxin_15_popular-discounts-recommendation_5?content-id=amzn1.sym.f95f283c-9b17-458a-af1c-9e8769c6fd9e%3Aamzn1.sym.f95f283c-9b17-458a-af1c-9e8769c6fd9e&crid=3OZX2GI0YBUEY&cv_ct_cx=Mens+shoes+size+7&keywords=Mens+shoes+size+7&pd_rd_i=B083GTC9P1&pd_rd_r=be643bf6-6a63-45ad-a639-573c64097818&pd_rd_w=7BueZ&pd_rd_wg=aU5b8&pf_rd_p=f95f283c-9b17-458a-af1c-9e8769c6fd9e&pf_rd_r=RMSMQ8KKKHRPBTT2NG3W&qid=1671032882&sprefix=mens+shoes+size+7%2Caps%2C155&sr=1-5-df273b7b-639b-496b-8427-b1aabaae8e8a', 'https://www.amazon.in/Tiger-Hardware-Black-Safety-Shoes/dp/B01N02Q25K/ref=sr_1_8?crid=3OZX2GI0YBUEY&keywords=Mens+shoes+size+7&qid=1671032882&sprefix=mens+shoes+size+7%2Caps%2C155&sr=8-8', 'https://www.amazon.in/ASIAN-P-Green-Bullet-Running-B02s7cDGPG/dp/B00QH30AQS/ref=sr_1_9?crid=3OZX2GI0YBUEY&keywords=Mens+shoes+size+7&qid=1671032882&sprefix=mens+shoes+size+7%2Caps%2C155&sr=8-9', 'https://www.amazon.in/DSC-Beamer-Cricket-Shoes-Orange-White/dp/B07WN5L577/ref=sr_1_10?crid=3OZX2GI0YBUEY&keywords=Mens+shoes+size+7&qid=1671032882&sprefix=mens+shoes+size+7%2Caps%2C155&sr=8-10', 'https://www.amazon.in/Hillson-Workout-Density-Safety-UK/dp/B086QZJT97/ref=sr_1_11?crid=3OZX2GI0YBUEY&keywords=Mens+shoes+size+7&qid=1671032882&sprefix=mens+shoes+size+7%2Caps%2C155&sr=8-11', 'https://www.amazon.in/Campus-Royce-2-Running-Shoes-7-CG-248/dp/B07NDHH682/ref=sr_1_12?crid=3OZX2GI0YBUEY&keywords=Mens+shoes+size+7&qid=1671032882&sprefix=mens+shoes+size+7%2Caps%2C155&sr=8-12', 'https://www.amazon.in/Campus-Stonic-Running-Shoes-7-5G-680/dp/B07XCWX4F6/ref=sr_1_13?crid=3OZX2GI0YBUEY&keywords=Mens+shoes+size+7&qid=1671032882&sprefix=mens+shoes+size+7%2Caps%2C155&sr=8-13', 'https://www.amazon.in/Tiger-Ankle-Leopard-Steel-Safety/dp/B01N8QD78B/ref=sr_1_14?crid=3OZX2GI0YBUEY&keywords=Mens+shoes+size+7&qid=1671032882&sprefix=mens+shoes+size+7%2Caps%2C155&sr=8-14', 'https://www.amazon.in/Campus-OXYFIT-Walking-Shoes-India/dp/B09RPVTZFG/ref=sr_1_15?crid=3OZX2GI0YBUEY&keywords=Mens+shoes+size+7&qid=1671032882&sprefix=mens+shoes+size+7%2Caps%2C155&sr=8-15', 'https://www.amazon.in/BATA-851-6012-41-Black-Formal-Dress/dp/B08H5ND4DZ/ref=sr_1_16?crid=3OZX2GI0YBUEY&keywords=Mens+shoes+size+7&qid=1671032882&sprefix=mens+shoes+size+7%2Caps%2C155&sr=8-16', 'https://www.amazon.in/Bourge-Loire-63-Running-Shoes-7-Loire-63-D-Grey-07/dp/B07MFJTDL3/ref=sr_1_17?crid=3OZX2GI0YBUEY&keywords=Mens+shoes+size+7&qid=1671032882&sprefix=mens+shoes+size+7%2Caps%2C155&sr=8-17', 'https://www.amazon.in/Ambrick-Running-Shoes-Black-Size/dp/B0BJ7BW3JR/ref=sr_1_18?crid=3OZX2GI0YBUEY&keywords=Mens+shoes+size+7&qid=1671032882&sprefix=mens+shoes+size+7%2Caps%2C155&sr=8-18', 'https://www.amazon.in/Allen-Cooper-Hi-Ankle-Safety-Black-Grey/dp/B013V4EC8W/ref=sr_1_19?crid=3OZX2GI0YBUEY&keywords=Mens+shoes+size+7&qid=1671032882&sprefix=mens+shoes+size+7%2Caps%2C155&sr=8-19', 'https://www.amazon.in/Adidas-Conavy-Running-Shoes-7-CL4155_7/dp/B07M871J1T/ref=sr_1_20?crid=3OZX2GI0YBUEY&keywords=Mens+shoes+size+7&qid=1671032882&sprefix=mens+shoes+size+7%2Caps%2C155&sr=8-20', 'https://www.amazon.in/sspa/click?ie=UTF8&spc=MToyNDgzODk1NjE2NzE0NDk4OjE2NzEwMzI4ODI6c3BfbXRmOjIwMDc1MjE0MTU3Njk4OjowOjo&url=%2FASIAN-Wonder-Firozi-Sports-Indian%2Fdp%2FB01MTQ5M7B%2Fref%3Dsr_1_21_sspa%3Fcrid%3D3OZX2GI0YBUEY%26keywords%3DMens%2Bshoes%2Bsize%2B7%26qid%3D1671032882%26sprefix%3Dmens%2Bshoes%2Bsize%2B7%252Caps%252C155%26sr%3D8-21-spons%26sp_csd%3Dd2lkZ2V0TmFtZT1zcF9tdGY%26psc%3D1', 'https://www.amazon.in/sspa/click?ie=UTF8&spc=MToyNDgzODk1NjE2NzE0NDk4OjE2NzEwMzI4ODI6c3BfbXRmOjIwMDc4MjcwOTcyOTk4OjowOjo&url=%2FAsian-Shoes-Mens-Black-Sports%2Fdp%2FB01L84SRNS%2Fref%3Dsr_1_22_sspa%3Fcrid%3D3OZX2GI0YBUEY%26keywords%3DMens%2Bshoes%2Bsize%2B7%26qid%3D1671032882%26sprefix%3Dmens%2Bshoes%2Bsize%2B7%252Caps%252C155%26sr%3D8-22-spons%26sp_csd%3Dd2lkZ2V0TmFtZT1zcF9tdGY%26psc%3D1', 'https://www.amazon.in/sspa/click?ie=UTF8&spc=MToyNDgzODk1NjE2NzE0NDk4OjE2NzEwMzI4ODI6c3BfbXRmOjIwMDc3MTAzMTE4ODk4OjowOjo&url=%2FASIAN-Cosco-13-Running-Sports-Multicolor%2Fdp%2FB07V2GPDZY%2Fref%3Dsr_1_23_sspa%3Fcrid%3D3OZX2GI0YBUEY%26keywords%3DMens%2Bshoes%2Bsize%2B7%26qid%3D1671032882%26sprefix%3Dmens%2Bshoes%2Bsize%2B7%252Caps%252C155%26sr%3D8-23-spons%26sp_csd%3Dd2lkZ2V0TmFtZT1zcF9tdGY%26psc%3D1', 'https://www.amazon.in/sspa/click?ie=UTF8&spc=MToyNDgzODk1NjE2NzE0NDk4OjE2NzEwMzI4ODI6c3BfbXRmOjIwMDc2NzAwMjY4Nzk4OjowOjo&url=%2FASIAN-Superwalk-08-Sport-Running-Shoes%2Fdp%2FB09RXSVHWD%2Fref%3Dsr_1_24_sspa%3Fcrid%3D3OZX2GI0YBUEY%26keywords%3DMens%2Bshoes%2Bsize%2B7%26qid%3D1671032882%26sprefix%3Dmens%2Bshoes%2Bsize%2B7%252Caps%252C155%26sr%3D8-24-spons%26sp_csd%3Dd2lkZ2V0TmFtZT1zcF9tdGY%26psc%3D1%26smid%3DA3OZBP9WERCHBG', 'https://www.amazon.in/Tiger-Leopard-Safety-Shoes_Size-trading/dp/B07GJT18D8/ref=sr_1_25?crid=3OZX2GI0YBUEY&keywords=Mens+shoes+size+7&qid=1671032882&sprefix=mens+shoes+size+7%2Caps%2C155&sr=8-25', 'https://www.amazon.in/Windsor-Liberty-Wind-3-Black-Formal/dp/B07BH3GHV6/ref=sr_1_26?crid=3OZX2GI0YBUEY&keywords=Mens+shoes+size+7&qid=1671032882&sprefix=mens+shoes+size+7%2Caps%2C155&sr=8-26', 'https://www.amazon.in/DSC-Zooter-Cricket-Size-7-White-Blue/dp/B08PWQ7BTP/ref=sr_1_27?crid=3OZX2GI0YBUEY&keywords=Mens+shoes+size+7&qid=1671032882&sprefix=mens+shoes+size+7%2Caps%2C155&sr=8-27', 'https://www.amazon.in/Campus-Rodeo-PRO-Running-Shoes/dp/B09RPT3NJF/ref=sr_1_28?crid=3OZX2GI0YBUEY&keywords=Mens+shoes+size+7&qid=1671032882&sprefix=mens+shoes+size+7%2Caps%2C155&sr=8-28', 'https://www.amazon.in/Campus-PRO-F-ORG-Running-Shoes/dp/B09RBHDXHF/ref=sr_1_29?crid=3OZX2GI0YBUEY&keywords=Mens+shoes+size+7&qid=1671032882&sprefix=mens+shoes+size+7%2Caps%2C155&sr=8-29', 'https://www.amazon.in/Udenchi-UD12GRAY7-Genuine-Leather-Industrial/dp/B08SKHKH5D/ref=sr_1_30?crid=3OZX2GI0YBUEY&keywords=Mens+shoes+size+7&qid=1671032882&sprefix=mens+shoes+size+7%2Caps%2C155&sr=8-30', 'https://www.amazon.in/BATA-Boss-ace-Uniform-Shoe-7-8214026/dp/B096BJRVSH/ref=sr_1_31?crid=3OZX2GI0YBUEY&keywords=Mens+shoes+size+7&qid=1671032882&sprefix=mens+shoes+size+7%2Caps%2C155&sr=8-31', 'https://www.amazon.in/Sparx-Outdoor-Perfect-Comfortable-SM-651G/dp/B08SBWDHCX/ref=sr_1_32?crid=3OZX2GI0YBUEY&keywords=Mens+shoes+size+7&qid=1671032882&sprefix=mens+shoes+size+7%2Caps%2C155&sr=8-32', 'https://www.amazon.in/NEOSAFE-Centaur-A2025_7-Limited-Executive/dp/B08T8MTS1Z/ref=sr_1_33?crid=3OZX2GI0YBUEY&keywords=Mens+shoes+size+7&qid=1671032882&sprefix=mens+shoes+size+7%2Caps%2C155&sr=8-33', 'https://www.amazon.in/Sparx-Sneakers-7-India-40-67-SD0323G/dp/B077N9MSM8/ref=sr_1_34?crid=3OZX2GI0YBUEY&keywords=Mens+shoes+size+7&qid=1671032882&sprefix=mens+shoes+size+7%2Caps%2C155&sr=8-34', 'https://www.amazon.in/ASIAN-Wonder-Firozi-Sports-Indian/dp/B01MTQ5M7B/ref=sr_1_35?crid=3OZX2GI0YBUEY&keywords=Mens+shoes+size+7&qid=1671032882&sprefix=mens+shoes+size+7%2Caps%2C155&sr=8-35', 'https://www.amazon.in/Adidas-Statix-Running-EW5540_CONAVY-LEGGLD/dp/B08FZV9S3B/ref=sr_1_36?crid=3OZX2GI0YBUEY&keywords=Mens+shoes+size+7&qid=1671032882&sprefix=mens+shoes+size+7%2Caps%2C155&sr=8-36', 'https://www.amazon.in/B-TUF-Fighter-Cricket-Spikes-Sports/dp/B096QLCJNL/ref=sr_1_37?crid=3OZX2GI0YBUEY&keywords=Mens+shoes+size+7&qid=1671032882&sprefix=mens+shoes+size+7%2Caps%2C155&sr=8-37', 'https://www.amazon.in/Bourge-Loire-1-Running-Shoes-6-Loire-1-Grey-06/dp/B07LF6R71L/ref=sr_1_38?crid=3OZX2GI0YBUEY&keywords=Mens+shoes+size+7&qid=1671032882&sprefix=mens+shoes+size+7%2Caps%2C155&sr=8-38', 'https://www.amazon.in/Bourge-Vega-3-Running-Shoes-7-Vega-3-R-Blue-07/dp/B07MLQHGS1/ref=sr_1_39?crid=3OZX2GI0YBUEY&keywords=Mens+shoes+size+7&qid=1671032882&sprefix=mens+shoes+size+7%2Caps%2C155&sr=8-39', 'https://www.amazon.in/Sparx-Black-White-Running-Shoes/dp/B01MTL4S5K/ref=sr_1_40?crid=3OZX2GI0YBUEY&keywords=Mens+shoes+size+7&qid=1671032882&sprefix=mens+shoes+size+7%2Caps%2C155&sr=8-40', 'https://www.amazon.in/Campus-Wisdom-Running-Shoes-7-5G-681/dp/B07Z7PB331/ref=sr_1_41?crid=3OZX2GI0YBUEY&keywords=Mens+shoes+size+7&qid=1671032882&sprefix=mens+shoes+size+7%2Caps%2C155&sr=8-41', 'https://www.amazon.in/Bourge-Loire-7-Mehroon-Running-Loire-7-Mehroon-07/dp/B07LFDBRLH/ref=sr_1_42?crid=3OZX2GI0YBUEY&keywords=Mens+shoes+size+7&qid=1671032882&sprefix=mens+shoes+size+7%2Caps%2C155&sr=8-42', 'https://www.amazon.in/Adidas-Multisport-Training-Shoes-7-S48720/dp/B076H19K7B/ref=sr_1_43?crid=3OZX2GI0YBUEY&keywords=Mens+shoes+size+7&qid=1671032882&sprefix=mens+shoes+size+7%2Caps%2C155&sr=8-43', 'https://www.amazon.in/KDR-Black-Sports-Shoes-Size-7/dp/B09TTJX4KK/ref=sr_1_44?crid=3OZX2GI0YBUEY&keywords=Mens+shoes+size+7&qid=1671032882&sprefix=mens+shoes+size+7%2Caps%2C155&sr=8-44', 'https://www.amazon.in/Campus-Europa-Running-Shoes-India/dp/B099FH4X8M/ref=sr_1_45?crid=3OZX2GI0YBUEY&keywords=Mens+shoes+size+7&qid=1671032882&sprefix=mens+shoes+size+7%2Caps%2C155&sr=8-45', 'https://www.amazon.in/Sparx-Yellow-Running-Shoes-7-SX0674G_NBGD0007/dp/B08MCV25RN/ref=sr_1_46?crid=3OZX2GI0YBUEY&keywords=Mens+shoes+size+7&qid=1671032882&sprefix=mens+shoes+size+7%2Caps%2C155&sr=8-46', 'https://www.amazon.in/Campus-Maxico-MODBLU-BLU-Running-Shoes/dp/B0855ZDZCX/ref=sr_1_47?crid=3OZX2GI0YBUEY&keywords=Mens+shoes+size+7&qid=1671032882&sprefix=mens+shoes+size+7%2Caps%2C155&sr=8-47', 'https://www.amazon.in/Campus-Crysta-PRO-Running-Shoes/dp/B09RBG3MXD/ref=sr_1_48?crid=3OZX2GI0YBUEY&keywords=Mens+shoes+size+7&qid=1671032882&sprefix=mens+shoes+size+7%2Caps%2C155&sr=8-48', 'https://www.amazon.in/Adidas-Hellion-Running-Shoes-7-CM4813/dp/B082Q9BRPD/ref=sr_1_49?crid=3OZX2GI0YBUEY&keywords=Mens+shoes+size+7&qid=1671032882&sprefix=mens+shoes+size+7%2Caps%2C155&sr=8-49', 'https://www.amazon.in/Nivia-Storm-Football-Yellow-Numeric_7/dp/B08XXQD7PZ/ref=sr_1_50_mod_primary_new?crid=3OZX2GI0YBUEY&keywords=Mens+shoes+size+7&qid=1671032882&sbo=RZvfv%2F%2FHxDF%2BO5021pAnSA%3D%3D&sprefix=mens+shoes+size+7%2Caps%2C155&sr=8-50', 'https://www.amazon.in/Sparx-SM-406-Grey-Sports-Shoes/dp/B07H4FQT9F/ref=sr_1_51?crid=3OZX2GI0YBUEY&keywords=Mens+shoes+size+7&qid=1671032882&sprefix=mens+shoes+size+7%2Caps%2C155&sr=8-51', 'https://www.amazon.in/BATA-BOSS-ACE-Uniform-Shoe-7-8216026/dp/B0987QN6V3/ref=sr_1_52?crid=3OZX2GI0YBUEY&keywords=Mens+shoes+size+7&qid=1671032882&sprefix=mens+shoes+size+7%2Caps%2C155&sr=8-52', 'https://www.amazon.in/Kraasa-Mens-White-Sneaker-UK/dp/B08CDYC6QY/ref=sr_1_53?crid=3OZX2GI0YBUEY&keywords=Mens+shoes+size+7&qid=1671032882&sprefix=mens+shoes+size+7%2Caps%2C155&sr=8-53', 'https://www.amazon.in/Campus-PRO-Walking-Shoes-India/dp/B09RBDYYNS/ref=sr_1_54?crid=3OZX2GI0YBUEY&keywords=Mens+shoes+size+7&qid=1671032882&sprefix=mens+shoes+size+7%2Caps%2C155&sr=8-54', 'https://www.amazon.in/Adidas-Mens-Clinch-X-Running-Shoe/dp/B08FZTH9NS/ref=sr_1_55?crid=3OZX2GI0YBUEY&keywords=Mens+shoes+size+7&qid=1671032882&sprefix=mens+shoes+size+7%2Caps%2C155&sr=8-55', 'https://www.amazon.in/Sparx-SM-648-Orange-Running-SX0648GDGNO0007/dp/B08K9KP8GX/ref=sr_1_56?crid=3OZX2GI0YBUEY&keywords=Mens+shoes+size+7&qid=1671032882&sprefix=mens+shoes+size+7%2Caps%2C155&sr=8-56', 'https://www.amazon.in/sspa/click?ie=UTF8&spc=MToyNDgzODk1NjE2NzE0NDk4OjE2NzEwMzI4ODI6c3BfYnRmOjIwMDkwODkxNjYzNzk4OjowOjo&url=%2FFuro-Red-Chief-Running-Shoes%2Fdp%2FB07F2ZYKNQ%2Fref%3Dsr_1_57_sspa%3Fcrid%3D3OZX2GI0YBUEY%26keywords%3DMens%2Bshoes%2Bsize%2B7%26qid%3D1671032882%26sprefix%3Dmens%2Bshoes%2Bsize%2B7%252Caps%252C155%26sr%3D8-57-spons%26sp_csd%3Dd2lkZ2V0TmFtZT1zcF9idGY%26psc%3D1', 'https://www.amazon.in/sspa/click?ie=UTF8&spc=MToyNDgzODk1NjE2NzE0NDk4OjE2NzEwMzI4ODI6c3BfYnRmOjIwMDkyMTE0NDkwNzk4OjowOjo&url=%2FAmazon-Brand-Symactive-Running-SYM-SS-038D%2Fdp%2FB07TVJ9ST2%2Fref%3Dsr_1_58_sspa%3Fcrid%3D3OZX2GI0YBUEY%26keywords%3DMens%2Bshoes%2Bsize%2B7%26qid%3D1671032882%26sprefix%3Dmens%2Bshoes%2Bsize%2B7%252Caps%252C155%26sr%3D8-58-spons%26sp_csd%3Dd2lkZ2V0TmFtZT1zcF9idGY%26psc%3D1', 'https://www.amazon.in/sspa/click?ie=UTF8&spc=MToyNDgzODk1NjE2NzE0NDk4OjE2NzEwMzI4ODI6c3BfYnRmOjIwMDMyNTY5MjUwMTk4OjowOjo&url=%2FUnistar-Nylon-Narrow-Running-Shoes%2Fdp%2FB01MZEL6ZN%2Fref%3Dsr_1_59_sspa%3Fcrid%3D3OZX2GI0YBUEY%26keywords%3DMens%2Bshoes%2Bsize%2B7%26qid%3D1671032882%26sprefix%3Dmens%2Bshoes%2Bsize%2B7%252Caps%252C155%26sr%3D8-59-spons%26sp_csd%3Dd2lkZ2V0TmFtZT1zcF9idGY%26psc%3D1', 'https://www.amazon.in/sspa/click?ie=UTF8&spc=MToyNDgzODk1NjE2NzE0NDk4OjE2NzEwMzI4ODI6c3BfYnRmOjIwMTAyMDU3NTMxMDk4OjowOjo&url=%2FTruTuff-Wick-Resistant-Construction-Warehouse%2Fdp%2FB0B5XW3FZB%2Fref%3Dsr_1_60_sspa%3Fcrid%3D3OZX2GI0YBUEY%26keywords%3DMens%2Bshoes%2Bsize%2B7%26qid%3D1671032882%26sprefix%3Dmens%2Bshoes%2Bsize%2B7%252Caps%252C155%26sr%3D8-60-spons%26sp_csd%3Dd2lkZ2V0TmFtZT1zcF9idGY%26psc%3D1', 'https://www.amazon.in/sspa/click?ie=UTF8&spc=MToyNDgzODk1NjE2NzE0NDk4OjE2NzEwMzI4ODI6c3BfYXRmOjIwMDI3ODE4NjQ4MTA3OjowOjo&url=%2FASIAN-Cosco-Mouse-Walking-Shoes%2Fdp%2FB07FRTXPYQ%2Fref%3Dsr_1_1_sspa%3Fcrid%3D3OZX2GI0YBUEY%26keywords%3DMens%2Bshoes%2Bsize%2B7%26qid%3D1671032882%26sprefix%3Dmens%2Bshoes%2Bsize%2B7%252Caps%252C155%26sr%3D8-1-spons%26sp_csd%3Dd2lkZ2V0TmFtZT1zcF9hdGY%26psc%3D1', 'https://www.amazon.in/sspa/click?ie=UTF8&spc=MToyNDgzODk1NjE2NzE0NDk4OjE2NzEwMzI4ODI6c3BfYXRmOjIwMDI3ODE4NTg2NDA3OjowOjo&url=%2FASIAN-Prime-01-Orange-Running-Shoes%2Fdp%2FB07DY35K8C%2Fref%3Dsr_1_2_sspa%3Fcrid%3D3OZX2GI0YBUEY%26keywords%3DMens%2Bshoes%2Bsize%2B7%26qid%3D1671032882%26sprefix%3Dmens%2Bshoes%2Bsize%2B7%252Caps%252C155%26sr%3D8-2-spons%26sp_csd%3Dd2lkZ2V0TmFtZT1zcF9hdGY%26psc%3D1', 'https://www.amazon.in/sspa/click?ie=UTF8&spc=MToyNDgzODk1NjE2NzE0NDk4OjE2NzEwMzI4ODI6c3BfYXRmOjIwMDkwODkxNjY0MTk4OjowOjo&url=%2FFuro-Red-Chief-Running-R1016%2Fdp%2FB07F37NXTD%2Fref%3Dsr_1_3_sspa%3Fcrid%3D3OZX2GI0YBUEY%26keywords%3DMens%2Bshoes%2Bsize%2B7%26qid%3D1671032882%26sprefix%3Dmens%2Bshoes%2Bsize%2B7%252Caps%252C155%26sr%3D8-3-spons%26sp_csd%3Dd2lkZ2V0TmFtZT1zcF9hdGY%26psc%3D1', 'https://www.amazon.in/sspa/click?ie=UTF8&spc=MToyNDgzODk1NjE2NzE0NDk4OjE2NzEwMzI4ODI6c3BfYXRmOjIwMDg0MDI2NDUxMTA1OjowOjo&url=%2Feeken-Athleisure-Lightweight-Casual-Paragon%2Fdp%2FB08M3CXV74%2Fref%3Dsr_1_4_sspa%3Fcrid%3D3OZX2GI0YBUEY%26keywords%3DMens%2Bshoes%2Bsize%2B7%26qid%3D1671032882%26sprefix%3Dmens%2Bshoes%2Bsize%2B7%252Caps%252C155%26sr%3D8-4-spons%26sp_csd%3Dd2lkZ2V0TmFtZT1zcF9hdGY%26psc%3D1', 'https://www.amazon.in/ASIAN-Prime-01-Orange-Running-Shoes/dp/B07DY35K8C/ref=sr_1_5?crid=3OZX2GI0YBUEY&keywords=Mens+shoes+size+7&qid=1671032882&sprefix=mens+shoes+size+7%2Caps%2C155&sr=8-5', 'https://www.amazon.in/ASIAN-Cosco-Mouse-Walking-Shoes/dp/B07FRTXPYQ/ref=sr_1_6?crid=3OZX2GI0YBUEY&keywords=Mens+shoes+size+7&qid=1671032882&sprefix=mens+shoes+size+7%2Caps%2C155&sr=8-6', 'https://www.amazon.in/Allen-Cooper-1156-Safety-Size-7/dp/B013V4E7OQ/ref=sr_1_7?crid=3OZX2GI0YBUEY&keywords=Mens+shoes+size+7&qid=1671032882&sprefix=mens+shoes+size+7%2Caps%2C155&sr=8-7', 'https://www.amazon.in/Hush-Puppies-Loafer-Shoes-11-8546734/dp/B079QFV8F9/ref=sxin_15_popular-discounts-recommendation_1?content-id=amzn1.sym.f95f283c-9b17-458a-af1c-9e8769c6fd9e%3Aamzn1.sym.f95f283c-9b17-458a-af1c-9e8769c6fd9e&crid=3OZX2GI0YBUEY&cv_ct_cx=Mens+shoes+size+7&keywords=Mens+shoes+size+7&pd_rd_i=B079QFV8F9&pd_rd_r=be643bf6-6a63-45ad-a639-573c64097818&pd_rd_w=7BueZ&pd_rd_wg=aU5b8&pf_rd_p=f95f283c-9b17-458a-af1c-9e8769c6fd9e&pf_rd_r=RMSMQ8KKKHRPBTT2NG3W&qid=1671032882&sprefix=mens+shoes+size+7%2Caps%2C155&sr=1-1-df273b7b-639b-496b-8427-b1aabaae8e8a', 'https://www.amazon.in/Red-Tape-Classic-Sneakers-11-RTE157/dp/B07YM3CBXD/ref=sxin_15_popular-discounts-recommendation_2?content-id=amzn1.sym.f95f283c-9b17-458a-af1c-9e8769c6fd9e%3Aamzn1.sym.f95f283c-9b17-458a-af1c-9e8769c6fd9e&crid=3OZX2GI0YBUEY&cv_ct_cx=Mens+shoes+size+7&keywords=Mens+shoes+size+7&pd_rd_i=B07YM3CBXD&pd_rd_r=be643bf6-6a63-45ad-a639-573c64097818&pd_rd_w=7BueZ&pd_rd_wg=aU5b8&pf_rd_p=f95f283c-9b17-458a-af1c-9e8769c6fd9e&pf_rd_r=RMSMQ8KKKHRPBTT2NG3W&qid=1671032882&sprefix=mens+shoes+size+7%2Caps%2C155&sr=1-2-df273b7b-639b-496b-8427-b1aabaae8e8a', 'https://www.amazon.in/Bond-Street-Red-Tape-Running/dp/B08RBZQ3W4/ref=sxin_15_popular-discounts-recommendation_3?content-id=amzn1.sym.f95f283c-9b17-458a-af1c-9e8769c6fd9e%3Aamzn1.sym.f95f283c-9b17-458a-af1c-9e8769c6fd9e&crid=3OZX2GI0YBUEY&cv_ct_cx=Mens+shoes+size+7&keywords=Mens+shoes+size+7&pd_rd_i=B08RBZQ3W4&pd_rd_r=be643bf6-6a63-45ad-a639-573c64097818&pd_rd_w=7BueZ&pd_rd_wg=aU5b8&pf_rd_p=f95f283c-9b17-458a-af1c-9e8769c6fd9e&pf_rd_r=RMSMQ8KKKHRPBTT2NG3W&qid=1671032882&sprefix=mens+shoes+size+7%2Caps%2C155&sr=1-3-df273b7b-639b-496b-8427-b1aabaae8e8a', 'https://www.amazon.in/Reebok-Fusion-Xtreme-Conavy-FW0343/dp/B0861ZMP3Z/ref=sxin_15_popular-discounts-recommendation_4?content-id=amzn1.sym.f95f283c-9b17-458a-af1c-9e8769c6fd9e%3Aamzn1.sym.f95f283c-9b17-458a-af1c-9e8769c6fd9e&crid=3OZX2GI0YBUEY&cv_ct_cx=Mens+shoes+size+7&keywords=Mens+shoes+size+7&pd_rd_i=B0861ZMP3Z&pd_rd_r=be643bf6-6a63-45ad-a639-573c64097818&pd_rd_w=7BueZ&pd_rd_wg=aU5b8&pf_rd_p=f95f283c-9b17-458a-af1c-9e8769c6fd9e&pf_rd_r=RMSMQ8KKKHRPBTT2NG3W&qid=1671032882&sprefix=mens+shoes+size+7%2Caps%2C155&sr=1-4-df273b7b-639b-496b-8427-b1aabaae8e8a', 'https://www.amazon.in/Red-Tape-Black-Sneakers-11-RTE2381/dp/B083GTC9P1/ref=sxin_15_popular-discounts-recommendation_5?content-id=amzn1.sym.f95f283c-9b17-458a-af1c-9e8769c6fd9e%3Aamzn1.sym.f95f283c-9b17-458a-af1c-9e8769c6fd9e&crid=3OZX2GI0YBUEY&cv_ct_cx=Mens+shoes+size+7&keywords=Mens+shoes+size+7&pd_rd_i=B083GTC9P1&pd_rd_r=be643bf6-6a63-45ad-a639-573c64097818&pd_rd_w=7BueZ&pd_rd_wg=aU5b8&pf_rd_p=f95f283c-9b17-458a-af1c-9e8769c6fd9e&pf_rd_r=RMSMQ8KKKHRPBTT2NG3W&qid=1671032882&sprefix=mens+shoes+size+7%2Caps%2C155&sr=1-5-df273b7b-639b-496b-8427-b1aabaae8e8a', 'https://www.amazon.in/Tiger-Hardware-Black-Safety-Shoes/dp/B01N02Q25K/ref=sr_1_8?crid=3OZX2GI0YBUEY&keywords=Mens+shoes+size+7&qid=1671032882&sprefix=mens+shoes+size+7%2Caps%2C155&sr=8-8', 'https://www.amazon.in/ASIAN-P-Green-Bullet-Running-B02s7cDGPG/dp/B00QH30AQS/ref=sr_1_9?crid=3OZX2GI0YBUEY&keywords=Mens+shoes+size+7&qid=1671032882&sprefix=mens+shoes+size+7%2Caps%2C155&sr=8-9', 'https://www.amazon.in/DSC-Beamer-Cricket-Shoes-Orange-White/dp/B07WN5L577/ref=sr_1_10?crid=3OZX2GI0YBUEY&keywords=Mens+shoes+size+7&qid=1671032882&sprefix=mens+shoes+size+7%2Caps%2C155&sr=8-10', 'https://www.amazon.in/Hillson-Workout-Density-Safety-UK/dp/B086QZJT97/ref=sr_1_11?crid=3OZX2GI0YBUEY&keywords=Mens+shoes+size+7&qid=1671032882&sprefix=mens+shoes+size+7%2Caps%2C155&sr=8-11', 'https://www.amazon.in/Campus-Royce-2-Running-Shoes-7-CG-248/dp/B07NDHH682/ref=sr_1_12?crid=3OZX2GI0YBUEY&keywords=Mens+shoes+size+7&qid=1671032882&sprefix=mens+shoes+size+7%2Caps%2C155&sr=8-12', 'https://www.amazon.in/Campus-Stonic-Running-Shoes-7-5G-680/dp/B07XCWX4F6/ref=sr_1_13?crid=3OZX2GI0YBUEY&keywords=Mens+shoes+size+7&qid=1671032882&sprefix=mens+shoes+size+7%2Caps%2C155&sr=8-13', 'https://www.amazon.in/Tiger-Ankle-Leopard-Steel-Safety/dp/B01N8QD78B/ref=sr_1_14?crid=3OZX2GI0YBUEY&keywords=Mens+shoes+size+7&qid=1671032882&sprefix=mens+shoes+size+7%2Caps%2C155&sr=8-14', 'https://www.amazon.in/Campus-OXYFIT-Walking-Shoes-India/dp/B09RPVTZFG/ref=sr_1_15?crid=3OZX2GI0YBUEY&keywords=Mens+shoes+size+7&qid=1671032882&sprefix=mens+shoes+size+7%2Caps%2C155&sr=8-15', 'https://www.amazon.in/BATA-851-6012-41-Black-Formal-Dress/dp/B08H5ND4DZ/ref=sr_1_16?crid=3OZX2GI0YBUEY&keywords=Mens+shoes+size+7&qid=1671032882&sprefix=mens+shoes+size+7%2Caps%2C155&sr=8-16', 'https://www.amazon.in/Bourge-Loire-63-Running-Shoes-7-Loire-63-D-Grey-07/dp/B07MFJTDL3/ref=sr_1_17?crid=3OZX2GI0YBUEY&keywords=Mens+shoes+size+7&qid=1671032882&sprefix=mens+shoes+size+7%2Caps%2C155&sr=8-17', 'https://www.amazon.in/Ambrick-Running-Shoes-Black-Size/dp/B0BJ7BW3JR/ref=sr_1_18?crid=3OZX2GI0YBUEY&keywords=Mens+shoes+size+7&qid=1671032882&sprefix=mens+shoes+size+7%2Caps%2C155&sr=8-18', 'https://www.amazon.in/Allen-Cooper-Hi-Ankle-Safety-Black-Grey/dp/B013V4EC8W/ref=sr_1_19?crid=3OZX2GI0YBUEY&keywords=Mens+shoes+size+7&qid=1671032882&sprefix=mens+shoes+size+7%2Caps%2C155&sr=8-19', 'https://www.amazon.in/Adidas-Conavy-Running-Shoes-7-CL4155_7/dp/B07M871J1T/ref=sr_1_20?crid=3OZX2GI0YBUEY&keywords=Mens+shoes+size+7&qid=1671032882&sprefix=mens+shoes+size+7%2Caps%2C155&sr=8-20', 'https://www.amazon.in/sspa/click?ie=UTF8&spc=MToyNDgzODk1NjE2NzE0NDk4OjE2NzEwMzI4ODI6c3BfbXRmOjIwMDc1MjE0MTU3Njk4OjowOjo&url=%2FASIAN-Wonder-Firozi-Sports-Indian%2Fdp%2FB01MTQ5M7B%2Fref%3Dsr_1_21_sspa%3Fcrid%3D3OZX2GI0YBUEY%26keywords%3DMens%2Bshoes%2Bsize%2B7%26qid%3D1671032882%26sprefix%3Dmens%2Bshoes%2Bsize%2B7%252Caps%252C155%26sr%3D8-21-spons%26sp_csd%3Dd2lkZ2V0TmFtZT1zcF9tdGY%26psc%3D1', 'https://www.amazon.in/sspa/click?ie=UTF8&spc=MToyNDgzODk1NjE2NzE0NDk4OjE2NzEwMzI4ODI6c3BfbXRmOjIwMDc4MjcwOTcyOTk4OjowOjo&url=%2FAsian-Shoes-Mens-Black-Sports%2Fdp%2FB01L84SRNS%2Fref%3Dsr_1_22_sspa%3Fcrid%3D3OZX2GI0YBUEY%26keywords%3DMens%2Bshoes%2Bsize%2B7%26qid%3D1671032882%26sprefix%3Dmens%2Bshoes%2Bsize%2B7%252Caps%252C155%26sr%3D8-22-spons%26sp_csd%3Dd2lkZ2V0TmFtZT1zcF9tdGY%26psc%3D1', 'https://www.amazon.in/sspa/click?ie=UTF8&spc=MToyNDgzODk1NjE2NzE0NDk4OjE2NzEwMzI4ODI6c3BfbXRmOjIwMDc3MTAzMTE4ODk4OjowOjo&url=%2FASIAN-Cosco-13-Running-Sports-Multicolor%2Fdp%2FB07V2GPDZY%2Fref%3Dsr_1_23_sspa%3Fcrid%3D3OZX2GI0YBUEY%26keywords%3DMens%2Bshoes%2Bsize%2B7%26qid%3D1671032882%26sprefix%3Dmens%2Bshoes%2Bsize%2B7%252Caps%252C155%26sr%3D8-23-spons%26sp_csd%3Dd2lkZ2V0TmFtZT1zcF9tdGY%26psc%3D1', 'https://www.amazon.in/sspa/click?ie=UTF8&spc=MToyNDgzODk1NjE2NzE0NDk4OjE2NzEwMzI4ODI6c3BfbXRmOjIwMDc2NzAwMjY4Nzk4OjowOjo&url=%2FASIAN-Superwalk-08-Sport-Running-Shoes%2Fdp%2FB09RXSVHWD%2Fref%3Dsr_1_24_sspa%3Fcrid%3D3OZX2GI0YBUEY%26keywords%3DMens%2Bshoes%2Bsize%2B7%26qid%3D1671032882%26sprefix%3Dmens%2Bshoes%2Bsize%2B7%252Caps%252C155%26sr%3D8-24-spons%26sp_csd%3Dd2lkZ2V0TmFtZT1zcF9tdGY%26psc%3D1%26smid%3DA3OZBP9WERCHBG', 'https://www.amazon.in/Tiger-Leopard-Safety-Shoes_Size-trading/dp/B07GJT18D8/ref=sr_1_25?crid=3OZX2GI0YBUEY&keywords=Mens+shoes+size+7&qid=1671032882&sprefix=mens+shoes+size+7%2Caps%2C155&sr=8-25', 'https://www.amazon.in/Windsor-Liberty-Wind-3-Black-Formal/dp/B07BH3GHV6/ref=sr_1_26?crid=3OZX2GI0YBUEY&keywords=Mens+shoes+size+7&qid=1671032882&sprefix=mens+shoes+size+7%2Caps%2C155&sr=8-26', 'https://www.amazon.in/DSC-Zooter-Cricket-Size-7-White-Blue/dp/B08PWQ7BTP/ref=sr_1_27?crid=3OZX2GI0YBUEY&keywords=Mens+shoes+size+7&qid=1671032882&sprefix=mens+shoes+size+7%2Caps%2C155&sr=8-27', 'https://www.amazon.in/Campus-Rodeo-PRO-Running-Shoes/dp/B09RPT3NJF/ref=sr_1_28?crid=3OZX2GI0YBUEY&keywords=Mens+shoes+size+7&qid=1671032882&sprefix=mens+shoes+size+7%2Caps%2C155&sr=8-28', 'https://www.amazon.in/Campus-PRO-F-ORG-Running-Shoes/dp/B09RBHDXHF/ref=sr_1_29?crid=3OZX2GI0YBUEY&keywords=Mens+shoes+size+7&qid=1671032882&sprefix=mens+shoes+size+7%2Caps%2C155&sr=8-29', 'https://www.amazon.in/Udenchi-UD12GRAY7-Genuine-Leather-Industrial/dp/B08SKHKH5D/ref=sr_1_30?crid=3OZX2GI0YBUEY&keywords=Mens+shoes+size+7&qid=1671032882&sprefix=mens+shoes+size+7%2Caps%2C155&sr=8-30', 'https://www.amazon.in/BATA-Boss-ace-Uniform-Shoe-7-8214026/dp/B096BJRVSH/ref=sr_1_31?crid=3OZX2GI0YBUEY&keywords=Mens+shoes+size+7&qid=1671032882&sprefix=mens+shoes+size+7%2Caps%2C155&sr=8-31', 'https://www.amazon.in/Sparx-Outdoor-Perfect-Comfortable-SM-651G/dp/B08SBWDHCX/ref=sr_1_32?crid=3OZX2GI0YBUEY&keywords=Mens+shoes+size+7&qid=1671032882&sprefix=mens+shoes+size+7%2Caps%2C155&sr=8-32', 'https://www.amazon.in/NEOSAFE-Centaur-A2025_7-Limited-Executive/dp/B08T8MTS1Z/ref=sr_1_33?crid=3OZX2GI0YBUEY&keywords=Mens+shoes+size+7&qid=1671032882&sprefix=mens+shoes+size+7%2Caps%2C155&sr=8-33', 'https://www.amazon.in/Sparx-Sneakers-7-India-40-67-SD0323G/dp/B077N9MSM8/ref=sr_1_34?crid=3OZX2GI0YBUEY&keywords=Mens+shoes+size+7&qid=1671032882&sprefix=mens+shoes+size+7%2Caps%2C155&sr=8-34', 'https://www.amazon.in/ASIAN-Wonder-Firozi-Sports-Indian/dp/B01MTQ5M7B/ref=sr_1_35?crid=3OZX2GI0YBUEY&keywords=Mens+shoes+size+7&qid=1671032882&sprefix=mens+shoes+size+7%2Caps%2C155&sr=8-35', 'https://www.amazon.in/Adidas-Statix-Running-EW5540_CONAVY-LEGGLD/dp/B08FZV9S3B/ref=sr_1_36?crid=3OZX2GI0YBUEY&keywords=Mens+shoes+size+7&qid=1671032882&sprefix=mens+shoes+size+7%2Caps%2C155&sr=8-36', 'https://www.amazon.in/B-TUF-Fighter-Cricket-Spikes-Sports/dp/B096QLCJNL/ref=sr_1_37?crid=3OZX2GI0YBUEY&keywords=Mens+shoes+size+7&qid=1671032882&sprefix=mens+shoes+size+7%2Caps%2C155&sr=8-37', 'https://www.amazon.in/Bourge-Loire-1-Running-Shoes-6-Loire-1-Grey-06/dp/B07LF6R71L/ref=sr_1_38?crid=3OZX2GI0YBUEY&keywords=Mens+shoes+size+7&qid=1671032882&sprefix=mens+shoes+size+7%2Caps%2C155&sr=8-38', 'https://www.amazon.in/Bourge-Vega-3-Running-Shoes-7-Vega-3-R-Blue-07/dp/B07MLQHGS1/ref=sr_1_39?crid=3OZX2GI0YBUEY&keywords=Mens+shoes+size+7&qid=1671032882&sprefix=mens+shoes+size+7%2Caps%2C155&sr=8-39', 'https://www.amazon.in/Sparx-Black-White-Running-Shoes/dp/B01MTL4S5K/ref=sr_1_40?crid=3OZX2GI0YBUEY&keywords=Mens+shoes+size+7&qid=1671032882&sprefix=mens+shoes+size+7%2Caps%2C155&sr=8-40', 'https://www.amazon.in/Campus-Wisdom-Running-Shoes-7-5G-681/dp/B07Z7PB331/ref=sr_1_41?crid=3OZX2GI0YBUEY&keywords=Mens+shoes+size+7&qid=1671032882&sprefix=mens+shoes+size+7%2Caps%2C155&sr=8-41', 'https://www.amazon.in/Bourge-Loire-7-Mehroon-Running-Loire-7-Mehroon-07/dp/B07LFDBRLH/ref=sr_1_42?crid=3OZX2GI0YBUEY&keywords=Mens+shoes+size+7&qid=1671032882&sprefix=mens+shoes+size+7%2Caps%2C155&sr=8-42', 'https://www.amazon.in/Adidas-Multisport-Training-Shoes-7-S48720/dp/B076H19K7B/ref=sr_1_43?crid=3OZX2GI0YBUEY&keywords=Mens+shoes+size+7&qid=1671032882&sprefix=mens+shoes+size+7%2Caps%2C155&sr=8-43', 'https://www.amazon.in/KDR-Black-Sports-Shoes-Size-7/dp/B09TTJX4KK/ref=sr_1_44?crid=3OZX2GI0YBUEY&keywords=Mens+shoes+size+7&qid=1671032882&sprefix=mens+shoes+size+7%2Caps%2C155&sr=8-44', 'https://www.amazon.in/Campus-Europa-Running-Shoes-India/dp/B099FH4X8M/ref=sr_1_45?crid=3OZX2GI0YBUEY&keywords=Mens+shoes+size+7&qid=1671032882&sprefix=mens+shoes+size+7%2Caps%2C155&sr=8-45', 'https://www.amazon.in/Sparx-Yellow-Running-Shoes-7-SX0674G_NBGD0007/dp/B08MCV25RN/ref=sr_1_46?crid=3OZX2GI0YBUEY&keywords=Mens+shoes+size+7&qid=1671032882&sprefix=mens+shoes+size+7%2Caps%2C155&sr=8-46', 'https://www.amazon.in/Campus-Maxico-MODBLU-BLU-Running-Shoes/dp/B0855ZDZCX/ref=sr_1_47?crid=3OZX2GI0YBUEY&keywords=Mens+shoes+size+7&qid=1671032882&sprefix=mens+shoes+size+7%2Caps%2C155&sr=8-47', 'https://www.amazon.in/Campus-Crysta-PRO-Running-Shoes/dp/B09RBG3MXD/ref=sr_1_48?crid=3OZX2GI0YBUEY&keywords=Mens+shoes+size+7&qid=1671032882&sprefix=mens+shoes+size+7%2Caps%2C155&sr=8-48', 'https://www.amazon.in/Adidas-Hellion-Running-Shoes-7-CM4813/dp/B082Q9BRPD/ref=sr_1_49?crid=3OZX2GI0YBUEY&keywords=Mens+shoes+size+7&qid=1671032882&sprefix=mens+shoes+size+7%2Caps%2C155&sr=8-49', 'https://www.amazon.in/Nivia-Storm-Football-Yellow-Numeric_7/dp/B08XXQD7PZ/ref=sr_1_50_mod_primary_new?crid=3OZX2GI0YBUEY&keywords=Mens+shoes+size+7&qid=1671032882&sbo=RZvfv%2F%2FHxDF%2BO5021pAnSA%3D%3D&sprefix=mens+shoes+size+7%2Caps%2C155&sr=8-50', 'https://www.amazon.in/Sparx-SM-406-Grey-Sports-Shoes/dp/B07H4FQT9F/ref=sr_1_51?crid=3OZX2GI0YBUEY&keywords=Mens+shoes+size+7&qid=1671032882&sprefix=mens+shoes+size+7%2Caps%2C155&sr=8-51', 'https://www.amazon.in/BATA-BOSS-ACE-Uniform-Shoe-7-8216026/dp/B0987QN6V3/ref=sr_1_52?crid=3OZX2GI0YBUEY&keywords=Mens+shoes+size+7&qid=1671032882&sprefix=mens+shoes+size+7%2Caps%2C155&sr=8-52', 'https://www.amazon.in/Kraasa-Mens-White-Sneaker-UK/dp/B08CDYC6QY/ref=sr_1_53?crid=3OZX2GI0YBUEY&keywords=Mens+shoes+size+7&qid=1671032882&sprefix=mens+shoes+size+7%2Caps%2C155&sr=8-53', 'https://www.amazon.in/Campus-PRO-Walking-Shoes-India/dp/B09RBDYYNS/ref=sr_1_54?crid=3OZX2GI0YBUEY&keywords=Mens+shoes+size+7&qid=1671032882&sprefix=mens+shoes+size+7%2Caps%2C155&sr=8-54', 'https://www.amazon.in/Adidas-Mens-Clinch-X-Running-Shoe/dp/B08FZTH9NS/ref=sr_1_55?crid=3OZX2GI0YBUEY&keywords=Mens+shoes+size+7&qid=1671032882&sprefix=mens+shoes+size+7%2Caps%2C155&sr=8-55', 'https://www.amazon.in/Sparx-SM-648-Orange-Running-SX0648GDGNO0007/dp/B08K9KP8GX/ref=sr_1_56?crid=3OZX2GI0YBUEY&keywords=Mens+shoes+size+7&qid=1671032882&sprefix=mens+shoes+size+7%2Caps%2C155&sr=8-56', 'https://www.amazon.in/sspa/click?ie=UTF8&spc=MToyNDgzODk1NjE2NzE0NDk4OjE2NzEwMzI4ODI6c3BfYnRmOjIwMDkwODkxNjYzNzk4OjowOjo&url=%2FFuro-Red-Chief-Running-Shoes%2Fdp%2FB07F2ZYKNQ%2Fref%3Dsr_1_57_sspa%3Fcrid%3D3OZX2GI0YBUEY%26keywords%3DMens%2Bshoes%2Bsize%2B7%26qid%3D1671032882%26sprefix%3Dmens%2Bshoes%2Bsize%2B7%252Caps%252C155%26sr%3D8-57-spons%26sp_csd%3Dd2lkZ2V0TmFtZT1zcF9idGY%26psc%3D1', 'https://www.amazon.in/sspa/click?ie=UTF8&spc=MToyNDgzODk1NjE2NzE0NDk4OjE2NzEwMzI4ODI6c3BfYnRmOjIwMDkyMTE0NDkwNzk4OjowOjo&url=%2FAmazon-Brand-Symactive-Running-SYM-SS-038D%2Fdp%2FB07TVJ9ST2%2Fref%3Dsr_1_58_sspa%3Fcrid%3D3OZX2GI0YBUEY%26keywords%3DMens%2Bshoes%2Bsize%2B7%26qid%3D1671032882%26sprefix%3Dmens%2Bshoes%2Bsize%2B7%252Caps%252C155%26sr%3D8-58-spons%26sp_csd%3Dd2lkZ2V0TmFtZT1zcF9idGY%26psc%3D1', 'https://www.amazon.in/sspa/click?ie=UTF8&spc=MToyNDgzODk1NjE2NzE0NDk4OjE2NzEwMzI4ODI6c3BfYnRmOjIwMDMyNTY5MjUwMTk4OjowOjo&url=%2FUnistar-Nylon-Narrow-Running-Shoes%2Fdp%2FB01MZEL6ZN%2Fref%3Dsr_1_59_sspa%3Fcrid%3D3OZX2GI0YBUEY%26keywords%3DMens%2Bshoes%2Bsize%2B7%26qid%3D1671032882%26sprefix%3Dmens%2Bshoes%2Bsize%2B7%252Caps%252C155%26sr%3D8-59-spons%26sp_csd%3Dd2lkZ2V0TmFtZT1zcF9idGY%26psc%3D1', 'https://www.amazon.in/sspa/click?ie=UTF8&spc=MToyNDgzODk1NjE2NzE0NDk4OjE2NzEwMzI4ODI6c3BfYnRmOjIwMTAyMDU3NTMxMDk4OjowOjo&url=%2FTruTuff-Wick-Resistant-Construction-Warehouse%2Fdp%2FB0B5XW3FZB%2Fref%3Dsr_1_60_sspa%3Fcrid%3D3OZX2GI0YBUEY%26keywords%3DMens%2Bshoes%2Bsize%2B7%26qid%3D1671032882%26sprefix%3Dmens%2Bshoes%2Bsize%2B7%252Caps%252C155%26sr%3D8-60-spons%26sp_csd%3Dd2lkZ2V0TmFtZT1zcF9idGY%26psc%3D1', 'https://www.amazon.in/sspa/click?ie=UTF8&spc=MToyNDgzODk1NjE2NzE0NDk4OjE2NzEwMzI4ODI6c3BfYXRmOjIwMDI3ODE4NjQ4MTA3OjowOjo&url=%2FASIAN-Cosco-Mouse-Walking-Shoes%2Fdp%2FB07FRTXPYQ%2Fref%3Dsr_1_1_sspa%3Fcrid%3D3OZX2GI0YBUEY%26keywords%3DMens%2Bshoes%2Bsize%2B7%26qid%3D1671032882%26sprefix%3Dmens%2Bshoes%2Bsize%2B7%252Caps%252C155%26sr%3D8-1-spons%26sp_csd%3Dd2lkZ2V0TmFtZT1zcF9hdGY%26psc%3D1', 'https://www.amazon.in/sspa/click?ie=UTF8&spc=MToyNDgzODk1NjE2NzE0NDk4OjE2NzEwMzI4ODI6c3BfYXRmOjIwMDI3ODE4NTg2NDA3OjowOjo&url=%2FASIAN-Prime-01-Orange-Running-Shoes%2Fdp%2FB07DY35K8C%2Fref%3Dsr_1_2_sspa%3Fcrid%3D3OZX2GI0YBUEY%26keywords%3DMens%2Bshoes%2Bsize%2B7%26qid%3D1671032882%26sprefix%3Dmens%2Bshoes%2Bsize%2B7%252Caps%252C155%26sr%3D8-2-spons%26sp_csd%3Dd2lkZ2V0TmFtZT1zcF9hdGY%26psc%3D1', 'https://www.amazon.in/sspa/click?ie=UTF8&spc=MToyNDgzODk1NjE2NzE0NDk4OjE2NzEwMzI4ODI6c3BfYXRmOjIwMDkwODkxNjY0MTk4OjowOjo&url=%2FFuro-Red-Chief-Running-R1016%2Fdp%2FB07F37NXTD%2Fref%3Dsr_1_3_sspa%3Fcrid%3D3OZX2GI0YBUEY%26keywords%3DMens%2Bshoes%2Bsize%2B7%26qid%3D1671032882%26sprefix%3Dmens%2Bshoes%2Bsize%2B7%252Caps%252C155%26sr%3D8-3-spons%26sp_csd%3Dd2lkZ2V0TmFtZT1zcF9hdGY%26psc%3D1', 'https://www.amazon.in/sspa/click?ie=UTF8&spc=MToyNDgzODk1NjE2NzE0NDk4OjE2NzEwMzI4ODI6c3BfYXRmOjIwMDg0MDI2NDUxMTA1OjowOjo&url=%2Feeken-Athleisure-Lightweight-Casual-Paragon%2Fdp%2FB08M3CXV74%2Fref%3Dsr_1_4_sspa%3Fcrid%3D3OZX2GI0YBUEY%26keywords%3DMens%2Bshoes%2Bsize%2B7%26qid%3D1671032882%26sprefix%3Dmens%2Bshoes%2Bsize%2B7%252Caps%252C155%26sr%3D8-4-spons%26sp_csd%3Dd2lkZ2V0TmFtZT1zcF9hdGY%26psc%3D1', 'https://www.amazon.in/ASIAN-Prime-01-Orange-Running-Shoes/dp/B07DY35K8C/ref=sr_1_5?crid=3OZX2GI0YBUEY&keywords=Mens+shoes+size+7&qid=1671032882&sprefix=mens+shoes+size+7%2Caps%2C155&sr=8-5', 'https://www.amazon.in/ASIAN-Cosco-Mouse-Walking-Shoes/dp/B07FRTXPYQ/ref=sr_1_6?crid=3OZX2GI0YBUEY&keywords=Mens+shoes+size+7&qid=1671032882&sprefix=mens+shoes+size+7%2Caps%2C155&sr=8-6', 'https://www.amazon.in/Allen-Cooper-1156-Safety-Size-7/dp/B013V4E7OQ/ref=sr_1_7?crid=3OZX2GI0YBUEY&keywords=Mens+shoes+size+7&qid=1671032882&sprefix=mens+shoes+size+7%2Caps%2C155&sr=8-7', 'https://www.amazon.in/Hush-Puppies-Loafer-Shoes-11-8546734/dp/B079QFV8F9/ref=sxin_15_popular-discounts-recommendation_1?content-id=amzn1.sym.f95f283c-9b17-458a-af1c-9e8769c6fd9e%3Aamzn1.sym.f95f283c-9b17-458a-af1c-9e8769c6fd9e&crid=3OZX2GI0YBUEY&cv_ct_cx=Mens+shoes+size+7&keywords=Mens+shoes+size+7&pd_rd_i=B079QFV8F9&pd_rd_r=be643bf6-6a63-45ad-a639-573c64097818&pd_rd_w=7BueZ&pd_rd_wg=aU5b8&pf_rd_p=f95f283c-9b17-458a-af1c-9e8769c6fd9e&pf_rd_r=RMSMQ8KKKHRPBTT2NG3W&qid=1671032882&sprefix=mens+shoes+size+7%2Caps%2C155&sr=1-1-df273b7b-639b-496b-8427-b1aabaae8e8a', 'https://www.amazon.in/Red-Tape-Classic-Sneakers-11-RTE157/dp/B07YM3CBXD/ref=sxin_15_popular-discounts-recommendation_2?content-id=amzn1.sym.f95f283c-9b17-458a-af1c-9e8769c6fd9e%3Aamzn1.sym.f95f283c-9b17-458a-af1c-9e8769c6fd9e&crid=3OZX2GI0YBUEY&cv_ct_cx=Mens+shoes+size+7&keywords=Mens+shoes+size+7&pd_rd_i=B07YM3CBXD&pd_rd_r=be643bf6-6a63-45ad-a639-573c64097818&pd_rd_w=7BueZ&pd_rd_wg=aU5b8&pf_rd_p=f95f283c-9b17-458a-af1c-9e8769c6fd9e&pf_rd_r=RMSMQ8KKKHRPBTT2NG3W&qid=1671032882&sprefix=mens+shoes+size+7%2Caps%2C155&sr=1-2-df273b7b-639b-496b-8427-b1aabaae8e8a', 'https://www.amazon.in/Bond-Street-Red-Tape-Running/dp/B08RBZQ3W4/ref=sxin_15_popular-discounts-recommendation_3?content-id=amzn1.sym.f95f283c-9b17-458a-af1c-9e8769c6fd9e%3Aamzn1.sym.f95f283c-9b17-458a-af1c-9e8769c6fd9e&crid=3OZX2GI0YBUEY&cv_ct_cx=Mens+shoes+size+7&keywords=Mens+shoes+size+7&pd_rd_i=B08RBZQ3W4&pd_rd_r=be643bf6-6a63-45ad-a639-573c64097818&pd_rd_w=7BueZ&pd_rd_wg=aU5b8&pf_rd_p=f95f283c-9b17-458a-af1c-9e8769c6fd9e&pf_rd_r=RMSMQ8KKKHRPBTT2NG3W&qid=1671032882&sprefix=mens+shoes+size+7%2Caps%2C155&sr=1-3-df273b7b-639b-496b-8427-b1aabaae8e8a', 'https://www.amazon.in/Reebok-Fusion-Xtreme-Conavy-FW0343/dp/B0861ZMP3Z/ref=sxin_15_popular-discounts-recommendation_4?content-id=amzn1.sym.f95f283c-9b17-458a-af1c-9e8769c6fd9e%3Aamzn1.sym.f95f283c-9b17-458a-af1c-9e8769c6fd9e&crid=3OZX2GI0YBUEY&cv_ct_cx=Mens+shoes+size+7&keywords=Mens+shoes+size+7&pd_rd_i=B0861ZMP3Z&pd_rd_r=be643bf6-6a63-45ad-a639-573c64097818&pd_rd_w=7BueZ&pd_rd_wg=aU5b8&pf_rd_p=f95f283c-9b17-458a-af1c-9e8769c6fd9e&pf_rd_r=RMSMQ8KKKHRPBTT2NG3W&qid=1671032882&sprefix=mens+shoes+size+7%2Caps%2C155&sr=1-4-df273b7b-639b-496b-8427-b1aabaae8e8a', 'https://www.amazon.in/Red-Tape-Black-Sneakers-11-RTE2381/dp/B083GTC9P1/ref=sxin_15_popular-discounts-recommendation_5?content-id=amzn1.sym.f95f283c-9b17-458a-af1c-9e8769c6fd9e%3Aamzn1.sym.f95f283c-9b17-458a-af1c-9e8769c6fd9e&crid=3OZX2GI0YBUEY&cv_ct_cx=Mens+shoes+size+7&keywords=Mens+shoes+size+7&pd_rd_i=B083GTC9P1&pd_rd_r=be643bf6-6a63-45ad-a639-573c64097818&pd_rd_w=7BueZ&pd_rd_wg=aU5b8&pf_rd_p=f95f283c-9b17-458a-af1c-9e8769c6fd9e&pf_rd_r=RMSMQ8KKKHRPBTT2NG3W&qid=1671032882&sprefix=mens+shoes+size+7%2Caps%2C155&sr=1-5-df273b7b-639b-496b-8427-b1aabaae8e8a', 'https://www.amazon.in/Tiger-Hardware-Black-Safety-Shoes/dp/B01N02Q25K/ref=sr_1_8?crid=3OZX2GI0YBUEY&keywords=Mens+shoes+size+7&qid=1671032882&sprefix=mens+shoes+size+7%2Caps%2C155&sr=8-8', 'https://www.amazon.in/ASIAN-P-Green-Bullet-Running-B02s7cDGPG/dp/B00QH30AQS/ref=sr_1_9?crid=3OZX2GI0YBUEY&keywords=Mens+shoes+size+7&qid=1671032882&sprefix=mens+shoes+size+7%2Caps%2C155&sr=8-9', 'https://www.amazon.in/DSC-Beamer-Cricket-Shoes-Orange-White/dp/B07WN5L577/ref=sr_1_10?crid=3OZX2GI0YBUEY&keywords=Mens+shoes+size+7&qid=1671032882&sprefix=mens+shoes+size+7%2Caps%2C155&sr=8-10', 'https://www.amazon.in/Hillson-Workout-Density-Safety-UK/dp/B086QZJT97/ref=sr_1_11?crid=3OZX2GI0YBUEY&keywords=Mens+shoes+size+7&qid=1671032882&sprefix=mens+shoes+size+7%2Caps%2C155&sr=8-11', 'https://www.amazon.in/Campus-Royce-2-Running-Shoes-7-CG-248/dp/B07NDHH682/ref=sr_1_12?crid=3OZX2GI0YBUEY&keywords=Mens+shoes+size+7&qid=1671032882&sprefix=mens+shoes+size+7%2Caps%2C155&sr=8-12', 'https://www.amazon.in/Campus-Stonic-Running-Shoes-7-5G-680/dp/B07XCWX4F6/ref=sr_1_13?crid=3OZX2GI0YBUEY&keywords=Mens+shoes+size+7&qid=1671032882&sprefix=mens+shoes+size+7%2Caps%2C155&sr=8-13', 'https://www.amazon.in/Tiger-Ankle-Leopard-Steel-Safety/dp/B01N8QD78B/ref=sr_1_14?crid=3OZX2GI0YBUEY&keywords=Mens+shoes+size+7&qid=1671032882&sprefix=mens+shoes+size+7%2Caps%2C155&sr=8-14', 'https://www.amazon.in/Campus-OXYFIT-Walking-Shoes-India/dp/B09RPVTZFG/ref=sr_1_15?crid=3OZX2GI0YBUEY&keywords=Mens+shoes+size+7&qid=1671032882&sprefix=mens+shoes+size+7%2Caps%2C155&sr=8-15', 'https://www.amazon.in/BATA-851-6012-41-Black-Formal-Dress/dp/B08H5ND4DZ/ref=sr_1_16?crid=3OZX2GI0YBUEY&keywords=Mens+shoes+size+7&qid=1671032882&sprefix=mens+shoes+size+7%2Caps%2C155&sr=8-16', 'https://www.amazon.in/Bourge-Loire-63-Running-Shoes-7-Loire-63-D-Grey-07/dp/B07MFJTDL3/ref=sr_1_17?crid=3OZX2GI0YBUEY&keywords=Mens+shoes+size+7&qid=1671032882&sprefix=mens+shoes+size+7%2Caps%2C155&sr=8-17', 'https://www.amazon.in/Ambrick-Running-Shoes-Black-Size/dp/B0BJ7BW3JR/ref=sr_1_18?crid=3OZX2GI0YBUEY&keywords=Mens+shoes+size+7&qid=1671032882&sprefix=mens+shoes+size+7%2Caps%2C155&sr=8-18', 'https://www.amazon.in/Allen-Cooper-Hi-Ankle-Safety-Black-Grey/dp/B013V4EC8W/ref=sr_1_19?crid=3OZX2GI0YBUEY&keywords=Mens+shoes+size+7&qid=1671032882&sprefix=mens+shoes+size+7%2Caps%2C155&sr=8-19', 'https://www.amazon.in/Adidas-Conavy-Running-Shoes-7-CL4155_7/dp/B07M871J1T/ref=sr_1_20?crid=3OZX2GI0YBUEY&keywords=Mens+shoes+size+7&qid=1671032882&sprefix=mens+shoes+size+7%2Caps%2C155&sr=8-20', 'https://www.amazon.in/sspa/click?ie=UTF8&spc=MToyNDgzODk1NjE2NzE0NDk4OjE2NzEwMzI4ODI6c3BfbXRmOjIwMDc1MjE0MTU3Njk4OjowOjo&url=%2FASIAN-Wonder-Firozi-Sports-Indian%2Fdp%2FB01MTQ5M7B%2Fref%3Dsr_1_21_sspa%3Fcrid%3D3OZX2GI0YBUEY%26keywords%3DMens%2Bshoes%2Bsize%2B7%26qid%3D1671032882%26sprefix%3Dmens%2Bshoes%2Bsize%2B7%252Caps%252C155%26sr%3D8-21-spons%26sp_csd%3Dd2lkZ2V0TmFtZT1zcF9tdGY%26psc%3D1', 'https://www.amazon.in/sspa/click?ie=UTF8&spc=MToyNDgzODk1NjE2NzE0NDk4OjE2NzEwMzI4ODI6c3BfbXRmOjIwMDc4MjcwOTcyOTk4OjowOjo&url=%2FAsian-Shoes-Mens-Black-Sports%2Fdp%2FB01L84SRNS%2Fref%3Dsr_1_22_sspa%3Fcrid%3D3OZX2GI0YBUEY%26keywords%3DMens%2Bshoes%2Bsize%2B7%26qid%3D1671032882%26sprefix%3Dmens%2Bshoes%2Bsize%2B7%252Caps%252C155%26sr%3D8-22-spons%26sp_csd%3Dd2lkZ2V0TmFtZT1zcF9tdGY%26psc%3D1', 'https://www.amazon.in/sspa/click?ie=UTF8&spc=MToyNDgzODk1NjE2NzE0NDk4OjE2NzEwMzI4ODI6c3BfbXRmOjIwMDc3MTAzMTE4ODk4OjowOjo&url=%2FASIAN-Cosco-13-Running-Sports-Multicolor%2Fdp%2FB07V2GPDZY%2Fref%3Dsr_1_23_sspa%3Fcrid%3D3OZX2GI0YBUEY%26keywords%3DMens%2Bshoes%2Bsize%2B7%26qid%3D1671032882%26sprefix%3Dmens%2Bshoes%2Bsize%2B7%252Caps%252C155%26sr%3D8-23-spons%26sp_csd%3Dd2lkZ2V0TmFtZT1zcF9tdGY%26psc%3D1', 'https://www.amazon.in/sspa/click?ie=UTF8&spc=MToyNDgzODk1NjE2NzE0NDk4OjE2NzEwMzI4ODI6c3BfbXRmOjIwMDc2NzAwMjY4Nzk4OjowOjo&url=%2FASIAN-Superwalk-08-Sport-Running-Shoes%2Fdp%2FB09RXSVHWD%2Fref%3Dsr_1_24_sspa%3Fcrid%3D3OZX2GI0YBUEY%26keywords%3DMens%2Bshoes%2Bsize%2B7%26qid%3D1671032882%26sprefix%3Dmens%2Bshoes%2Bsize%2B7%252Caps%252C155%26sr%3D8-24-spons%26sp_csd%3Dd2lkZ2V0TmFtZT1zcF9tdGY%26psc%3D1%26smid%3DA3OZBP9WERCHBG', 'https://www.amazon.in/Tiger-Leopard-Safety-Shoes_Size-trading/dp/B07GJT18D8/ref=sr_1_25?crid=3OZX2GI0YBUEY&keywords=Mens+shoes+size+7&qid=1671032882&sprefix=mens+shoes+size+7%2Caps%2C155&sr=8-25', 'https://www.amazon.in/Windsor-Liberty-Wind-3-Black-Formal/dp/B07BH3GHV6/ref=sr_1_26?crid=3OZX2GI0YBUEY&keywords=Mens+shoes+size+7&qid=1671032882&sprefix=mens+shoes+size+7%2Caps%2C155&sr=8-26', 'https://www.amazon.in/DSC-Zooter-Cricket-Size-7-White-Blue/dp/B08PWQ7BTP/ref=sr_1_27?crid=3OZX2GI0YBUEY&keywords=Mens+shoes+size+7&qid=1671032882&sprefix=mens+shoes+size+7%2Caps%2C155&sr=8-27', 'https://www.amazon.in/Campus-Rodeo-PRO-Running-Shoes/dp/B09RPT3NJF/ref=sr_1_28?crid=3OZX2GI0YBUEY&keywords=Mens+shoes+size+7&qid=1671032882&sprefix=mens+shoes+size+7%2Caps%2C155&sr=8-28', 'https://www.amazon.in/Campus-PRO-F-ORG-Running-Shoes/dp/B09RBHDXHF/ref=sr_1_29?crid=3OZX2GI0YBUEY&keywords=Mens+shoes+size+7&qid=1671032882&sprefix=mens+shoes+size+7%2Caps%2C155&sr=8-29', 'https://www.amazon.in/Udenchi-UD12GRAY7-Genuine-Leather-Industrial/dp/B08SKHKH5D/ref=sr_1_30?crid=3OZX2GI0YBUEY&keywords=Mens+shoes+size+7&qid=1671032882&sprefix=mens+shoes+size+7%2Caps%2C155&sr=8-30', 'https://www.amazon.in/BATA-Boss-ace-Uniform-Shoe-7-8214026/dp/B096BJRVSH/ref=sr_1_31?crid=3OZX2GI0YBUEY&keywords=Mens+shoes+size+7&qid=1671032882&sprefix=mens+shoes+size+7%2Caps%2C155&sr=8-31', 'https://www.amazon.in/Sparx-Outdoor-Perfect-Comfortable-SM-651G/dp/B08SBWDHCX/ref=sr_1_32?crid=3OZX2GI0YBUEY&keywords=Mens+shoes+size+7&qid=1671032882&sprefix=mens+shoes+size+7%2Caps%2C155&sr=8-32', 'https://www.amazon.in/NEOSAFE-Centaur-A2025_7-Limited-Executive/dp/B08T8MTS1Z/ref=sr_1_33?crid=3OZX2GI0YBUEY&keywords=Mens+shoes+size+7&qid=1671032882&sprefix=mens+shoes+size+7%2Caps%2C155&sr=8-33', 'https://www.amazon.in/Sparx-Sneakers-7-India-40-67-SD0323G/dp/B077N9MSM8/ref=sr_1_34?crid=3OZX2GI0YBUEY&keywords=Mens+shoes+size+7&qid=1671032882&sprefix=mens+shoes+size+7%2Caps%2C155&sr=8-34', 'https://www.amazon.in/ASIAN-Wonder-Firozi-Sports-Indian/dp/B01MTQ5M7B/ref=sr_1_35?crid=3OZX2GI0YBUEY&keywords=Mens+shoes+size+7&qid=1671032882&sprefix=mens+shoes+size+7%2Caps%2C155&sr=8-35', 'https://www.amazon.in/Adidas-Statix-Running-EW5540_CONAVY-LEGGLD/dp/B08FZV9S3B/ref=sr_1_36?crid=3OZX2GI0YBUEY&keywords=Mens+shoes+size+7&qid=1671032882&sprefix=mens+shoes+size+7%2Caps%2C155&sr=8-36', 'https://www.amazon.in/B-TUF-Fighter-Cricket-Spikes-Sports/dp/B096QLCJNL/ref=sr_1_37?crid=3OZX2GI0YBUEY&keywords=Mens+shoes+size+7&qid=1671032882&sprefix=mens+shoes+size+7%2Caps%2C155&sr=8-37', 'https://www.amazon.in/Bourge-Loire-1-Running-Shoes-6-Loire-1-Grey-06/dp/B07LF6R71L/ref=sr_1_38?crid=3OZX2GI0YBUEY&keywords=Mens+shoes+size+7&qid=1671032882&sprefix=mens+shoes+size+7%2Caps%2C155&sr=8-38', 'https://www.amazon.in/Bourge-Vega-3-Running-Shoes-7-Vega-3-R-Blue-07/dp/B07MLQHGS1/ref=sr_1_39?crid=3OZX2GI0YBUEY&keywords=Mens+shoes+size+7&qid=1671032882&sprefix=mens+shoes+size+7%2Caps%2C155&sr=8-39', 'https://www.amazon.in/Sparx-Black-White-Running-Shoes/dp/B01MTL4S5K/ref=sr_1_40?crid=3OZX2GI0YBUEY&keywords=Mens+shoes+size+7&qid=1671032882&sprefix=mens+shoes+size+7%2Caps%2C155&sr=8-40', 'https://www.amazon.in/Campus-Wisdom-Running-Shoes-7-5G-681/dp/B07Z7PB331/ref=sr_1_41?crid=3OZX2GI0YBUEY&keywords=Mens+shoes+size+7&qid=1671032882&sprefix=mens+shoes+size+7%2Caps%2C155&sr=8-41', 'https://www.amazon.in/Bourge-Loire-7-Mehroon-Running-Loire-7-Mehroon-07/dp/B07LFDBRLH/ref=sr_1_42?crid=3OZX2GI0YBUEY&keywords=Mens+shoes+size+7&qid=1671032882&sprefix=mens+shoes+size+7%2Caps%2C155&sr=8-42', 'https://www.amazon.in/Adidas-Multisport-Training-Shoes-7-S48720/dp/B076H19K7B/ref=sr_1_43?crid=3OZX2GI0YBUEY&keywords=Mens+shoes+size+7&qid=1671032882&sprefix=mens+shoes+size+7%2Caps%2C155&sr=8-43', 'https://www.amazon.in/KDR-Black-Sports-Shoes-Size-7/dp/B09TTJX4KK/ref=sr_1_44?crid=3OZX2GI0YBUEY&keywords=Mens+shoes+size+7&qid=1671032882&sprefix=mens+shoes+size+7%2Caps%2C155&sr=8-44', 'https://www.amazon.in/Campus-Europa-Running-Shoes-India/dp/B099FH4X8M/ref=sr_1_45?crid=3OZX2GI0YBUEY&keywords=Mens+shoes+size+7&qid=1671032882&sprefix=mens+shoes+size+7%2Caps%2C155&sr=8-45', 'https://www.amazon.in/Sparx-Yellow-Running-Shoes-7-SX0674G_NBGD0007/dp/B08MCV25RN/ref=sr_1_46?crid=3OZX2GI0YBUEY&keywords=Mens+shoes+size+7&qid=1671032882&sprefix=mens+shoes+size+7%2Caps%2C155&sr=8-46', 'https://www.amazon.in/Campus-Maxico-MODBLU-BLU-Running-Shoes/dp/B0855ZDZCX/ref=sr_1_47?crid=3OZX2GI0YBUEY&keywords=Mens+shoes+size+7&qid=1671032882&sprefix=mens+shoes+size+7%2Caps%2C155&sr=8-47', 'https://www.amazon.in/Campus-Crysta-PRO-Running-Shoes/dp/B09RBG3MXD/ref=sr_1_48?crid=3OZX2GI0YBUEY&keywords=Mens+shoes+size+7&qid=1671032882&sprefix=mens+shoes+size+7%2Caps%2C155&sr=8-48', 'https://www.amazon.in/Adidas-Hellion-Running-Shoes-7-CM4813/dp/B082Q9BRPD/ref=sr_1_49?crid=3OZX2GI0YBUEY&keywords=Mens+shoes+size+7&qid=1671032882&sprefix=mens+shoes+size+7%2Caps%2C155&sr=8-49', 'https://www.amazon.in/Nivia-Storm-Football-Yellow-Numeric_7/dp/B08XXQD7PZ/ref=sr_1_50_mod_primary_new?crid=3OZX2GI0YBUEY&keywords=Mens+shoes+size+7&qid=1671032882&sbo=RZvfv%2F%2FHxDF%2BO5021pAnSA%3D%3D&sprefix=mens+shoes+size+7%2Caps%2C155&sr=8-50', 'https://www.amazon.in/Sparx-SM-406-Grey-Sports-Shoes/dp/B07H4FQT9F/ref=sr_1_51?crid=3OZX2GI0YBUEY&keywords=Mens+shoes+size+7&qid=1671032882&sprefix=mens+shoes+size+7%2Caps%2C155&sr=8-51', 'https://www.amazon.in/BATA-BOSS-ACE-Uniform-Shoe-7-8216026/dp/B0987QN6V3/ref=sr_1_52?crid=3OZX2GI0YBUEY&keywords=Mens+shoes+size+7&qid=1671032882&sprefix=mens+shoes+size+7%2Caps%2C155&sr=8-52', 'https://www.amazon.in/Kraasa-Mens-White-Sneaker-UK/dp/B08CDYC6QY/ref=sr_1_53?crid=3OZX2GI0YBUEY&keywords=Mens+shoes+size+7&qid=1671032882&sprefix=mens+shoes+size+7%2Caps%2C155&sr=8-53', 'https://www.amazon.in/Campus-PRO-Walking-Shoes-India/dp/B09RBDYYNS/ref=sr_1_54?crid=3OZX2GI0YBUEY&keywords=Mens+shoes+size+7&qid=1671032882&sprefix=mens+shoes+size+7%2Caps%2C155&sr=8-54', 'https://www.amazon.in/Adidas-Mens-Clinch-X-Running-Shoe/dp/B08FZTH9NS/ref=sr_1_55?crid=3OZX2GI0YBUEY&keywords=Mens+shoes+size+7&qid=1671032882&sprefix=mens+shoes+size+7%2Caps%2C155&sr=8-55', 'https://www.amazon.in/Sparx-SM-648-Orange-Running-SX0648GDGNO0007/dp/B08K9KP8GX/ref=sr_1_56?crid=3OZX2GI0YBUEY&keywords=Mens+shoes+size+7&qid=1671032882&sprefix=mens+shoes+size+7%2Caps%2C155&sr=8-56', 'https://www.amazon.in/sspa/click?ie=UTF8&spc=MToyNDgzODk1NjE2NzE0NDk4OjE2NzEwMzI4ODI6c3BfYnRmOjIwMDkwODkxNjYzNzk4OjowOjo&url=%2FFuro-Red-Chief-Running-Shoes%2Fdp%2FB07F2ZYKNQ%2Fref%3Dsr_1_57_sspa%3Fcrid%3D3OZX2GI0YBUEY%26keywords%3DMens%2Bshoes%2Bsize%2B7%26qid%3D1671032882%26sprefix%3Dmens%2Bshoes%2Bsize%2B7%252Caps%252C155%26sr%3D8-57-spons%26sp_csd%3Dd2lkZ2V0TmFtZT1zcF9idGY%26psc%3D1', 'https://www.amazon.in/sspa/click?ie=UTF8&spc=MToyNDgzODk1NjE2NzE0NDk4OjE2NzEwMzI4ODI6c3BfYnRmOjIwMDkyMTE0NDkwNzk4OjowOjo&url=%2FAmazon-Brand-Symactive-Running-SYM-SS-038D%2Fdp%2FB07TVJ9ST2%2Fref%3Dsr_1_58_sspa%3Fcrid%3D3OZX2GI0YBUEY%26keywords%3DMens%2Bshoes%2Bsize%2B7%26qid%3D1671032882%26sprefix%3Dmens%2Bshoes%2Bsize%2B7%252Caps%252C155%26sr%3D8-58-spons%26sp_csd%3Dd2lkZ2V0TmFtZT1zcF9idGY%26psc%3D1', 'https://www.amazon.in/sspa/click?ie=UTF8&spc=MToyNDgzODk1NjE2NzE0NDk4OjE2NzEwMzI4ODI6c3BfYnRmOjIwMDMyNTY5MjUwMTk4OjowOjo&url=%2FUnistar-Nylon-Narrow-Running-Shoes%2Fdp%2FB01MZEL6ZN%2Fref%3Dsr_1_59_sspa%3Fcrid%3D3OZX2GI0YBUEY%26keywords%3DMens%2Bshoes%2Bsize%2B7%26qid%3D1671032882%26sprefix%3Dmens%2Bshoes%2Bsize%2B7%252Caps%252C155%26sr%3D8-59-spons%26sp_csd%3Dd2lkZ2V0TmFtZT1zcF9idGY%26psc%3D1', 'https://www.amazon.in/sspa/click?ie=UTF8&spc=MToyNDgzODk1NjE2NzE0NDk4OjE2NzEwMzI4ODI6c3BfYnRmOjIwMTAyMDU3NTMxMDk4OjowOjo&url=%2FTruTuff-Wick-Resistant-Construction-Warehouse%2Fdp%2FB0B5XW3FZB%2Fref%3Dsr_1_60_sspa%3Fcrid%3D3OZX2GI0YBUEY%26keywords%3DMens%2Bshoes%2Bsize%2B7%26qid%3D1671032882%26sprefix%3Dmens%2Bshoes%2Bsize%2B7%252Caps%252C155%26sr%3D8-60-spons%26sp_csd%3Dd2lkZ2V0TmFtZT1zcF9idGY%26psc%3D1', 'https://www.amazon.in/sspa/click?ie=UTF8&spc=MToyNDgzODk1NjE2NzE0NDk4OjE2NzEwMzI4ODI6c3BfYXRmOjIwMDI3ODE4NjQ4MTA3OjowOjo&url=%2FASIAN-Cosco-Mouse-Walking-Shoes%2Fdp%2FB07FRTXPYQ%2Fref%3Dsr_1_1_sspa%3Fcrid%3D3OZX2GI0YBUEY%26keywords%3DMens%2Bshoes%2Bsize%2B7%26qid%3D1671032882%26sprefix%3Dmens%2Bshoes%2Bsize%2B7%252Caps%252C155%26sr%3D8-1-spons%26sp_csd%3Dd2lkZ2V0TmFtZT1zcF9hdGY%26psc%3D1', 'https://www.amazon.in/sspa/click?ie=UTF8&spc=MToyNDgzODk1NjE2NzE0NDk4OjE2NzEwMzI4ODI6c3BfYXRmOjIwMDI3ODE4NTg2NDA3OjowOjo&url=%2FASIAN-Prime-01-Orange-Running-Shoes%2Fdp%2FB07DY35K8C%2Fref%3Dsr_1_2_sspa%3Fcrid%3D3OZX2GI0YBUEY%26keywords%3DMens%2Bshoes%2Bsize%2B7%26qid%3D1671032882%26sprefix%3Dmens%2Bshoes%2Bsize%2B7%252Caps%252C155%26sr%3D8-2-spons%26sp_csd%3Dd2lkZ2V0TmFtZT1zcF9hdGY%26psc%3D1', 'https://www.amazon.in/sspa/click?ie=UTF8&spc=MToyNDgzODk1NjE2NzE0NDk4OjE2NzEwMzI4ODI6c3BfYXRmOjIwMDkwODkxNjY0MTk4OjowOjo&url=%2FFuro-Red-Chief-Running-R1016%2Fdp%2FB07F37NXTD%2Fref%3Dsr_1_3_sspa%3Fcrid%3D3OZX2GI0YBUEY%26keywords%3DMens%2Bshoes%2Bsize%2B7%26qid%3D1671032882%26sprefix%3Dmens%2Bshoes%2Bsize%2B7%252Caps%252C155%26sr%3D8-3-spons%26sp_csd%3Dd2lkZ2V0TmFtZT1zcF9hdGY%26psc%3D1', 'https://www.amazon.in/sspa/click?ie=UTF8&spc=MToyNDgzODk1NjE2NzE0NDk4OjE2NzEwMzI4ODI6c3BfYXRmOjIwMDg0MDI2NDUxMTA1OjowOjo&url=%2Feeken-Athleisure-Lightweight-Casual-Paragon%2Fdp%2FB08M3CXV74%2Fref%3Dsr_1_4_sspa%3Fcrid%3D3OZX2GI0YBUEY%26keywords%3DMens%2Bshoes%2Bsize%2B7%26qid%3D1671032882%26sprefix%3Dmens%2Bshoes%2Bsize%2B7%252Caps%252C155%26sr%3D8-4-spons%26sp_csd%3Dd2lkZ2V0TmFtZT1zcF9hdGY%26psc%3D1', 'https://www.amazon.in/ASIAN-Prime-01-Orange-Running-Shoes/dp/B07DY35K8C/ref=sr_1_5?crid=3OZX2GI0YBUEY&keywords=Mens+shoes+size+7&qid=1671032882&sprefix=mens+shoes+size+7%2Caps%2C155&sr=8-5', 'https://www.amazon.in/ASIAN-Cosco-Mouse-Walking-Shoes/dp/B07FRTXPYQ/ref=sr_1_6?crid=3OZX2GI0YBUEY&keywords=Mens+shoes+size+7&qid=1671032882&sprefix=mens+shoes+size+7%2Caps%2C155&sr=8-6', 'https://www.amazon.in/Allen-Cooper-1156-Safety-Size-7/dp/B013V4E7OQ/ref=sr_1_7?crid=3OZX2GI0YBUEY&keywords=Mens+shoes+size+7&qid=1671032882&sprefix=mens+shoes+size+7%2Caps%2C155&sr=8-7', 'https://www.amazon.in/Hush-Puppies-Loafer-Shoes-11-8546734/dp/B079QFV8F9/ref=sxin_15_popular-discounts-recommendation_1?content-id=amzn1.sym.f95f283c-9b17-458a-af1c-9e8769c6fd9e%3Aamzn1.sym.f95f283c-9b17-458a-af1c-9e8769c6fd9e&crid=3OZX2GI0YBUEY&cv_ct_cx=Mens+shoes+size+7&keywords=Mens+shoes+size+7&pd_rd_i=B079QFV8F9&pd_rd_r=be643bf6-6a63-45ad-a639-573c64097818&pd_rd_w=7BueZ&pd_rd_wg=aU5b8&pf_rd_p=f95f283c-9b17-458a-af1c-9e8769c6fd9e&pf_rd_r=RMSMQ8KKKHRPBTT2NG3W&qid=1671032882&sprefix=mens+shoes+size+7%2Caps%2C155&sr=1-1-df273b7b-639b-496b-8427-b1aabaae8e8a', 'https://www.amazon.in/Red-Tape-Classic-Sneakers-11-RTE157/dp/B07YM3CBXD/ref=sxin_15_popular-discounts-recommendation_2?content-id=amzn1.sym.f95f283c-9b17-458a-af1c-9e8769c6fd9e%3Aamzn1.sym.f95f283c-9b17-458a-af1c-9e8769c6fd9e&crid=3OZX2GI0YBUEY&cv_ct_cx=Mens+shoes+size+7&keywords=Mens+shoes+size+7&pd_rd_i=B07YM3CBXD&pd_rd_r=be643bf6-6a63-45ad-a639-573c64097818&pd_rd_w=7BueZ&pd_rd_wg=aU5b8&pf_rd_p=f95f283c-9b17-458a-af1c-9e8769c6fd9e&pf_rd_r=RMSMQ8KKKHRPBTT2NG3W&qid=1671032882&sprefix=mens+shoes+size+7%2Caps%2C155&sr=1-2-df273b7b-639b-496b-8427-b1aabaae8e8a', 'https://www.amazon.in/Bond-Street-Red-Tape-Running/dp/B08RBZQ3W4/ref=sxin_15_popular-discounts-recommendation_3?content-id=amzn1.sym.f95f283c-9b17-458a-af1c-9e8769c6fd9e%3Aamzn1.sym.f95f283c-9b17-458a-af1c-9e8769c6fd9e&crid=3OZX2GI0YBUEY&cv_ct_cx=Mens+shoes+size+7&keywords=Mens+shoes+size+7&pd_rd_i=B08RBZQ3W4&pd_rd_r=be643bf6-6a63-45ad-a639-573c64097818&pd_rd_w=7BueZ&pd_rd_wg=aU5b8&pf_rd_p=f95f283c-9b17-458a-af1c-9e8769c6fd9e&pf_rd_r=RMSMQ8KKKHRPBTT2NG3W&qid=1671032882&sprefix=mens+shoes+size+7%2Caps%2C155&sr=1-3-df273b7b-639b-496b-8427-b1aabaae8e8a', 'https://www.amazon.in/Reebok-Fusion-Xtreme-Conavy-FW0343/dp/B0861ZMP3Z/ref=sxin_15_popular-discounts-recommendation_4?content-id=amzn1.sym.f95f283c-9b17-458a-af1c-9e8769c6fd9e%3Aamzn1.sym.f95f283c-9b17-458a-af1c-9e8769c6fd9e&crid=3OZX2GI0YBUEY&cv_ct_cx=Mens+shoes+size+7&keywords=Mens+shoes+size+7&pd_rd_i=B0861ZMP3Z&pd_rd_r=be643bf6-6a63-45ad-a639-573c64097818&pd_rd_w=7BueZ&pd_rd_wg=aU5b8&pf_rd_p=f95f283c-9b17-458a-af1c-9e8769c6fd9e&pf_rd_r=RMSMQ8KKKHRPBTT2NG3W&qid=1671032882&sprefix=mens+shoes+size+7%2Caps%2C155&sr=1-4-df273b7b-639b-496b-8427-b1aabaae8e8a', 'https://www.amazon.in/Red-Tape-Black-Sneakers-11-RTE2381/dp/B083GTC9P1/ref=sxin_15_popular-discounts-recommendation_5?content-id=amzn1.sym.f95f283c-9b17-458a-af1c-9e8769c6fd9e%3Aamzn1.sym.f95f283c-9b17-458a-af1c-9e8769c6fd9e&crid=3OZX2GI0YBUEY&cv_ct_cx=Mens+shoes+size+7&keywords=Mens+shoes+size+7&pd_rd_i=B083GTC9P1&pd_rd_r=be643bf6-6a63-45ad-a639-573c64097818&pd_rd_w=7BueZ&pd_rd_wg=aU5b8&pf_rd_p=f95f283c-9b17-458a-af1c-9e8769c6fd9e&pf_rd_r=RMSMQ8KKKHRPBTT2NG3W&qid=1671032882&sprefix=mens+shoes+size+7%2Caps%2C155&sr=1-5-df273b7b-639b-496b-8427-b1aabaae8e8a', 'https://www.amazon.in/Tiger-Hardware-Black-Safety-Shoes/dp/B01N02Q25K/ref=sr_1_8?crid=3OZX2GI0YBUEY&keywords=Mens+shoes+size+7&qid=1671032882&sprefix=mens+shoes+size+7%2Caps%2C155&sr=8-8', 'https://www.amazon.in/ASIAN-P-Green-Bullet-Running-B02s7cDGPG/dp/B00QH30AQS/ref=sr_1_9?crid=3OZX2GI0YBUEY&keywords=Mens+shoes+size+7&qid=1671032882&sprefix=mens+shoes+size+7%2Caps%2C155&sr=8-9', 'https://www.amazon.in/DSC-Beamer-Cricket-Shoes-Orange-White/dp/B07WN5L577/ref=sr_1_10?crid=3OZX2GI0YBUEY&keywords=Mens+shoes+size+7&qid=1671032882&sprefix=mens+shoes+size+7%2Caps%2C155&sr=8-10', 'https://www.amazon.in/Hillson-Workout-Density-Safety-UK/dp/B086QZJT97/ref=sr_1_11?crid=3OZX2GI0YBUEY&keywords=Mens+shoes+size+7&qid=1671032882&sprefix=mens+shoes+size+7%2Caps%2C155&sr=8-11', 'https://www.amazon.in/Campus-Royce-2-Running-Shoes-7-CG-248/dp/B07NDHH682/ref=sr_1_12?crid=3OZX2GI0YBUEY&keywords=Mens+shoes+size+7&qid=1671032882&sprefix=mens+shoes+size+7%2Caps%2C155&sr=8-12', 'https://www.amazon.in/Campus-Stonic-Running-Shoes-7-5G-680/dp/B07XCWX4F6/ref=sr_1_13?crid=3OZX2GI0YBUEY&keywords=Mens+shoes+size+7&qid=1671032882&sprefix=mens+shoes+size+7%2Caps%2C155&sr=8-13', 'https://www.amazon.in/Tiger-Ankle-Leopard-Steel-Safety/dp/B01N8QD78B/ref=sr_1_14?crid=3OZX2GI0YBUEY&keywords=Mens+shoes+size+7&qid=1671032882&sprefix=mens+shoes+size+7%2Caps%2C155&sr=8-14', 'https://www.amazon.in/Campus-OXYFIT-Walking-Shoes-India/dp/B09RPVTZFG/ref=sr_1_15?crid=3OZX2GI0YBUEY&keywords=Mens+shoes+size+7&qid=1671032882&sprefix=mens+shoes+size+7%2Caps%2C155&sr=8-15', 'https://www.amazon.in/BATA-851-6012-41-Black-Formal-Dress/dp/B08H5ND4DZ/ref=sr_1_16?crid=3OZX2GI0YBUEY&keywords=Mens+shoes+size+7&qid=1671032882&sprefix=mens+shoes+size+7%2Caps%2C155&sr=8-16', 'https://www.amazon.in/Bourge-Loire-63-Running-Shoes-7-Loire-63-D-Grey-07/dp/B07MFJTDL3/ref=sr_1_17?crid=3OZX2GI0YBUEY&keywords=Mens+shoes+size+7&qid=1671032882&sprefix=mens+shoes+size+7%2Caps%2C155&sr=8-17', 'https://www.amazon.in/Ambrick-Running-Shoes-Black-Size/dp/B0BJ7BW3JR/ref=sr_1_18?crid=3OZX2GI0YBUEY&keywords=Mens+shoes+size+7&qid=1671032882&sprefix=mens+shoes+size+7%2Caps%2C155&sr=8-18', 'https://www.amazon.in/Allen-Cooper-Hi-Ankle-Safety-Black-Grey/dp/B013V4EC8W/ref=sr_1_19?crid=3OZX2GI0YBUEY&keywords=Mens+shoes+size+7&qid=1671032882&sprefix=mens+shoes+size+7%2Caps%2C155&sr=8-19', 'https://www.amazon.in/Adidas-Conavy-Running-Shoes-7-CL4155_7/dp/B07M871J1T/ref=sr_1_20?crid=3OZX2GI0YBUEY&keywords=Mens+shoes+size+7&qid=1671032882&sprefix=mens+shoes+size+7%2Caps%2C155&sr=8-20', 'https://www.amazon.in/sspa/click?ie=UTF8&spc=MToyNDgzODk1NjE2NzE0NDk4OjE2NzEwMzI4ODI6c3BfbXRmOjIwMDc1MjE0MTU3Njk4OjowOjo&url=%2FASIAN-Wonder-Firozi-Sports-Indian%2Fdp%2FB01MTQ5M7B%2Fref%3Dsr_1_21_sspa%3Fcrid%3D3OZX2GI0YBUEY%26keywords%3DMens%2Bshoes%2Bsize%2B7%26qid%3D1671032882%26sprefix%3Dmens%2Bshoes%2Bsize%2B7%252Caps%252C155%26sr%3D8-21-spons%26sp_csd%3Dd2lkZ2V0TmFtZT1zcF9tdGY%26psc%3D1', 'https://www.amazon.in/sspa/click?ie=UTF8&spc=MToyNDgzODk1NjE2NzE0NDk4OjE2NzEwMzI4ODI6c3BfbXRmOjIwMDc4MjcwOTcyOTk4OjowOjo&url=%2FAsian-Shoes-Mens-Black-Sports%2Fdp%2FB01L84SRNS%2Fref%3Dsr_1_22_sspa%3Fcrid%3D3OZX2GI0YBUEY%26keywords%3DMens%2Bshoes%2Bsize%2B7%26qid%3D1671032882%26sprefix%3Dmens%2Bshoes%2Bsize%2B7%252Caps%252C155%26sr%3D8-22-spons%26sp_csd%3Dd2lkZ2V0TmFtZT1zcF9tdGY%26psc%3D1', 'https://www.amazon.in/sspa/click?ie=UTF8&spc=MToyNDgzODk1NjE2NzE0NDk4OjE2NzEwMzI4ODI6c3BfbXRmOjIwMDc3MTAzMTE4ODk4OjowOjo&url=%2FASIAN-Cosco-13-Running-Sports-Multicolor%2Fdp%2FB07V2GPDZY%2Fref%3Dsr_1_23_sspa%3Fcrid%3D3OZX2GI0YBUEY%26keywords%3DMens%2Bshoes%2Bsize%2B7%26qid%3D1671032882%26sprefix%3Dmens%2Bshoes%2Bsize%2B7%252Caps%252C155%26sr%3D8-23-spons%26sp_csd%3Dd2lkZ2V0TmFtZT1zcF9tdGY%26psc%3D1', 'https://www.amazon.in/sspa/click?ie=UTF8&spc=MToyNDgzODk1NjE2NzE0NDk4OjE2NzEwMzI4ODI6c3BfbXRmOjIwMDc2NzAwMjY4Nzk4OjowOjo&url=%2FASIAN-Superwalk-08-Sport-Running-Shoes%2Fdp%2FB09RXSVHWD%2Fref%3Dsr_1_24_sspa%3Fcrid%3D3OZX2GI0YBUEY%26keywords%3DMens%2Bshoes%2Bsize%2B7%26qid%3D1671032882%26sprefix%3Dmens%2Bshoes%2Bsize%2B7%252Caps%252C155%26sr%3D8-24-spons%26sp_csd%3Dd2lkZ2V0TmFtZT1zcF9tdGY%26psc%3D1%26smid%3DA3OZBP9WERCHBG', 'https://www.amazon.in/Tiger-Leopard-Safety-Shoes_Size-trading/dp/B07GJT18D8/ref=sr_1_25?crid=3OZX2GI0YBUEY&keywords=Mens+shoes+size+7&qid=1671032882&sprefix=mens+shoes+size+7%2Caps%2C155&sr=8-25', 'https://www.amazon.in/Windsor-Liberty-Wind-3-Black-Formal/dp/B07BH3GHV6/ref=sr_1_26?crid=3OZX2GI0YBUEY&keywords=Mens+shoes+size+7&qid=1671032882&sprefix=mens+shoes+size+7%2Caps%2C155&sr=8-26', 'https://www.amazon.in/DSC-Zooter-Cricket-Size-7-White-Blue/dp/B08PWQ7BTP/ref=sr_1_27?crid=3OZX2GI0YBUEY&keywords=Mens+shoes+size+7&qid=1671032882&sprefix=mens+shoes+size+7%2Caps%2C155&sr=8-27', 'https://www.amazon.in/Campus-Rodeo-PRO-Running-Shoes/dp/B09RPT3NJF/ref=sr_1_28?crid=3OZX2GI0YBUEY&keywords=Mens+shoes+size+7&qid=1671032882&sprefix=mens+shoes+size+7%2Caps%2C155&sr=8-28', 'https://www.amazon.in/Campus-PRO-F-ORG-Running-Shoes/dp/B09RBHDXHF/ref=sr_1_29?crid=3OZX2GI0YBUEY&keywords=Mens+shoes+size+7&qid=1671032882&sprefix=mens+shoes+size+7%2Caps%2C155&sr=8-29', 'https://www.amazon.in/Udenchi-UD12GRAY7-Genuine-Leather-Industrial/dp/B08SKHKH5D/ref=sr_1_30?crid=3OZX2GI0YBUEY&keywords=Mens+shoes+size+7&qid=1671032882&sprefix=mens+shoes+size+7%2Caps%2C155&sr=8-30', 'https://www.amazon.in/BATA-Boss-ace-Uniform-Shoe-7-8214026/dp/B096BJRVSH/ref=sr_1_31?crid=3OZX2GI0YBUEY&keywords=Mens+shoes+size+7&qid=1671032882&sprefix=mens+shoes+size+7%2Caps%2C155&sr=8-31', 'https://www.amazon.in/Sparx-Outdoor-Perfect-Comfortable-SM-651G/dp/B08SBWDHCX/ref=sr_1_32?crid=3OZX2GI0YBUEY&keywords=Mens+shoes+size+7&qid=1671032882&sprefix=mens+shoes+size+7%2Caps%2C155&sr=8-32', 'https://www.amazon.in/NEOSAFE-Centaur-A2025_7-Limited-Executive/dp/B08T8MTS1Z/ref=sr_1_33?crid=3OZX2GI0YBUEY&keywords=Mens+shoes+size+7&qid=1671032882&sprefix=mens+shoes+size+7%2Caps%2C155&sr=8-33', 'https://www.amazon.in/Sparx-Sneakers-7-India-40-67-SD0323G/dp/B077N9MSM8/ref=sr_1_34?crid=3OZX2GI0YBUEY&keywords=Mens+shoes+size+7&qid=1671032882&sprefix=mens+shoes+size+7%2Caps%2C155&sr=8-34', 'https://www.amazon.in/ASIAN-Wonder-Firozi-Sports-Indian/dp/B01MTQ5M7B/ref=sr_1_35?crid=3OZX2GI0YBUEY&keywords=Mens+shoes+size+7&qid=1671032882&sprefix=mens+shoes+size+7%2Caps%2C155&sr=8-35', 'https://www.amazon.in/Adidas-Statix-Running-EW5540_CONAVY-LEGGLD/dp/B08FZV9S3B/ref=sr_1_36?crid=3OZX2GI0YBUEY&keywords=Mens+shoes+size+7&qid=1671032882&sprefix=mens+shoes+size+7%2Caps%2C155&sr=8-36', 'https://www.amazon.in/B-TUF-Fighter-Cricket-Spikes-Sports/dp/B096QLCJNL/ref=sr_1_37?crid=3OZX2GI0YBUEY&keywords=Mens+shoes+size+7&qid=1671032882&sprefix=mens+shoes+size+7%2Caps%2C155&sr=8-37', 'https://www.amazon.in/Bourge-Loire-1-Running-Shoes-6-Loire-1-Grey-06/dp/B07LF6R71L/ref=sr_1_38?crid=3OZX2GI0YBUEY&keywords=Mens+shoes+size+7&qid=1671032882&sprefix=mens+shoes+size+7%2Caps%2C155&sr=8-38', 'https://www.amazon.in/Bourge-Vega-3-Running-Shoes-7-Vega-3-R-Blue-07/dp/B07MLQHGS1/ref=sr_1_39?crid=3OZX2GI0YBUEY&keywords=Mens+shoes+size+7&qid=1671032882&sprefix=mens+shoes+size+7%2Caps%2C155&sr=8-39', 'https://www.amazon.in/Sparx-Black-White-Running-Shoes/dp/B01MTL4S5K/ref=sr_1_40?crid=3OZX2GI0YBUEY&keywords=Mens+shoes+size+7&qid=1671032882&sprefix=mens+shoes+size+7%2Caps%2C155&sr=8-40', 'https://www.amazon.in/Campus-Wisdom-Running-Shoes-7-5G-681/dp/B07Z7PB331/ref=sr_1_41?crid=3OZX2GI0YBUEY&keywords=Mens+shoes+size+7&qid=1671032882&sprefix=mens+shoes+size+7%2Caps%2C155&sr=8-41', 'https://www.amazon.in/Bourge-Loire-7-Mehroon-Running-Loire-7-Mehroon-07/dp/B07LFDBRLH/ref=sr_1_42?crid=3OZX2GI0YBUEY&keywords=Mens+shoes+size+7&qid=1671032882&sprefix=mens+shoes+size+7%2Caps%2C155&sr=8-42', 'https://www.amazon.in/Adidas-Multisport-Training-Shoes-7-S48720/dp/B076H19K7B/ref=sr_1_43?crid=3OZX2GI0YBUEY&keywords=Mens+shoes+size+7&qid=1671032882&sprefix=mens+shoes+size+7%2Caps%2C155&sr=8-43', 'https://www.amazon.in/KDR-Black-Sports-Shoes-Size-7/dp/B09TTJX4KK/ref=sr_1_44?crid=3OZX2GI0YBUEY&keywords=Mens+shoes+size+7&qid=1671032882&sprefix=mens+shoes+size+7%2Caps%2C155&sr=8-44', 'https://www.amazon.in/Campus-Europa-Running-Shoes-India/dp/B099FH4X8M/ref=sr_1_45?crid=3OZX2GI0YBUEY&keywords=Mens+shoes+size+7&qid=1671032882&sprefix=mens+shoes+size+7%2Caps%2C155&sr=8-45', 'https://www.amazon.in/Sparx-Yellow-Running-Shoes-7-SX0674G_NBGD0007/dp/B08MCV25RN/ref=sr_1_46?crid=3OZX2GI0YBUEY&keywords=Mens+shoes+size+7&qid=1671032882&sprefix=mens+shoes+size+7%2Caps%2C155&sr=8-46', 'https://www.amazon.in/Campus-Maxico-MODBLU-BLU-Running-Shoes/dp/B0855ZDZCX/ref=sr_1_47?crid=3OZX2GI0YBUEY&keywords=Mens+shoes+size+7&qid=1671032882&sprefix=mens+shoes+size+7%2Caps%2C155&sr=8-47', 'https://www.amazon.in/Campus-Crysta-PRO-Running-Shoes/dp/B09RBG3MXD/ref=sr_1_48?crid=3OZX2GI0YBUEY&keywords=Mens+shoes+size+7&qid=1671032882&sprefix=mens+shoes+size+7%2Caps%2C155&sr=8-48', 'https://www.amazon.in/Adidas-Hellion-Running-Shoes-7-CM4813/dp/B082Q9BRPD/ref=sr_1_49?crid=3OZX2GI0YBUEY&keywords=Mens+shoes+size+7&qid=1671032882&sprefix=mens+shoes+size+7%2Caps%2C155&sr=8-49', 'https://www.amazon.in/Nivia-Storm-Football-Yellow-Numeric_7/dp/B08XXQD7PZ/ref=sr_1_50_mod_primary_new?crid=3OZX2GI0YBUEY&keywords=Mens+shoes+size+7&qid=1671032882&sbo=RZvfv%2F%2FHxDF%2BO5021pAnSA%3D%3D&sprefix=mens+shoes+size+7%2Caps%2C155&sr=8-50', 'https://www.amazon.in/Sparx-SM-406-Grey-Sports-Shoes/dp/B07H4FQT9F/ref=sr_1_51?crid=3OZX2GI0YBUEY&keywords=Mens+shoes+size+7&qid=1671032882&sprefix=mens+shoes+size+7%2Caps%2C155&sr=8-51', 'https://www.amazon.in/BATA-BOSS-ACE-Uniform-Shoe-7-8216026/dp/B0987QN6V3/ref=sr_1_52?crid=3OZX2GI0YBUEY&keywords=Mens+shoes+size+7&qid=1671032882&sprefix=mens+shoes+size+7%2Caps%2C155&sr=8-52', 'https://www.amazon.in/Kraasa-Mens-White-Sneaker-UK/dp/B08CDYC6QY/ref=sr_1_53?crid=3OZX2GI0YBUEY&keywords=Mens+shoes+size+7&qid=1671032882&sprefix=mens+shoes+size+7%2Caps%2C155&sr=8-53', 'https://www.amazon.in/Campus-PRO-Walking-Shoes-India/dp/B09RBDYYNS/ref=sr_1_54?crid=3OZX2GI0YBUEY&keywords=Mens+shoes+size+7&qid=1671032882&sprefix=mens+shoes+size+7%2Caps%2C155&sr=8-54', 'https://www.amazon.in/Adidas-Mens-Clinch-X-Running-Shoe/dp/B08FZTH9NS/ref=sr_1_55?crid=3OZX2GI0YBUEY&keywords=Mens+shoes+size+7&qid=1671032882&sprefix=mens+shoes+size+7%2Caps%2C155&sr=8-55', 'https://www.amazon.in/Sparx-SM-648-Orange-Running-SX0648GDGNO0007/dp/B08K9KP8GX/ref=sr_1_56?crid=3OZX2GI0YBUEY&keywords=Mens+shoes+size+7&qid=1671032882&sprefix=mens+shoes+size+7%2Caps%2C155&sr=8-56', 'https://www.amazon.in/sspa/click?ie=UTF8&spc=MToyNDgzODk1NjE2NzE0NDk4OjE2NzEwMzI4ODI6c3BfYnRmOjIwMDkwODkxNjYzNzk4OjowOjo&url=%2FFuro-Red-Chief-Running-Shoes%2Fdp%2FB07F2ZYKNQ%2Fref%3Dsr_1_57_sspa%3Fcrid%3D3OZX2GI0YBUEY%26keywords%3DMens%2Bshoes%2Bsize%2B7%26qid%3D1671032882%26sprefix%3Dmens%2Bshoes%2Bsize%2B7%252Caps%252C155%26sr%3D8-57-spons%26sp_csd%3Dd2lkZ2V0TmFtZT1zcF9idGY%26psc%3D1', 'https://www.amazon.in/sspa/click?ie=UTF8&spc=MToyNDgzODk1NjE2NzE0NDk4OjE2NzEwMzI4ODI6c3BfYnRmOjIwMDkyMTE0NDkwNzk4OjowOjo&url=%2FAmazon-Brand-Symactive-Running-SYM-SS-038D%2Fdp%2FB07TVJ9ST2%2Fref%3Dsr_1_58_sspa%3Fcrid%3D3OZX2GI0YBUEY%26keywords%3DMens%2Bshoes%2Bsize%2B7%26qid%3D1671032882%26sprefix%3Dmens%2Bshoes%2Bsize%2B7%252Caps%252C155%26sr%3D8-58-spons%26sp_csd%3Dd2lkZ2V0TmFtZT1zcF9idGY%26psc%3D1', 'https://www.amazon.in/sspa/click?ie=UTF8&spc=MToyNDgzODk1NjE2NzE0NDk4OjE2NzEwMzI4ODI6c3BfYnRmOjIwMDMyNTY5MjUwMTk4OjowOjo&url=%2FUnistar-Nylon-Narrow-Running-Shoes%2Fdp%2FB01MZEL6ZN%2Fref%3Dsr_1_59_sspa%3Fcrid%3D3OZX2GI0YBUEY%26keywords%3DMens%2Bshoes%2Bsize%2B7%26qid%3D1671032882%26sprefix%3Dmens%2Bshoes%2Bsize%2B7%252Caps%252C155%26sr%3D8-59-spons%26sp_csd%3Dd2lkZ2V0TmFtZT1zcF9idGY%26psc%3D1', 'https://www.amazon.in/sspa/click?ie=UTF8&spc=MToyNDgzODk1NjE2NzE0NDk4OjE2NzEwMzI4ODI6c3BfYnRmOjIwMTAyMDU3NTMxMDk4OjowOjo&url=%2FTruTuff-Wick-Resistant-Construction-Warehouse%2Fdp%2FB0B5XW3FZB%2Fref%3Dsr_1_60_sspa%3Fcrid%3D3OZX2GI0YBUEY%26keywords%3DMens%2Bshoes%2Bsize%2B7%26qid%3D1671032882%26sprefix%3Dmens%2Bshoes%2Bsize%2B7%252Caps%252C155%26sr%3D8-60-spons%26sp_csd%3Dd2lkZ2V0TmFtZT1zcF9idGY%26psc%3D1']\n"
     ]
    }
   ],
   "source": [
    "print(brand)\n",
    "print(productname)\n",
    "print(itemlinks)\n",
    "# because of testing in small chunk i have following code to clear the list.\n",
    "# brand.clear()\n",
    "# productname.clear()\n",
    "# itemlinks.clear()"
   ]
  },
  {
   "cell_type": "code",
   "execution_count": 34,
   "id": "b3cf964b",
   "metadata": {},
   "outputs": [],
   "source": [
    "price=[]\n",
    "returnexchange=[]\n",
    "delivery=[]\n",
    "avaibility=[]\n",
    "\n",
    "for i in itemlinks:\n",
    "    driver.get(i)\n",
    "    try:\n",
    "        pricetag = driver.find_element(By.XPATH,\"/html/body/div[2]/div[2]/div[5]/div[1]/div[1]/div[2]/div[2]/div/div/div[1]/div[3]/div[3]/div[1]/span[2]/span[2]/span[2]\")\n",
    "        price.append(pricetag.text)\n",
    "    except NoSuchElementException:\n",
    "        price.append(\"-\")\n",
    "    try:\n",
    "        returntags = driver.find_element(By.XPATH,\"/html/body/div[2]/div[2]/div[5]/div[1]/div[1]/div[2]/div[2]/div/div/div[1]/div[16]/div[2]/div/div/div/div[3]/span/div[2]/a\")\n",
    "        returnexchange.append(returntags.text)\n",
    "    except NoSuchElementException:\n",
    "        returnexchange.append(\"-\")\n",
    "    try:    \n",
    "        expectedtags = driver.find_element(By.XPATH,\"/html/body/div[2]/div[2]/div[5]/div[1]/div[1]/div[2]/div[2]/div/div/div[2]/div[3]/div/div/div/div/form/div/div/div/div/div[3]/div/div[2]/div[8]/div[1]/div/div/div[2]/span\")\n",
    "        delivery.append(expectedtags.text)\n",
    "    except NoSuchElementException:\n",
    "        delivery.append(\"-\")\n",
    "    try:\n",
    "        avaibilitytags = driver.find_element(By.XPATH,\"/html/body/div[2]/div[2]/div[5]/div[1]/div[1]/div[2]/div[2]/div/div/div[2]/div[3]/div/div/div/div/form/div/div/div/div/div[3]/div/div[4]/div/div[1]/span\")\n",
    "        avaibility.append(avaibilitytags.text)\n",
    "    except NoSuchElementException:\n",
    "        avaibility.append(\"-\")\n",
    "    "
   ]
  },
  {
   "cell_type": "code",
   "execution_count": 35,
   "id": "eb08cba3",
   "metadata": {},
   "outputs": [
    {
     "name": "stdout",
     "output_type": "stream",
     "text": [
      "['499', '573', '1,600', '892', '-', '-', '-', '-', '-', '-', '2,177', '-', '-', '-', '-', '-', '-', '-', '-', '-', '-', '-', '-', '-', '-', '450', '474', '497', '678', '-', '-', '-', '-', '-', '-', '-', '-', '-', '-', '-', '-', '-', '-', '-', '-', '-', '-', '-', '299', '-', '-', '-', '-', '-', '-', '-', '609', '-', '-', '-', '-', '1,600', '701', '274', '3,490', '499', '573', '-', '892', '-', '-', '-', '-', '-', '-', '2,177', '-', '-', '-', '-', '-', '-', '-', '-', '-', '-', '-', '-', '-', '-', '450', '474', '497', '678', '-', '-', '-', '-', '-', '-', '-', '-', '-', '-', '-', '-', '-', '-', '-', '-', '-', '-', '-', '299', '-', '-', '-', '-', '-', '-', '-', '609', '-', '-', '-', '-', '1,600', '701', '274', '3,490', '499', '573', '1,600', '892', '-', '-', '-', '-', '-', '-', '2,177', '-', '-', '-', '-', '-', '-', '-', '-', '-', '-', '-', '-', '-', '-', '450', '474', '497', '678', '-', '-', '-', '-', '-', '-', '-', '-', '-', '-', '-', '-', '-', '-', '-', '-', '-', '-', '-', '299', '-', '-', '-', '-', '-', '-', '-', '609', '-', '-', '-', '-', '1,600', '701', '274', '3,490', '499', '573', '1,600', '892', '-', '-', '-', '-', '-', '-', '2,177', '-', '-', '-', '-', '-', '-', '-', '-', '-', '-', '-', '-', '-', '-', '450', '474', '497', '678', '-', '-', '-', '-', '-', '-', '-', '-', '-', '-', '-', '-', '-', '-', '-', '-', '-', '-', '-', '299', '-', '-', '-', '-', '-', '-', '-', '609', '-', '-', '-', '-', '1,600', '701', '274', '3,490'] \n",
      " ['30 days Return & Exchange', '10 days Returnable', '30 days Return & Exchange', '-', '-', '-', '-', '-', '-', '-', '30 days Return & Exchange', '-', '-', '-', '-', '-', '-', '-', '-', '-', '-', '-', '-', '-', '-', '30 days Return & Exchange', '30 days Return & Exchange', '10 days Returnable', '30 days Return & Exchange', '-', '-', '-', '-', '-', '-', '-', '-', '-', '-', '-', '-', '-', '-', '-', '-', '-', '-', '-', '-', '-', '-', '-', '-', '-', '-', '-', '30 days Return & Exchange', '-', '-', '-', '-', '30 days Return & Exchange', '30 days Return & Exchange', '30 days Return & Exchange', '30 days Return & Exchange', '30 days Return & Exchange', '10 days Returnable', '-', '-', '-', '-', '-', '-', '-', '-', '30 days Return & Exchange', '-', '-', '-', '-', '-', '-', '-', '-', '-', '-', '-', '-', '-', '-', '30 days Return & Exchange', '30 days Return & Exchange', '10 days Returnable', '30 days Return & Exchange', '-', '-', '-', '-', '-', '-', '-', '-', '-', '-', '-', '-', '-', '-', '-', '-', '-', '-', '-', '-', '-', '-', '-', '-', '-', '-', '-', '30 days Return & Exchange', '-', '-', '-', '-', '30 days Return & Exchange', '30 days Return & Exchange', '30 days Return & Exchange', '30 days Return & Exchange', '30 days Return & Exchange', '10 days Returnable', '30 days Return & Exchange', '-', '-', '-', '-', '-', '-', '-', '30 days Return & Exchange', '-', '-', '-', '-', '-', '-', '-', '-', '-', '-', '-', '-', '-', '-', '30 days Return & Exchange', '30 days Return & Exchange', '10 days Returnable', '30 days Return & Exchange', '-', '-', '-', '-', '-', '-', '-', '-', '-', '-', '-', '-', '-', '-', '-', '-', '-', '-', '-', '-', '-', '-', '-', '-', '-', '-', '-', '30 days Return & Exchange', '-', '-', '-', '-', '30 days Return & Exchange', '30 days Return & Exchange', '30 days Return & Exchange', '30 days Return & Exchange', '30 days Return & Exchange', '10 days Returnable', '30 days Return & Exchange', '-', '-', '-', '-', '-', '-', '-', '30 days Return & Exchange', '-', '-', '-', '-', '-', '-', '-', '-', '-', '-', '-', '-', '-', '-', '30 days Return & Exchange', '30 days Return & Exchange', '10 days Returnable', '30 days Return & Exchange', '-', '-', '-', '-', '-', '-', '-', '-', '-', '-', '-', '-', '-', '-', '-', '-', '-', '-', '-', '-', '-', '-', '-', '-', '-', '-', '-', '30 days Return & Exchange', '-', '-', '-', '-', '30 days Return & Exchange', '30 days Return & Exchange', '30 days Return & Exchange', '30 days Return & Exchange'] \n",
      " ['FREE delivery Monday, 19 December. Order within 19 hrs 55 mins. Details', 'FREE delivery Friday, 16 December. Details', 'FREE delivery Monday, 19 December. Order within 4 hrs 25 mins. Details', 'FREE delivery Sunday, 18 December. Details', '-', '-', '-', '-', '-', '-', 'FREE delivery Friday, 16 December. Order within 2 hrs 39 mins. Details', '-', '-', '-', '-', '-', '-', '-', '-', '-', '-', '-', '-', '-', '-', 'FREE delivery Friday, 16 December on first order. Details', 'FREE delivery Monday, 19 December on first order. Order within 19 hrs 54 mins. Details', 'FREE delivery Monday, 19 December on first order. Order within 19 hrs 54 mins. Details', 'FREE delivery Monday, 19 December. Order within 19 hrs 53 mins. Details', '-', '-', '-', '-', '-', '-', '-', '-', '-', '-', '-', '-', '-', '-', '-', '-', '-', '-', '-', '₹65 delivery Tuesday, 20 December. Details', '-', '-', '-', '-', '-', '-', '-', 'FREE delivery Friday, 16 December. Order within 2 hrs 37 mins. Details', '-', '-', '-', '-', 'FREE delivery Friday, 16 December. Order within 2 hrs 37 mins. Details', 'FREE delivery Sunday, 18 December. Order within 16 hrs 22 mins. Details', 'FREE delivery Monday, 19 December on first order. Order within 15 hrs 52 mins. Details', 'FREE delivery Tuesday, 20 December. Order within 10 hrs 21 mins. Details', 'FREE delivery Monday, 19 December. Order within 19 hrs 51 mins. Details', 'FREE delivery Friday, 16 December. Details', '-', 'FREE delivery Sunday, 18 December. Details', '-', '-', '-', '-', '-', '-', 'FREE delivery Friday, 16 December. Order within 2 hrs 36 mins. Details', '-', '-', '-', '-', '-', '-', '-', '-', '-', '-', '-', '-', '-', '-', 'FREE delivery Friday, 16 December on first order. Details', 'FREE delivery Monday, 19 December on first order. Order within 19 hrs 50 mins. Details', 'FREE delivery Monday, 19 December on first order. Order within 19 hrs 50 mins. Details', 'FREE delivery Monday, 19 December. Order within 19 hrs 50 mins. Details', '-', '-', '-', '-', '-', '-', '-', '-', '-', '-', '-', '-', '-', '-', '-', '-', '-', '-', '-', '₹65 delivery Tuesday, 20 December. Details', '-', '-', '-', '-', '-', '-', '-', 'FREE delivery Friday, 16 December. Order within 2 hrs 34 mins. Details', '-', '-', '-', '-', 'FREE delivery Friday, 16 December. Order within 2 hrs 33 mins. Details', 'FREE delivery Sunday, 18 December. Order within 16 hrs 18 mins. Details', 'FREE delivery Monday, 19 December on first order. Order within 15 hrs 48 mins. Details', 'FREE delivery Tuesday, 20 December. Order within 10 hrs 18 mins. Details', 'FREE delivery Monday, 19 December. Order within 19 hrs 48 mins. Details', 'FREE delivery Friday, 16 December. Details', 'FREE delivery Monday, 19 December. Order within 4 hrs 18 mins. Details', 'FREE delivery Sunday, 18 December. Details', '-', '-', '-', '-', '-', '-', 'FREE delivery Friday, 16 December. Order within 2 hrs 33 mins. Details', '-', '-', '-', '-', '-', '-', '-', '-', '-', '-', '-', '-', '-', '-', 'FREE delivery Friday, 16 December on first order. Details', 'FREE delivery Monday, 19 December on first order. Order within 19 hrs 47 mins. Details', 'FREE delivery Monday, 19 December on first order. Order within 19 hrs 47 mins. Details', 'FREE delivery Monday, 19 December. Order within 19 hrs 47 mins. Details', '-', '-', '-', '-', '-', '-', '-', '-', '-', '-', '-', '-', '-', '-', '-', '-', '-', '-', '-', '₹65 delivery Tuesday, 20 December. Details', '-', '-', '-', '-', '-', '-', '-', 'FREE delivery Friday, 16 December. Order within 2 hrs 30 mins. Details', '-', '-', '-', '-', 'FREE delivery Friday, 16 December. Order within 2 hrs 30 mins. Details', 'FREE delivery Sunday, 18 December. Order within 16 hrs 15 mins. Details', 'FREE delivery Monday, 19 December on first order. Order within 15 hrs 45 mins. Details', 'FREE delivery Tuesday, 20 December. Order within 10 hrs 15 mins. Details', 'FREE delivery Monday, 19 December. Order within 19 hrs 45 mins. Details', 'FREE delivery Friday, 16 December. Details', 'FREE delivery Monday, 19 December. Order within 4 hrs 15 mins. Details', 'FREE delivery Sunday, 18 December. Details', '-', '-', '-', '-', '-', '-', 'FREE delivery Friday, 16 December. Order within 2 hrs 29 mins. Details', '-', '-', '-', '-', '-', '-', '-', '-', '-', '-', '-', '-', '-', '-', 'FREE delivery Friday, 16 December on first order. Details', 'FREE delivery Monday, 19 December on first order. Order within 19 hrs 43 mins. Details', 'FREE delivery Monday, 19 December on first order. Order within 19 hrs 43 mins. Details', 'FREE delivery Monday, 19 December. Order within 19 hrs 43 mins. Details', '-', '-', '-', '-', '-', '-', '-', '-', '-', '-', '-', '-', '-', '-', '-', '-', '-', '-', '-', '₹65 delivery Tuesday, 20 December. Details', '-', '-', '-', '-', '-', '-', '-', 'FREE delivery Friday, 16 December. Order within 2 hrs 27 mins. Details', '-', '-', '-', '-', 'FREE delivery Friday, 16 December. Order within 2 hrs 27 mins. Details', 'FREE delivery Sunday, 18 December. Order within 16 hrs 12 mins. Details', 'FREE delivery Monday, 19 December on first order. Order within 15 hrs 41 mins. Details', 'FREE delivery Tuesday, 20 December. Order within 10 hrs 11 mins. Details'] \n",
      " ['In stock.', 'In stock.', 'Only 4 left in stock.', 'In stock.', '-', '-', '-', '-', '-', '-', 'In stock.', '-', '-', '-', '-', '-', '-', '-', '-', '-', '-', '-', '-', '-', '-', 'In stock.', 'In stock.', 'In stock.', 'In stock.', '-', '-', '-', '-', '-', '-', '-', '-', '-', '-', '-', '-', '-', '-', '-', '-', '-', '-', '-', 'In stock.', '-', '-', '-', '-', '-', '-', '-', 'In stock.', '-', '-', '-', '-', 'Only 2 left in stock.', 'In stock.', 'In stock.', 'In stock.', 'In stock.', 'In stock.', '-', 'In stock.', '-', '-', '-', '-', '-', '-', 'In stock.', '-', '-', '-', '-', '-', '-', '-', '-', '-', '-', '-', '-', '-', '-', 'In stock.', 'In stock.', 'In stock.', 'In stock.', '-', '-', '-', '-', '-', '-', '-', '-', '-', '-', '-', '-', '-', '-', '-', '-', '-', '-', '-', 'In stock.', '-', '-', '-', '-', '-', '-', '-', 'In stock.', '-', '-', '-', '-', 'Only 2 left in stock.', 'In stock.', 'In stock.', 'In stock.', 'In stock.', 'In stock.', 'Only 4 left in stock.', 'In stock.', '-', '-', '-', '-', '-', '-', 'In stock.', '-', '-', '-', '-', '-', '-', '-', '-', '-', '-', '-', '-', '-', '-', 'In stock.', 'In stock.', 'In stock.', 'In stock.', '-', '-', '-', '-', '-', '-', '-', '-', '-', '-', '-', '-', '-', '-', '-', '-', '-', '-', '-', 'In stock.', '-', '-', '-', '-', '-', '-', '-', 'In stock.', '-', '-', '-', '-', 'Only 2 left in stock.', 'In stock.', 'In stock.', 'In stock.', 'In stock.', 'In stock.', 'Only 4 left in stock.', 'In stock.', '-', '-', '-', '-', '-', '-', 'In stock.', '-', '-', '-', '-', '-', '-', '-', '-', '-', '-', '-', '-', '-', '-', 'In stock.', 'In stock.', 'In stock.', 'In stock.', '-', '-', '-', '-', '-', '-', '-', '-', '-', '-', '-', '-', '-', '-', '-', '-', '-', '-', '-', 'In stock.', '-', '-', '-', '-', '-', '-', '-', 'In stock.', '-', '-', '-', '-', 'Only 2 left in stock.', 'In stock.', 'In stock.', 'In stock.']\n"
     ]
    }
   ],
   "source": [
    "print(price,\"\\n\",returnexchange,\"\\n\",delivery,\"\\n\",avaibility)"
   ]
  },
  {
   "cell_type": "code",
   "execution_count": 22,
   "id": "615a458e",
   "metadata": {},
   "outputs": [],
   "source": [
    "# because of testing in small chunk i have following code to clear the list.\n",
    "# price.clear()\n",
    "# returnexchange.clear()\n",
    "# delivery.clear()\n",
    "# avaibility.clear()"
   ]
  },
  {
   "cell_type": "code",
   "execution_count": 37,
   "id": "51d5d459",
   "metadata": {},
   "outputs": [
    {
     "name": "stdout",
     "output_type": "stream",
     "text": [
      "              Brand                                       Product Name  Price  \\\n",
      "0             ASIAN  Men's Cosko Sports Running,Walking,Gym,Trainin...    499   \n",
      "1             ASIAN  Men's PRIME-01 Sports Walking,Running,Gym Shoe...    573   \n",
      "2  FURO by Redchief                      Mens R1016 C830 Running Shoes  1,600   \n",
      "3             eeken  Maroon Athleisure Lightweight Casual Shoes for...    892   \n",
      "4             ASIAN  Men's PRIME-01 Sports Walking,Running,Gym Shoe...      -   \n",
      "\n",
      "                      Return  \\\n",
      "0  30 days Return & Exchange   \n",
      "1         10 days Returnable   \n",
      "2  30 days Return & Exchange   \n",
      "3                          -   \n",
      "4                          -   \n",
      "\n",
      "                                            Delivery             Avaibility  \\\n",
      "0  FREE delivery Monday, 19 December. Order withi...              In stock.   \n",
      "1         FREE delivery Friday, 16 December. Details              In stock.   \n",
      "2  FREE delivery Monday, 19 December. Order withi...  Only 4 left in stock.   \n",
      "3         FREE delivery Sunday, 18 December. Details              In stock.   \n",
      "4                                                  -                      -   \n",
      "\n",
      "                                            ItemLink  \n",
      "0  https://www.amazon.in/sspa/click?ie=UTF8&spc=M...  \n",
      "1  https://www.amazon.in/sspa/click?ie=UTF8&spc=M...  \n",
      "2  https://www.amazon.in/sspa/click?ie=UTF8&spc=M...  \n",
      "3  https://www.amazon.in/sspa/click?ie=UTF8&spc=M...  \n",
      "4  https://www.amazon.in/ASIAN-Prime-01-Orange-Ru...                           Brand  \\\n",
      "255                     Sparx   \n",
      "256          FURO by Redchief   \n",
      "257  Amazon Brand - Symactive   \n",
      "258                   Unistar   \n",
      "259                   TruTuff   \n",
      "\n",
      "                                          Product Name  Price  \\\n",
      "255                           Mens Sm-648 Sports Shoes      -   \n",
      "256                      Mens R1016 C829 Running Shoes  1,600   \n",
      "257                                 Men's Running Shoe    701   \n",
      "258  Jogging, Walking & Running (Narrow Toe) Shoes;...    274   \n",
      "259  Men Safety Shoes - Light Weight, Anti Smash St...  3,490   \n",
      "\n",
      "                        Return  \\\n",
      "255                          -   \n",
      "256  30 days Return & Exchange   \n",
      "257  30 days Return & Exchange   \n",
      "258  30 days Return & Exchange   \n",
      "259  30 days Return & Exchange   \n",
      "\n",
      "                                              Delivery             Avaibility  \\\n",
      "255                                                  -                      -   \n",
      "256  FREE delivery Friday, 16 December. Order withi...  Only 2 left in stock.   \n",
      "257  FREE delivery Sunday, 18 December. Order withi...              In stock.   \n",
      "258  FREE delivery Monday, 19 December on first ord...              In stock.   \n",
      "259  FREE delivery Tuesday, 20 December. Order with...              In stock.   \n",
      "\n",
      "                                              ItemLink  \n",
      "255  https://www.amazon.in/Sparx-SM-648-Orange-Runn...  \n",
      "256  https://www.amazon.in/sspa/click?ie=UTF8&spc=M...  \n",
      "257  https://www.amazon.in/sspa/click?ie=UTF8&spc=M...  \n",
      "258  https://www.amazon.in/sspa/click?ie=UTF8&spc=M...  \n",
      "259  https://www.amazon.in/sspa/click?ie=UTF8&spc=M...  \n"
     ]
    }
   ],
   "source": [
    "productlist = pd.DataFrame({\"Brand\":brand,\"Product Name\":productname,\"Price\":price,\"Return\":returnexchange,\"Delivery\":delivery,\"Avaibility\":avaibility,\"ItemLink\":itemlinks})\n",
    "#check the list by top 5 and bottom 5 \n",
    "print(productlist.head(5),productlist.tail(5))"
   ]
  },
  {
   "cell_type": "code",
   "execution_count": 38,
   "id": "c9441fa7",
   "metadata": {},
   "outputs": [],
   "source": [
    "productlist.to_csv(\"Productlist.csv\")"
   ]
  },
  {
   "cell_type": "markdown",
   "id": "acd341f4",
   "metadata": {},
   "source": [
    "# Q3 : google images"
   ]
  },
  {
   "cell_type": "code",
   "execution_count": null,
   "id": "9f890540",
   "metadata": {},
   "outputs": [],
   "source": [
    "# get the website address\n",
    "driver.get(\"https://images.google.com/?gws_rd=ssl\")"
   ]
  },
  {
   "cell_type": "code",
   "execution_count": null,
   "id": "0972e001",
   "metadata": {},
   "outputs": [],
   "source": [
    "# search the text box with \"fruits\" and click on search button\n",
    "searchitem = driver.find_element(By.XPATH,\"/html/body/div[1]/div[3]/form/div[1]/div[1]/div[1]/div/div[2]/input\")\n",
    "searchitem.send_keys(\"fruits\")\n",
    "searchclk = driver.find_element(By.XPATH,'/html/body/div[1]/div[3]/form/div[1]/div[1]/div[1]/button').click()"
   ]
  },
  {
   "cell_type": "code",
   "execution_count": null,
   "id": "56b44c1a",
   "metadata": {},
   "outputs": [],
   "source": [
    "#to load the more images we need to scroll the pages\n",
    "for _ in range(20):\n",
    "    driver.execute_script(\"window.scrollTo(0, 1000)\")"
   ]
  },
  {
   "cell_type": "code",
   "execution_count": null,
   "id": "e5cf9173",
   "metadata": {},
   "outputs": [],
   "source": [
    "# get the links for each fruits and store into as image in folder till 10 items\n",
    "import requests\n",
    "from bs4 import BeautifulSoup\n",
    "\n",
    "fruitsimglnk = []\n",
    "\n",
    "fruittags = driver.find_elements(By.XPATH,'//img[@class=\"rg_i Q4LuWd\"]')\n",
    "for i in fruittags[0:100]:\n",
    "    source = i.get_attribute(\"src\")\n",
    "    if source is not None:\n",
    "        if(source[0:4]==\"http\"):\n",
    "            fruitsimglnk.append(source)\n",
    "\n",
    "for i in range(len(fruitsimglnk)):\n",
    "    if i>10:\n",
    "        break\n",
    "    response = requests.get(fruitsimglnk[i])\n",
    "    file = open(r\"C:\\Users\\user\\Desktop\\Flipnwork\\Assignment Q3\\Fruits\"+str(i)+\".jpg\",\"wb\")\n",
    "    file.write(response.content)"
   ]
  },
  {
   "cell_type": "code",
   "execution_count": null,
   "id": "164e0094",
   "metadata": {},
   "outputs": [],
   "source": [
    "# get the images.google website, then search for Car image and click\n",
    "driver.get(\"https://images.google.com/?gws_rd=ssl\")\n",
    "searchitem = driver.find_element(By.XPATH,\"/html/body/div[1]/div[3]/form/div[1]/div[1]/div[1]/div/div[2]/input\")\n",
    "searchitem.send_keys(\"cars\")\n",
    "searchclk = driver.find_element(By.XPATH,'/html/body/div[1]/div[3]/form/div[1]/div[1]/div[1]/button').click()"
   ]
  },
  {
   "cell_type": "code",
   "execution_count": null,
   "id": "6a1073cb",
   "metadata": {},
   "outputs": [],
   "source": [
    "#requests, and run scollto method to load more images\n",
    "# scrolldown to load the more images\n",
    "import requests\n",
    "\n",
    "for _ in range(20):\n",
    "    driver.execute_script(\"window.scrollTo(0, 1000)\")\n",
    "\n",
    "carsimglnk = []\n",
    "\n",
    "cartags = driver.find_elements(By.XPATH,'//img[@class=\"rg_i Q4LuWd\"]')\n",
    "for i in cartags:\n",
    "    source = i.get_attribute(\"src\")\n",
    "    if source is not None:\n",
    "        if(source[0:4]==\"http\"):\n",
    "            carsimglnk.append(source)\n",
    "\n",
    "for i in range(len(carsimglnk)):\n",
    "    if i>10:\n",
    "        break\n",
    "    response = requests.get(carsimglnk[i])\n",
    "    file = open(r\"C:\\Users\\user\\Desktop\\Flipnwork\\Assignment Q3\\cars\"+str(i)+\".jpg\",\"wb\")\n",
    "    file.write(response.content)"
   ]
  },
  {
   "cell_type": "code",
   "execution_count": null,
   "id": "f13cb5ba",
   "metadata": {},
   "outputs": [],
   "source": [
    "# i fit the list of requirement in list and iter the list and run in multiple funciton to achieve image for each item. \n",
    "\n",
    "\n",
    "import requests\n",
    "import time\n",
    "searchlist =[\"Machine Learning\",\"Guitar\",\"Cakes\"]\n",
    "\n",
    "for i in searchlist:\n",
    "    driver.get(\"https://images.google.com/?gws_rd=ssl\")\n",
    "    searchitem = driver.find_element(By.XPATH,\"/html/body/div[1]/div[3]/form/div[1]/div[1]/div[1]/div/div[2]/input\")\n",
    "    searchitem.send_keys(i)\n",
    "    searchclk = driver.find_element(By.XPATH,'/html/body/div[1]/div[3]/form/div[1]/div[1]/div[1]/button').click()   \n",
    "    time.sleep(2)\n",
    "    name = str(i.strip())\n",
    "    \n",
    "    for _ in range(20):\n",
    "        driver.execute_script(\"window.scrollTo(0, 1500)\")\n",
    "    \n",
    "    #time.sleep(2)\n",
    "\n",
    "    itemlist = []\n",
    "\n",
    "    itemtags = driver.find_elements(By.XPATH,'//img[@class=\"rg_i Q4LuWd\"]')\n",
    "    for i in itemtags:\n",
    "        source = i.get_attribute(\"src\")\n",
    "        if source is not None:\n",
    "            if(source[0:4]==\"http\"):\n",
    "                itemlist.append(source)\n",
    "\n",
    "    for i in range(len(itemlist)):\n",
    "        if i>10:\n",
    "            break\n",
    "        response = requests.get(itemlist[i])\n",
    "        file = open(r\"C:\\Users\\user\\Desktop\\Flipnwork\\Assignment Q3\\\\\"+name+str(i)+\".jpg\",\"wb\")\n",
    "        file.write(response.content)"
   ]
  },
  {
   "cell_type": "markdown",
   "id": "7cf2a11e",
   "metadata": {},
   "source": [
    "# Q-4 - scraping flipkart"
   ]
  },
  {
   "cell_type": "code",
   "execution_count": null,
   "id": "42ea7368",
   "metadata": {},
   "outputs": [],
   "source": [
    "#import library and run the driver again to get the flipkart and close the signin popup\n",
    "import time\n",
    "driver.get(\"https://www.flipkart.com/\")\n",
    "time.sleep(3)\n",
    "clssignpage = driver.find_element(By.XPATH,'/html/body/div[2]/div/div/button').click()"
   ]
  },
  {
   "cell_type": "code",
   "execution_count": null,
   "id": "0b95d0a7",
   "metadata": {},
   "outputs": [],
   "source": [
    "# create a list for item require and iter through each item list of search and then gethering the data.\n",
    "brandname=[]\n",
    "smartphonename=[]\n",
    "color=[]\n",
    "ram=[]\n",
    "storage=[]\n",
    "primarycamera=[]\n",
    "secondarycamera=[]\n",
    "dislaysize=[]\n",
    "batterycapacity=[]\n",
    "price=[]\n",
    "producturl=[]\n",
    "\n",
    "itemforsearch = [\"Oneplus Nord phone\",\"google pixel 4a phone\"]\n",
    "\n",
    "for i in itemforsearch:\n",
    "    searchitem = driver.find_element(By.XPATH,'/html/body/div[1]/div/div[1]/div[1]/div[2]/div[2]/form/div/div/input')\n",
    "    searchitem.send_keys(i)\n",
    "    searchbtnclk = driver.find_element(By.XPATH,'/html/body/div/div/div[1]/div[1]/div[2]/div[2]/form/div/button').click()\n",
    "    time.sleep(2)\n",
    "    \n",
    "    brandtags = driver.find_elements(By.XPATH,'//div[@class=\"_4rR01T\"]')\n",
    "    for i in brandtags:\n",
    "        l = i.text.split(\" \",1)\n",
    "        brandname.append(l[0])\n",
    "        #print(l[1:])\n",
    "        for j in l[1:]:\n",
    "            j = j.split(\"(\")\n",
    "            smartphonename.append(j[0].strip())\n",
    "            #print(j)\n",
    "            for item in j[1:]:\n",
    "                n = item.replace(\")\",\"\")\n",
    "                l = n.split(\",\")\n",
    "                color.append(l[0].strip())\n",
    "                storage.append(l[1].strip())\n",
    "                #print(l)\n",
    " # get the elements for Ram   \n",
    "    ramtags = driver.find_elements(By.XPATH,'//ul[@class=\"_1xgFaf\"]//li[1]')\n",
    "    for i in ramtags:\n",
    "        n = i.text.split(\"|\")\n",
    "        ram.append(n[0].strip())\n",
    "# get the elements for displace of screen size\n",
    "    displaytags = driver.find_elements(By.XPATH,'//ul[@class=\"_1xgFaf\"]//li[2]')\n",
    "    for i in displaytags:\n",
    "        dislaysize.append(i.text)\n",
    "# get the element for camera features for front and back of phone\n",
    "    cameratags = driver.find_elements(By.XPATH,'//ul[@class=\"_1xgFaf\"]//li[3]')\n",
    "    for i in cameratags:\n",
    "        n =i.text.split(\"|\")\n",
    "        if len(n)>1:\n",
    "            primarycamera.append(n[0].strip())\n",
    "            secondarycamera.append(n[1].strip())\n",
    "        else:\n",
    "            primarycamera.append(n[0].strip())\n",
    "            secondarycamera.append(\"-\")\n",
    "# get the element for battery capacity of the phone\n",
    "\n",
    "    batterycapacitytags = driver.find_elements(By.XPATH,'//ul[@class=\"_1xgFaf\"]//li[4]')\n",
    "    for i in batterycapacitytags:\n",
    "        batterycapacity.append(i.text)\n",
    "\n",
    "# get the element for price of the phone      \n",
    "    pricetags = driver.find_elements(By.XPATH,'//div[@class=\"_30jeq3 _1_WHN1\"]')\n",
    "    for i in pricetags:\n",
    "        price.append(i.text)\n",
    "# get the product url\n",
    "    productdurl=[]\n",
    "    producturltag = driver.find_elements(By.XPATH,'//a[@class=\"_1fQZEK\"]')\n",
    "    for i in producturltag:\n",
    "        producturl.append(i.get_attribute(\"href\")) \n",
    "#clear the searchbox for the next item search        \n",
    "    clearsearchbox = driver.find_element(By.XPATH,'/html/body/div[1]/div/div[1]/div[1]/div[2]/div[2]/form/div/div/input').clear()\n",
    "    "
   ]
  },
  {
   "cell_type": "code",
   "execution_count": null,
   "id": "42ab5a9d",
   "metadata": {},
   "outputs": [],
   "source": [
    "#Check the length of the item\n",
    "print(len(brandname),len(smartphonename),len(color),len(storage),len(ram),len(dislaysize),len(primarycamera)\n",
    "     ,len(secondarycamera),len(batterycapacity),len(price),len(producturl))\n",
    "# brandname.clear()\n",
    "# smartphonename.clear()\n",
    "# color.clear()\n",
    "# ram.clear()\n",
    "# storage.clear()\n",
    "# primarycamera.clear()\n",
    "# secondarycamera.clear()\n",
    "# dislaysize.clear()\n",
    "# batterycapacity.clear()\n",
    "# price.clear()\n",
    "# producturl.clear()"
   ]
  },
  {
   "cell_type": "code",
   "execution_count": null,
   "id": "b7a15527",
   "metadata": {},
   "outputs": [],
   "source": [
    "# transfer list into Dataframe\n",
    "import pandas as pd\n",
    "mobilephoneinfo = pd.DataFrame({\"Brand\":brandname,\"Smart Phone model\":smartphonename,\n",
    "                              \"Color\":color,\"Storage\":storage,\"Ram\":ram,\n",
    "                              \"Primary Camera\":primarycamera,\n",
    "                              \"Secondary Camera\":secondarycamera,\n",
    "                              \"Display Size\":dislaysize,\n",
    "                              \"Battery Capacity\":batterycapacity,\n",
    "                              \"Price\":price,\"Product URL\":producturl})"
   ]
  },
  {
   "cell_type": "markdown",
   "id": "c62a8e68",
   "metadata": {},
   "source": [
    "# Q5 Geosatial Coordinates"
   ]
  },
  {
   "cell_type": "code",
   "execution_count": null,
   "id": "22db014e",
   "metadata": {},
   "outputs": [],
   "source": [
    "# get the website and accept all cookies.\n",
    "driver.get(\"https://www.google.co.uk/maps\")\n",
    "acceptallclk =driver.find_element(By.XPATH,'/html/body/c-wiz/div/div/div/div[2]/div[1]/div[3]/div[1]/div[1]/form[2]/div/div/button').click()"
   ]
  },
  {
   "cell_type": "code",
   "execution_count": null,
   "id": "56bb50ad",
   "metadata": {},
   "outputs": [],
   "source": [
    "# create a list for all city for iter each and getter the data for it.\n",
    "cityname = [\"Ahmedabad\",\"vadodara\",\"Surat\",\"Rajkot\",\"Bhavnagar\",\"Gandhinagar\"]\n",
    "long_lati=[]\n",
    "import time\n",
    "import re\n",
    "\n",
    "for i in cityname:\n",
    "    searchcity = driver.find_element(By.XPATH,'/html/body/div[3]/div[9]/div[3]/div[1]/div[1]/div/div[2]/form/input[1]')\n",
    "    searchcity.send_keys(i)\n",
    "    searchbtnclk = driver.find_element(By.XPATH,'/html/body/div[3]/div[9]/div[3]/div[1]/div[1]/div/div[2]/div[1]/button').click()\n",
    "    time.sleep(3)\n",
    "    currenturl = driver.current_url\n",
    "    l = re.findall(r'@(.*)data',currenturl)\n",
    "    #print(l) # to check the data is correct or not\n",
    "    long_lati.append(l)\n",
    "    clearsearch = driver.find_element(By.XPATH,'/html/body/div[3]/div[9]/div[3]/div[1]/div[1]/div/div[2]/form/input[1]').clear()\n",
    "    \n",
    "    \n",
    "    \n"
   ]
  },
  {
   "cell_type": "code",
   "execution_count": null,
   "id": "b75c3d49",
   "metadata": {},
   "outputs": [],
   "source": [
    "# create a empty list and iter through the link in above list, and gether the data with string.\n",
    "Long=[]\n",
    "Lati=[]\n",
    "\n",
    "for i in long_lati:\n",
    "    n= str(i).split(\",\")\n",
    "    l = n[0].replace(\"['\",\"\")\n",
    "    Long.append(l)\n",
    "    Lati.append(n[1])\n",
    "print(cityname,Long,Lati)"
   ]
  },
  {
   "cell_type": "code",
   "execution_count": null,
   "id": "2edd826b",
   "metadata": {},
   "outputs": [],
   "source": [
    "#import pandas library to make a dataframe for data.\n",
    "import pandas as pd\n",
    "citylonglati =pd.DataFrame({\"City Name\":cityname,\"Longitude\":Long,\"Latitude\":Lati})"
   ]
  },
  {
   "cell_type": "markdown",
   "id": "704b6cc2",
   "metadata": {},
   "source": [
    "# Q-6 trak.in Funding Deals"
   ]
  },
  {
   "cell_type": "code",
   "execution_count": 3,
   "id": "264a352a",
   "metadata": {},
   "outputs": [],
   "source": [
    "# called all library for webscarpping\n",
    "driver.get(\"https://trak.in/india-startup-funding-investment-2015/\")"
   ]
  },
  {
   "cell_type": "code",
   "execution_count": 43,
   "id": "07d0b7c5",
   "metadata": {},
   "outputs": [],
   "source": [
    "#gethering the date from all table in website\n",
    "srno=[]\n",
    "dateddmmyy=[]\n",
    "startupname=[]\n",
    "industry=[]\n",
    "subvertical=[]\n",
    "citylocation=[]\n",
    "investmentname=[]\n",
    "investmenttype=[]\n",
    "amountinusd=[]\n",
    "\n",
    "\n",
    "srnotags = driver.find_elements(By.XPATH,'//tbody//tr//td[@class=\"column-1\"]')\n",
    "for i in srnotags:\n",
    "    srno.append(i.text)\n",
    "    \n",
    "datetags = driver.find_elements(By.XPATH,'//tbody//tr//td[@class=\"column-2\"]')\n",
    "for i in datetags:\n",
    "    dateddmmyy.append(i.text)\n",
    "    \n",
    "startupnametags=driver.find_elements(By.XPATH,'//tbody//tr//td[@class=\"column-3\"]')\n",
    "for i in startupnametags:\n",
    "    startupname.append(i.text)\n",
    "    \n",
    "industrytags=driver.find_elements(By.XPATH,'//tbody//tr//td[@class=\"column-4\"]')\n",
    "for i in industrytags:\n",
    "    industry.append(i.text)\n",
    "    \n",
    "subverticaltags=driver.find_elements(By.XPATH,'//tbody//tr//td[@class=\"column-5\"]')\n",
    "for i in subverticaltags:\n",
    "    subvertical.append(i.text)\n",
    "\n",
    "citylocationtags=driver.find_elements(By.XPATH,'//tbody//tr//td[@class=\"column-6\"]')\n",
    "for i in citylocationtags:\n",
    "    citylocation.append(i.text)\n",
    "    \n",
    "investmentnametags=driver.find_elements(By.XPATH,'//tbody//tr//td[@class=\"column-7\"]')\n",
    "for i in investmentnametags:\n",
    "    investmentname.append(i.text)\n",
    "    \n",
    "investmenttypetags=driver.find_elements(By.XPATH,'//tbody//tr//td[@class=\"column-8\"]')\n",
    "for i in investmenttypetags:\n",
    "    investmenttype.append(i.text)\n",
    "    \n",
    "amountinusdtags=driver.find_elements(By.XPATH,'//tbody//tr//td[@class=\"column-9\"]')\n",
    "for i in amountinusdtags:\n",
    "    amountinusd.append(i.text)"
   ]
  },
  {
   "cell_type": "code",
   "execution_count": 44,
   "id": "70923d9e",
   "metadata": {},
   "outputs": [
    {
     "name": "stdout",
     "output_type": "stream",
     "text": [
      "392 392 392 392 392 392 392 392 392\n"
     ]
    }
   ],
   "source": [
    "#check the length of the items in each list\n",
    "print(len(srno),len(dateddmmyy),len(startupname),len(industry),\n",
    "len(subvertical),len(citylocation),len(investmentname),\n",
    "len(investmenttype),len(amountinusd))"
   ]
  },
  {
   "cell_type": "code",
   "execution_count": 45,
   "id": "7eb6ee66",
   "metadata": {},
   "outputs": [],
   "source": [
    "#transfer the list of the date into DataFrame\n",
    "Startupfunding = pd.DataFrame({\"Sr No\":srno,\"Date\":dateddmmyy,\"Startup Name\":startupname,\n",
    "                              \"Industry / Vartical\":industry,\n",
    "                              \"Sub-Vertical\":subvertical,\n",
    "                              \"City/Location\":citylocation,\n",
    "                              \"Investor' Name\":investmentname,\n",
    "                              \"Investment Type\":investmenttype,\n",
    "                              \"Amount(In USD)\":amountinusd})"
   ]
  },
  {
   "cell_type": "code",
   "execution_count": 72,
   "id": "211ebc9b",
   "metadata": {},
   "outputs": [
    {
     "data": {
      "text/html": [
       "<div>\n",
       "<style scoped>\n",
       "    .dataframe tbody tr th:only-of-type {\n",
       "        vertical-align: middle;\n",
       "    }\n",
       "\n",
       "    .dataframe tbody tr th {\n",
       "        vertical-align: top;\n",
       "    }\n",
       "\n",
       "    .dataframe thead th {\n",
       "        text-align: right;\n",
       "    }\n",
       "</style>\n",
       "<table border=\"1\" class=\"dataframe\">\n",
       "  <thead>\n",
       "    <tr style=\"text-align: right;\">\n",
       "      <th></th>\n",
       "      <th>Sr No</th>\n",
       "      <th>Date</th>\n",
       "      <th>Startup Name</th>\n",
       "      <th>Industry / Vartical</th>\n",
       "      <th>Sub-Vertical</th>\n",
       "      <th>City/Location</th>\n",
       "      <th>Investor' Name</th>\n",
       "      <th>Investment Type</th>\n",
       "      <th>Amount(In USD)</th>\n",
       "    </tr>\n",
       "  </thead>\n",
       "  <tbody>\n",
       "    <tr>\n",
       "      <th>0</th>\n",
       "      <td>1</td>\n",
       "      <td>01/04/2021</td>\n",
       "      <td>BYJU’S</td>\n",
       "      <td>Edu-tech</td>\n",
       "      <td>Online tutoring</td>\n",
       "      <td>Bengaluru</td>\n",
       "      <td>Innoven Capital</td>\n",
       "      <td>Series F</td>\n",
       "      <td>460,000,000</td>\n",
       "    </tr>\n",
       "    <tr>\n",
       "      <th>1</th>\n",
       "      <td>2</td>\n",
       "      <td>05/04/2021</td>\n",
       "      <td>Meesho</td>\n",
       "      <td>E-commerce</td>\n",
       "      <td>Online reselling platform</td>\n",
       "      <td>Bengaluru</td>\n",
       "      <td>SoftBank Vision Fund 2</td>\n",
       "      <td>Series E</td>\n",
       "      <td>300,000,000</td>\n",
       "    </tr>\n",
       "    <tr>\n",
       "      <th>2</th>\n",
       "      <td>4</td>\n",
       "      <td>07/04/2021</td>\n",
       "      <td>Groww</td>\n",
       "      <td>FinTech</td>\n",
       "      <td>Investment platform</td>\n",
       "      <td>Bengaluru</td>\n",
       "      <td>MC Global Edtech, B Capital, Baron, others</td>\n",
       "      <td>Series D</td>\n",
       "      <td>83,000,000</td>\n",
       "    </tr>\n",
       "    <tr>\n",
       "      <th>3</th>\n",
       "      <td>3</td>\n",
       "      <td>14/04/2021</td>\n",
       "      <td>Swiggy</td>\n",
       "      <td>Online Food Delivery</td>\n",
       "      <td>Online Food Delivery</td>\n",
       "      <td>Bengaluru</td>\n",
       "      <td>Amansa Holdings, Carmignac, Falcon Edge Capita...</td>\n",
       "      <td>Series J</td>\n",
       "      <td>343,000,000</td>\n",
       "    </tr>\n",
       "    <tr>\n",
       "      <th>4</th>\n",
       "      <td>5</td>\n",
       "      <td>14/04/2021</td>\n",
       "      <td>Beldara</td>\n",
       "      <td>E-commerce</td>\n",
       "      <td>Global B2B marketplace</td>\n",
       "      <td>Mumbai</td>\n",
       "      <td>Hindustan Media Ventures</td>\n",
       "      <td>Venture</td>\n",
       "      <td>7,400,000</td>\n",
       "    </tr>\n",
       "  </tbody>\n",
       "</table>\n",
       "</div>"
      ],
      "text/plain": [
       "  Sr No        Date Startup Name   Industry / Vartical  \\\n",
       "0     1  01/04/2021       BYJU’S              Edu-tech   \n",
       "1     2  05/04/2021       Meesho            E-commerce   \n",
       "2     4  07/04/2021        Groww               FinTech   \n",
       "3     3  14/04/2021       Swiggy  Online Food Delivery   \n",
       "4     5  14/04/2021      Beldara            E-commerce   \n",
       "\n",
       "                Sub-Vertical City/Location  \\\n",
       "0            Online tutoring     Bengaluru   \n",
       "1  Online reselling platform     Bengaluru   \n",
       "2        Investment platform     Bengaluru   \n",
       "3       Online Food Delivery     Bengaluru   \n",
       "4     Global B2B marketplace        Mumbai   \n",
       "\n",
       "                                      Investor' Name Investment Type  \\\n",
       "0                                    Innoven Capital        Series F   \n",
       "1                             SoftBank Vision Fund 2        Series E   \n",
       "2         MC Global Edtech, B Capital, Baron, others        Series D   \n",
       "3  Amansa Holdings, Carmignac, Falcon Edge Capita...        Series J   \n",
       "4                           Hindustan Media Ventures         Venture   \n",
       "\n",
       "  Amount(In USD)  \n",
       "0    460,000,000  \n",
       "1    300,000,000  \n",
       "2     83,000,000  \n",
       "3    343,000,000  \n",
       "4      7,400,000  "
      ]
     },
     "execution_count": 72,
     "metadata": {},
     "output_type": "execute_result"
    }
   ],
   "source": [
    "#Check the DataFrame with only top 5 row\n",
    "Startupfunding.head(5)"
   ]
  },
  {
   "cell_type": "code",
   "execution_count": 105,
   "id": "597ffc7c",
   "metadata": {},
   "outputs": [],
   "source": [
    "# change the string value of the date to date format and then filter the dataframe with date value between the Jan-21 to April-21\n",
    "\n",
    "import datetime as dt\n",
    "df['dates'] = pd.to_datetime(df['dates'], format='%Y%m%d')\n",
    "Startupfunding[\"Date\"] = pd.to_datetime(Startupfunding[\"Date\"])\n",
    "startupfund = Startupfunding.loc[(Startupfunding['Date']>'01-01-2021') & (Startupfunding['Date']<='30-04-2021')]"
   ]
  },
  {
   "cell_type": "code",
   "execution_count": 103,
   "id": "893cd5d0",
   "metadata": {},
   "outputs": [
    {
     "data": {
      "text/plain": [
       "274    05/07/2018\n",
       "311    05/07/2018\n",
       "348    05/07/2018\n",
       "385    05/07/2018\n",
       "Name: Date, dtype: object"
      ]
     },
     "execution_count": 103,
     "metadata": {},
     "output_type": "execute_result"
    }
   ],
   "source": [
    "#find the value wich give a issue with formating in date and change it to correct date format\n",
    "Startupfunding[\"Date\"].iloc[[274,311,348,385]]"
   ]
  },
  {
   "cell_type": "code",
   "execution_count": 107,
   "id": "610322a2",
   "metadata": {},
   "outputs": [
    {
     "data": {
      "text/plain": [
       "(21, 9)"
      ]
     },
     "execution_count": 107,
     "metadata": {},
     "output_type": "execute_result"
    }
   ],
   "source": [
    "# check the shape in Dataframe after the filter\n",
    "startupfund.shape"
   ]
  },
  {
   "cell_type": "markdown",
   "id": "8bd840b2",
   "metadata": {},
   "source": [
    "# Q-7 Best gaming Laptops"
   ]
  },
  {
   "cell_type": "code",
   "execution_count": 149,
   "id": "3214af44",
   "metadata": {},
   "outputs": [],
   "source": [
    "# get the website and open it.\n",
    "driver.get(\"https://www.digit.in/\")"
   ]
  },
  {
   "cell_type": "code",
   "execution_count": 150,
   "id": "0b5a7980",
   "metadata": {},
   "outputs": [],
   "source": [
    "# get the list of top10gaming laptop\n",
    "clkongaminglaptop = driver.find_element(By.XPATH,'/html/body/div[3]/div/div[2]/div[2]/div[4]/ul/li[9]/a').click()"
   ]
  },
  {
   "cell_type": "code",
   "execution_count": 152,
   "id": "e4c3f9f2",
   "metadata": {},
   "outputs": [],
   "source": [
    "# rank no and product name scape from main list page by itering the elements\n",
    "no=[]\n",
    "productname=[]\n",
    "\n",
    "notags = driver.find_elements(By.XPATH,'//div[@class=\"left_side\"]//span')\n",
    "for i in notags:\n",
    "    #print(i.text)\n",
    "    no.append(i.text)\n",
    "\n",
    "productnametags = driver.find_elements(By.XPATH,'//div[@class=\"left_side\"]//a//h3')\n",
    "for i in productnametags:\n",
    "    productname.append(i.text)\n",
    "\n",
    "# opertingtags = driver.find_elements(By.XPATH,'//div[@class=\"Specs-Wrap\"]//li//div//div[@class=\"value\"]')\n",
    "# for i in opertingtags:\n",
    "#     print(i.text.split(\"\\n\"))\n",
    "#     operatingsys.append(i.text.split(\"\\n\"))\n",
    "#     print(len(operatingsys))\n"
   ]
  },
  {
   "cell_type": "code",
   "execution_count": 153,
   "id": "42bd9140",
   "metadata": {},
   "outputs": [],
   "source": [
    "# get the href link for the each product for detail page\n",
    "ahref = driver.find_elements(By.XPATH,'//div[@class=\"left_side\"]//a')\n",
    "itemlink=[]\n",
    "\n",
    "for i in ahref:\n",
    "    #print(i.get_attribute(\"href\"))\n",
    "    itemlink.append(i.get_attribute(\"href\"))"
   ]
  },
  {
   "cell_type": "code",
   "execution_count": 154,
   "id": "1e0f2b3e",
   "metadata": {},
   "outputs": [],
   "source": [
    "# get the extra item detail of each laptop from their each individual prodcut link\n",
    "import time\n",
    "\n",
    "operatingsys=[]\n",
    "processor=[]\n",
    "screensize=[]\n",
    "memory=[]\n",
    "graphiccard=[]\n",
    "harddrive=[]\n",
    "\n",
    "for i in itemlink:\n",
    "    \n",
    "    driver.get(i)\n",
    "    \n",
    "    time.sleep(3)\n",
    "\n",
    "    ostags = driver.find_element(By.XPATH,'//*[contains(text(),\"operating system (with version)\")]')\n",
    "    \n",
    "    operatingsys.append(ostags.text)\n",
    "    \n",
    "    screentags = driver.find_element(By.XPATH,'//*[contains(text(),\"display size\")]')\n",
    "    screensize.append(screentags.text)\n",
    "    \n",
    "    memorytag = driver.find_element(By.XPATH,'//*[contains(text(),\"ram included (in gb)\")]')\n",
    "    memory.append(memorytag.text)\n",
    "    \n",
    "    processortag = driver.find_element(By.XPATH,'//*[contains(text(),\"processor model name\")]')\n",
    "    processor.append(processortag.text)\n",
    "    \n",
    "    graphictag = driver.find_element(By.XPATH,'//*[contains(text(),\"graphics processor\")]')\n",
    "    graphiccard.append(graphictag.text)\n",
    "    \n",
    "    harddrivetag = driver.find_element(By.XPATH,'//*[contains(text(),\"Storage drive capacity\")]')\n",
    "    harddrive.append(harddrivetag.text) \n",
    "    "
   ]
  },
  {
   "cell_type": "code",
   "execution_count": 148,
   "id": "673cfd34",
   "metadata": {},
   "outputs": [],
   "source": [
    "operatingsys.clear()\n",
    "processor.clear()\n",
    "screensize.clear()\n",
    "memory.clear()\n",
    "graphiccard.clear()\n",
    "harddrive.clear()"
   ]
  },
  {
   "cell_type": "code",
   "execution_count": 151,
   "id": "8c71d61d",
   "metadata": {},
   "outputs": [],
   "source": [
    "no.clear()\n",
    "productname.clear()"
   ]
  },
  {
   "cell_type": "code",
   "execution_count": 156,
   "id": "5d19f224",
   "metadata": {},
   "outputs": [
    {
     "name": "stdout",
     "output_type": "stream",
     "text": [
      "10 10 10 10 10 10 10 10\n"
     ]
    }
   ],
   "source": [
    "print(len(no),len(productname),len(operatingsys),\n",
    "len(processor),\n",
    "len(screensize),\n",
    "len(memory),\n",
    "len(graphiccard),\n",
    "len(harddrive))"
   ]
  },
  {
   "cell_type": "code",
   "execution_count": 157,
   "id": "aa92806b",
   "metadata": {},
   "outputs": [
    {
     "name": "stdout",
     "output_type": "stream",
     "text": [
      "  Rank                     Product Name Model  \\\n",
      "0   1.                   MSI Titan GT77-12UHS   \n",
      "1   2.                       Alienware X17 R2   \n",
      "2   3.  Acer Predator Triton 500 SE PT516-52s   \n",
      "3   4.                Omen By HP (16-B1371TX)   \n",
      "4   5.      Acer Predator Helios 300 AN515-45   \n",
      "\n",
      "                                OS             Processor  \\\n",
      "0  operating system (with version)  processor model name   \n",
      "1  operating system (with version)  processor model name   \n",
      "2  operating system (with version)  processor model name   \n",
      "3  operating system (with version)  processor model name   \n",
      "4  operating system (with version)  processor model name   \n",
      "\n",
      "                 Screensize                Memory       Graphics Card  \\\n",
      "0  display size (in inches)  ram included (in gb)  graphics processor   \n",
      "1  display size (in inches)  ram included (in gb)  graphics processor   \n",
      "2  display size (in inches)  ram included (in gb)  graphics processor   \n",
      "3  display size (in inches)  ram included (in gb)  graphics processor   \n",
      "4  display size (in inches)  ram included (in gb)  graphics processor   \n",
      "\n",
      "         Storage Capacity  \n",
      "0  Storage drive capacity  \n",
      "1  Storage drive capacity  \n",
      "2  Storage drive capacity  \n",
      "3  Storage drive capacity  \n",
      "4  Storage drive capacity  \n"
     ]
    }
   ],
   "source": [
    "# list into Draframe\n",
    "Topgaminglaptop = pd.DataFrame({\"Rank\":no,\"Product Name Model\":productname,\n",
    "                               \"OS\":operatingsys,\n",
    "                               \"Processor\":processor,\n",
    "                               \"Screensize\":screensize,\n",
    "                               \"Memory\":memory,\n",
    "                               \"Graphics Card\":graphiccard,\n",
    "                               \"Storage Capacity\":harddrive})\n",
    "print(Topgaminglaptop.head(5))\n"
   ]
  },
  {
   "cell_type": "markdown",
   "id": "8f4eb9bb",
   "metadata": {},
   "source": [
    "# Q-8 All billionaires - Fobes"
   ]
  },
  {
   "cell_type": "code",
   "execution_count": 158,
   "id": "97b60ab5",
   "metadata": {},
   "outputs": [],
   "source": [
    "#get the necessary webscraping library\n",
    "import selenium\n",
    "from selenium import webdriver\n",
    "from selenium.webdriver.common.by import By\n",
    "import pandas as pd\n",
    "import warnings\n",
    "warnings.filterwarnings(\"ignore\")\n",
    "\n",
    "#define the driver for webriver to communicate with website\n",
    "driver = webdriver.Chrome(\"chromedriver.exe\")"
   ]
  },
  {
   "cell_type": "code",
   "execution_count": 159,
   "id": "077b93bb",
   "metadata": {},
   "outputs": [],
   "source": [
    "driver.get(\"https://www.forbes.com/?sh=28cf6062254c\")"
   ]
  },
  {
   "cell_type": "code",
   "execution_count": 160,
   "id": "a02026ec",
   "metadata": {},
   "outputs": [],
   "source": [
    "cookiesclk = driver.find_element(By.XPATH,'/html/body/div[4]/div/div[2]/div[3]/div[2]/button[1]').click()\n",
    "time.sleep(3)"
   ]
  },
  {
   "cell_type": "code",
   "execution_count": 173,
   "id": "5d9867cd",
   "metadata": {},
   "outputs": [],
   "source": [
    "# click on navigation button then select billionaries and then veiw all billionairs\n",
    "import time\n",
    "clknavi = driver.find_element(By.XPATH,'/html/body/div[1]/header/nav/div[1]/div/div/div[1]').click()\n",
    "time.sleep(2)\n",
    "clkonbillionaires=driver.find_element(By.XPATH,'/html/body/div[1]/header/nav/div[1]/div/div/div[2]/ul/li[1]/div[1]').click()\n",
    "time.sleep(2)\n",
    "clkonviewall = driver.find_element(By.XPATH,'/html/body/div[1]/header/nav/div[1]/div/div/div[2]/ul/li[1]/div[2]/div[3]/ul/li[1]/a')\n",
    "link = clkonviewall.get_attribute(\"href\")"
   ]
  },
  {
   "cell_type": "code",
   "execution_count": 175,
   "id": "a2e8a2d5",
   "metadata": {},
   "outputs": [],
   "source": [
    "driver.get(link)\n",
    "time.sleep(2)\n",
    "driver.execute_script(\"window.scrollTo(0, document.body.scrollHeight);\")"
   ]
  },
  {
   "cell_type": "code",
   "execution_count": 202,
   "id": "6c5096b0",
   "metadata": {},
   "outputs": [],
   "source": [
    "#create a list for the data and iter through require elements to collect the data\n",
    "rank=[]\n",
    "personname=[]\n",
    "networth=[]\n",
    "age=[]\n",
    "country=[]\n",
    "source=[]\n",
    "industry=[]\n",
    "\n",
    "time.sleep(4)\n",
    "\n",
    "ranktag = driver.find_elements(By.XPATH,'//div[@class=\"rank\"]')\n",
    "for i in ranktag:\n",
    "    rank.append(i.text)\n",
    "    \n",
    "nametag = driver.find_elements(By.XPATH,'//div[@class=\"personName\"]')\n",
    "for i in nametag:\n",
    "    personname.append(i.text)\n",
    "\n",
    "nettag = driver.find_elements(By.XPATH,'//div[@class=\"age\"]')\n",
    "for i in nettag:\n",
    "    networth.append(i.text)\n",
    "\n",
    "agetag = driver.find_elements(By.XPATH,'//div[@class=\"countryOfCitizenship\"]')\n",
    "for i in agetag:\n",
    "    age.append(i.text)\n",
    "    \n",
    "countrytag = driver.find_elements(By.XPATH,'//div[@class=\"source\"]')\n",
    "for i in countrytag:\n",
    "    country.append(i.text)\n",
    "    \n",
    "sourcetag = driver.find_elements(By.XPATH,'//div[@class=\"source-column\"]')\n",
    "for i in sourcetag:\n",
    "    source.append(i.text)\n",
    "\n",
    "industrytag=driver.find_elements(By.XPATH,'//div[@class=\"category\"]')\n",
    "for i in industrytag:\n",
    "    industry.append(i.text)"
   ]
  },
  {
   "cell_type": "code",
   "execution_count": 211,
   "id": "30d4b530",
   "metadata": {},
   "outputs": [
    {
     "name": "stdout",
     "output_type": "stream",
     "text": [
      "200 200 200 200 200 200 200\n"
     ]
    }
   ],
   "source": [
    "#check the data length for each list to confirm \n",
    "print(len(rank),len(personname),len(networth),len(age),len(country),\n",
    "len(source),len(industry))\n",
    "# rank.clear()\n",
    "# personname.clear()\n",
    "# networth.clear()\n",
    "# age.clear()\n",
    "#country.clear()\n",
    "# source.clear()\n",
    "# industry.clear()"
   ]
  },
  {
   "cell_type": "code",
   "execution_count": 213,
   "id": "0c8b5465",
   "metadata": {},
   "outputs": [
    {
     "name": "stdout",
     "output_type": "stream",
     "text": [
      "  Rank             Name Net Worth            Age               Country  \\\n",
      "0   1.        Elon Musk        50  United States         Tesla, SpaceX   \n",
      "1  29.       Robin Zeng        53      Hong Kong             batteries   \n",
      "2  56.  Susanne Klatten        59        Germany  BMW, pharmaceuticals   \n",
      "3  62.         Li Shufu        58          China           automobiles   \n",
      "4  77.    Stefan Quandt        55        Germany                   BMW   \n",
      "\n",
      "                 Source     Indusry  \n",
      "0         Tesla, SpaceX  Automotive  \n",
      "1             batteries  Automotive  \n",
      "2  BMW, pharmaceuticals  Automotive  \n",
      "3           automobiles  Automotive  \n",
      "4                   BMW  Automotive  \n"
     ]
    }
   ],
   "source": [
    "# transfer list to dataframe \n",
    "BillionairsDF = pd.DataFrame({\"Rank\":rank,\n",
    "                           \"Name\":personname,\n",
    "                           \"Net Worth\":networth,\n",
    "                           \"Age\":age,\n",
    "                           \"Country\":country,\n",
    "                           \"Source\":source,\n",
    "                           \"Indusry\":industry})\n",
    "\n",
    "#print the top 5 rows of dataframe to confirm\n",
    "pd.set_option('display.max_columns', None)\n",
    "\n",
    "print(BillionairsDF.head(5))"
   ]
  },
  {
   "cell_type": "markdown",
   "id": "9202fae3",
   "metadata": {},
   "source": [
    "# Q-9 Youtube video comment"
   ]
  },
  {
   "cell_type": "code",
   "execution_count": 214,
   "id": "65bb569b",
   "metadata": {},
   "outputs": [],
   "source": [
    "# import library for webscraping via selenium\n",
    "import selenium\n",
    "from selenium import webdriver\n",
    "from selenium.webdriver.common.by import By\n",
    "import pandas as pd\n",
    "import warnings\n",
    "warnings.filterwarnings(\"ignore\")\n"
   ]
  },
  {
   "cell_type": "code",
   "execution_count": 215,
   "id": "07329018",
   "metadata": {},
   "outputs": [],
   "source": [
    "# calling webdrive for chrome\n",
    "driver = webdriver.Chrome(\"chromedriver.exe\")"
   ]
  },
  {
   "cell_type": "code",
   "execution_count": 234,
   "id": "b99f7b26",
   "metadata": {},
   "outputs": [],
   "source": [
    "driver.get(\"https://www.youtube.com/watch?v=zhEWqfP6V_w\")"
   ]
  },
  {
   "cell_type": "code",
   "execution_count": 219,
   "id": "191889a5",
   "metadata": {},
   "outputs": [],
   "source": [
    "cookiesclk = driver.find_element(By.XPATH,'/html/body/ytd-app/ytd-consent-bump-v2-lightbox/tp-yt-paper-dialog/div[4]/div[2]/div[6]/div[1]/ytd-button-renderer[2]/yt-button-shape/button/yt-touch-feedback-shape/div/div[2]').click()\n"
   ]
  },
  {
   "cell_type": "code",
   "execution_count": 236,
   "id": "1a521bbd",
   "metadata": {},
   "outputs": [],
   "source": [
    "#scroll the page down till the loading of new comment end\n",
    "last_page_height = driver.execute_script(\"return document.documentElement.scrollHeight\")\n",
    "\n",
    "while True:\n",
    "    driver.execute_script(\"window.scrollTo(0, document.documentElement.scrollHeight);\")\n",
    "    time.sleep(3.0)\n",
    "    new_page_height = driver.execute_script(\"return document.documentElement.scrollHeight\")\n",
    "    if new_page_height == last_page_height:\n",
    "        break\n",
    "    last_page_height = new_page_height"
   ]
  },
  {
   "cell_type": "code",
   "execution_count": 269,
   "id": "7132d5f7",
   "metadata": {},
   "outputs": [],
   "source": [
    "# create list to save the data from element get from itering\n",
    "comment=[]\n",
    "commenttime=[]\n",
    "from selenium.common.exceptions import NoSuchElementException\n",
    "\n",
    "\n",
    "ctags = driver.find_elements(By.XPATH,'//div[@id=\"comment-content\"]')\n",
    "#print(ctags)\n",
    "for i in ctags[:500]:\n",
    "    l = i.text.split(\"\\n\")\n",
    "    if l !=None:\n",
    "        comment.append(l)\n",
    "    else:\n",
    "        comment.append(\"-\")\n",
    "            \n",
    "ctime = driver.find_elements(By.XPATH,'//yt-formatted-string[@class=\"published-time-text style-scope ytd-comment-renderer\"]')\n",
    "for i in ctime[:500]:\n",
    "    l = i.text.split(\"\\n\")\n",
    "    if l!=None:\n",
    "        commenttime.append(l)\n",
    "    else:\n",
    "        commentitme.append(\"-\")\n",
    "        "
   ]
  },
  {
   "cell_type": "code",
   "execution_count": 270,
   "id": "92050b48",
   "metadata": {},
   "outputs": [
    {
     "name": "stdout",
     "output_type": "stream",
     "text": [
      "500 500\n"
     ]
    }
   ],
   "source": [
    "#check the length of the list\n",
    "print(len(comment),len(commenttime))"
   ]
  },
  {
   "cell_type": "code",
   "execution_count": 271,
   "id": "cc448cb6",
   "metadata": {},
   "outputs": [
    {
     "name": "stdout",
     "output_type": "stream",
     "text": [
      "                                             Comment                     Time\n",
      "0  [This is a legendary match that will be rememb...             [2 days ago]\n",
      "1  [Martinez's incredible save in the 120th minut...           [22 hours ago]\n",
      "2  [Greatest football match ever. The last 40 min...           [20 hours ago]\n",
      "3  [No sé cuántas personas van a leer esto, pero ...  [14 hours ago (edited)]\n",
      "4  [This is the first time I see Argentina win a ...           [15 hours ago]\n"
     ]
    }
   ],
   "source": [
    "# list convert into Dataframe\n",
    "Youtubecommentdf = pd.DataFrame({\"Comment\":comment,\"Time\":commenttime})\n",
    "\n",
    "#check the dataframe \n",
    "print(Youtubecommentdf.head(5))"
   ]
  },
  {
   "cell_type": "markdown",
   "id": "a7d93246",
   "metadata": {},
   "source": [
    "# Q - 10 Hostel"
   ]
  },
  {
   "cell_type": "code",
   "execution_count": null,
   "id": "e1498a1c",
   "metadata": {},
   "outputs": [],
   "source": [
    "#import the library for websracping via selenium\n",
    "import selenium\n",
    "from selenium import webdriver\n",
    "from selenium.webdriver.common.by import By\n",
    "import pandas as pd\n",
    "import warnings\n",
    "warnings.filterwarnings(\"ignore\")"
   ]
  },
  {
   "cell_type": "code",
   "execution_count": 67,
   "id": "fe9d6f85",
   "metadata": {},
   "outputs": [],
   "source": [
    "#calling a webdriver\n",
    "driver = webdriver.Chrome(\"chromedriver.exe\")"
   ]
  },
  {
   "cell_type": "code",
   "execution_count": 68,
   "id": "9664962e",
   "metadata": {},
   "outputs": [],
   "source": [
    "import time\n",
    "driver.get(\"https://www.hostelworld.com/\")\n",
    "time.sleep(3)"
   ]
  },
  {
   "cell_type": "code",
   "execution_count": 69,
   "id": "ed4d12d0",
   "metadata": {},
   "outputs": [],
   "source": [
    "#accept cookies button\n",
    "from selenium.common.exceptions import NoSuchElementException\n",
    "\n",
    "try:\n",
    "    clkacceptall = driver.find_element(By.XPATH,'/html/body/div[3]/div/div/div[4]/div/div/div[2]/button[2]').click()\n",
    "except NoSuchElementException:\n",
    "    print(\"No cookies pop up\")"
   ]
  },
  {
   "cell_type": "code",
   "execution_count": 70,
   "id": "c9108f9a",
   "metadata": {},
   "outputs": [],
   "source": [
    "import time\n",
    "time.sleep(5)\n",
    "clktxtbox = driver.find_element(By.XPATH,'//input[@id=\"location-text-input-field\"]').click()\n",
    "time.sleep(2)\n",
    "findloc=driver.find_element(By.XPATH,'//input[@id=\"location-text-input-field\"]')\n",
    "findloc.send_keys(\"London\")\n",
    "time.sleep(2)"
   ]
  },
  {
   "cell_type": "code",
   "execution_count": 75,
   "id": "3e83f4b4",
   "metadata": {},
   "outputs": [],
   "source": [
    "selectfirst = driver.find_element(By.XPATH,'/html/body/div[3]/div/div/div[2]/div[2]/div/div/div[4]/div/div[2]/div/div[1]/div/div/ul/li[2]').click()\n",
    "time.sleep(2)\n",
    "clkletgo =driver.find_element(By.XPATH,'/html/body/div[3]/div/div/div[2]/div[2]/div/div/div[4]/div/div[2]/div/div[5]/button').click()"
   ]
  },
  {
   "cell_type": "code",
   "execution_count": 126,
   "id": "13fe20ec",
   "metadata": {},
   "outputs": [
    {
     "ename": "ElementClickInterceptedException",
     "evalue": "Message: element click intercepted: Element is not clickable at point (500, 7853)\n  (Session info: chrome=107.0.5304.107)\nStacktrace:\nBacktrace:\n\tOrdinal0 [0x006DACD3+2075859]\n\tOrdinal0 [0x0066EE61+1633889]\n\tOrdinal0 [0x0056B7BD+571325]\n\tOrdinal0 [0x005A1499+791705]\n\tOrdinal0 [0x0059F4AC+783532]\n\tOrdinal0 [0x0059D0AB+774315]\n\tOrdinal0 [0x0059BD37+769335]\n\tOrdinal0 [0x00591C76+728182]\n\tOrdinal0 [0x005B731C+881436]\n\tOrdinal0 [0x005915BF+726463]\n\tOrdinal0 [0x005B7534+881972]\n\tOrdinal0 [0x005CB56A+963946]\n\tOrdinal0 [0x005B7136+880950]\n\tOrdinal0 [0x0058FEFD+720637]\n\tOrdinal0 [0x00590F3F+724799]\n\tGetHandleVerifier [0x0098EED2+2769538]\n\tGetHandleVerifier [0x00980D95+2711877]\n\tGetHandleVerifier [0x0076A03A+521194]\n\tGetHandleVerifier [0x00768DA0+516432]\n\tOrdinal0 [0x0067682C+1665068]\n\tOrdinal0 [0x0067B128+1683752]\n\tOrdinal0 [0x0067B215+1683989]\n\tOrdinal0 [0x00686484+1729668]\n\tBaseThreadInitThunk [0x76A2FEF9+25]\n\tRtlGetAppContainerNamedObjectPath [0x77C07BBE+286]\n\tRtlGetAppContainerNamedObjectPath [0x77C07B8E+238]\n",
     "output_type": "error",
     "traceback": [
      "\u001b[1;31m---------------------------------------------------------------------------\u001b[0m",
      "\u001b[1;31mElementClickInterceptedException\u001b[0m          Traceback (most recent call last)",
      "Input \u001b[1;32mIn [126]\u001b[0m, in \u001b[0;36m<cell line: 13>\u001b[1;34m()\u001b[0m\n\u001b[0;32m     61\u001b[0m     facilities\u001b[38;5;241m.\u001b[39mappend(i\u001b[38;5;241m.\u001b[39mtext)\n\u001b[0;32m     63\u001b[0m \u001b[38;5;28;01mtry\u001b[39;00m:\n\u001b[1;32m---> 64\u001b[0m     nextbtn \u001b[38;5;241m=\u001b[39m \u001b[43mdriver\u001b[49m\u001b[38;5;241;43m.\u001b[39;49m\u001b[43mfind_element\u001b[49m\u001b[43m(\u001b[49m\u001b[43mBy\u001b[49m\u001b[38;5;241;43m.\u001b[39;49m\u001b[43mXPATH\u001b[49m\u001b[43m,\u001b[49m\u001b[38;5;124;43m'\u001b[39;49m\u001b[38;5;124;43m//div[@class=\u001b[39;49m\u001b[38;5;124;43m\"\u001b[39;49m\u001b[38;5;124;43mpagination-item pagination-next\u001b[39;49m\u001b[38;5;124;43m\"\u001b[39;49m\u001b[38;5;124;43m]\u001b[39;49m\u001b[38;5;124;43m'\u001b[39;49m\u001b[43m)\u001b[49m\u001b[38;5;241;43m.\u001b[39;49m\u001b[43mclick\u001b[49m\u001b[43m(\u001b[49m\u001b[43m)\u001b[49m\n\u001b[0;32m     66\u001b[0m \u001b[38;5;28;01mexcept\u001b[39;00m NoSuchElementException:\n\u001b[0;32m     67\u001b[0m     \u001b[38;5;28mprint\u001b[39m(\u001b[38;5;124m\"\u001b[39m\u001b[38;5;124mNo More Pages to display any result\u001b[39m\u001b[38;5;124m\"\u001b[39m)\n",
      "File \u001b[1;32m~\\anaconda3\\anaconda3\\lib\\site-packages\\selenium\\webdriver\\remote\\webelement.py:93\u001b[0m, in \u001b[0;36mWebElement.click\u001b[1;34m(self)\u001b[0m\n\u001b[0;32m     91\u001b[0m \u001b[38;5;28;01mdef\u001b[39;00m \u001b[38;5;21mclick\u001b[39m(\u001b[38;5;28mself\u001b[39m) \u001b[38;5;241m-\u001b[39m\u001b[38;5;241m>\u001b[39m \u001b[38;5;28;01mNone\u001b[39;00m:\n\u001b[0;32m     92\u001b[0m     \u001b[38;5;124;03m\"\"\"Clicks the element.\"\"\"\u001b[39;00m\n\u001b[1;32m---> 93\u001b[0m     \u001b[38;5;28;43mself\u001b[39;49m\u001b[38;5;241;43m.\u001b[39;49m\u001b[43m_execute\u001b[49m\u001b[43m(\u001b[49m\u001b[43mCommand\u001b[49m\u001b[38;5;241;43m.\u001b[39;49m\u001b[43mCLICK_ELEMENT\u001b[49m\u001b[43m)\u001b[49m\n",
      "File \u001b[1;32m~\\anaconda3\\anaconda3\\lib\\site-packages\\selenium\\webdriver\\remote\\webelement.py:410\u001b[0m, in \u001b[0;36mWebElement._execute\u001b[1;34m(self, command, params)\u001b[0m\n\u001b[0;32m    408\u001b[0m     params \u001b[38;5;241m=\u001b[39m {}\n\u001b[0;32m    409\u001b[0m params[\u001b[38;5;124m\"\u001b[39m\u001b[38;5;124mid\u001b[39m\u001b[38;5;124m\"\u001b[39m] \u001b[38;5;241m=\u001b[39m \u001b[38;5;28mself\u001b[39m\u001b[38;5;241m.\u001b[39m_id\n\u001b[1;32m--> 410\u001b[0m \u001b[38;5;28;01mreturn\u001b[39;00m \u001b[38;5;28;43mself\u001b[39;49m\u001b[38;5;241;43m.\u001b[39;49m\u001b[43m_parent\u001b[49m\u001b[38;5;241;43m.\u001b[39;49m\u001b[43mexecute\u001b[49m\u001b[43m(\u001b[49m\u001b[43mcommand\u001b[49m\u001b[43m,\u001b[49m\u001b[43m \u001b[49m\u001b[43mparams\u001b[49m\u001b[43m)\u001b[49m\n",
      "File \u001b[1;32m~\\anaconda3\\anaconda3\\lib\\site-packages\\selenium\\webdriver\\remote\\webdriver.py:444\u001b[0m, in \u001b[0;36mWebDriver.execute\u001b[1;34m(self, driver_command, params)\u001b[0m\n\u001b[0;32m    442\u001b[0m response \u001b[38;5;241m=\u001b[39m \u001b[38;5;28mself\u001b[39m\u001b[38;5;241m.\u001b[39mcommand_executor\u001b[38;5;241m.\u001b[39mexecute(driver_command, params)\n\u001b[0;32m    443\u001b[0m \u001b[38;5;28;01mif\u001b[39;00m response:\n\u001b[1;32m--> 444\u001b[0m     \u001b[38;5;28;43mself\u001b[39;49m\u001b[38;5;241;43m.\u001b[39;49m\u001b[43merror_handler\u001b[49m\u001b[38;5;241;43m.\u001b[39;49m\u001b[43mcheck_response\u001b[49m\u001b[43m(\u001b[49m\u001b[43mresponse\u001b[49m\u001b[43m)\u001b[49m\n\u001b[0;32m    445\u001b[0m     response[\u001b[38;5;124m\"\u001b[39m\u001b[38;5;124mvalue\u001b[39m\u001b[38;5;124m\"\u001b[39m] \u001b[38;5;241m=\u001b[39m \u001b[38;5;28mself\u001b[39m\u001b[38;5;241m.\u001b[39m_unwrap_value(response\u001b[38;5;241m.\u001b[39mget(\u001b[38;5;124m\"\u001b[39m\u001b[38;5;124mvalue\u001b[39m\u001b[38;5;124m\"\u001b[39m, \u001b[38;5;28;01mNone\u001b[39;00m))\n\u001b[0;32m    446\u001b[0m     \u001b[38;5;28;01mreturn\u001b[39;00m response\n",
      "File \u001b[1;32m~\\anaconda3\\anaconda3\\lib\\site-packages\\selenium\\webdriver\\remote\\errorhandler.py:249\u001b[0m, in \u001b[0;36mErrorHandler.check_response\u001b[1;34m(self, response)\u001b[0m\n\u001b[0;32m    247\u001b[0m         alert_text \u001b[38;5;241m=\u001b[39m value[\u001b[38;5;124m\"\u001b[39m\u001b[38;5;124malert\u001b[39m\u001b[38;5;124m\"\u001b[39m]\u001b[38;5;241m.\u001b[39mget(\u001b[38;5;124m\"\u001b[39m\u001b[38;5;124mtext\u001b[39m\u001b[38;5;124m\"\u001b[39m)\n\u001b[0;32m    248\u001b[0m     \u001b[38;5;28;01mraise\u001b[39;00m exception_class(message, screen, stacktrace, alert_text)  \u001b[38;5;66;03m# type: ignore[call-arg]  # mypy is not smart enough here\u001b[39;00m\n\u001b[1;32m--> 249\u001b[0m \u001b[38;5;28;01mraise\u001b[39;00m exception_class(message, screen, stacktrace)\n",
      "\u001b[1;31mElementClickInterceptedException\u001b[0m: Message: element click intercepted: Element is not clickable at point (500, 7853)\n  (Session info: chrome=107.0.5304.107)\nStacktrace:\nBacktrace:\n\tOrdinal0 [0x006DACD3+2075859]\n\tOrdinal0 [0x0066EE61+1633889]\n\tOrdinal0 [0x0056B7BD+571325]\n\tOrdinal0 [0x005A1499+791705]\n\tOrdinal0 [0x0059F4AC+783532]\n\tOrdinal0 [0x0059D0AB+774315]\n\tOrdinal0 [0x0059BD37+769335]\n\tOrdinal0 [0x00591C76+728182]\n\tOrdinal0 [0x005B731C+881436]\n\tOrdinal0 [0x005915BF+726463]\n\tOrdinal0 [0x005B7534+881972]\n\tOrdinal0 [0x005CB56A+963946]\n\tOrdinal0 [0x005B7136+880950]\n\tOrdinal0 [0x0058FEFD+720637]\n\tOrdinal0 [0x00590F3F+724799]\n\tGetHandleVerifier [0x0098EED2+2769538]\n\tGetHandleVerifier [0x00980D95+2711877]\n\tGetHandleVerifier [0x0076A03A+521194]\n\tGetHandleVerifier [0x00768DA0+516432]\n\tOrdinal0 [0x0067682C+1665068]\n\tOrdinal0 [0x0067B128+1683752]\n\tOrdinal0 [0x0067B215+1683989]\n\tOrdinal0 [0x00686484+1729668]\n\tBaseThreadInitThunk [0x76A2FEF9+25]\n\tRtlGetAppContainerNamedObjectPath [0x77C07BBE+286]\n\tRtlGetAppContainerNamedObjectPath [0x77C07B8E+238]\n"
     ]
    }
   ],
   "source": [
    "from selenium.common.exceptions import NoSuchElementException\n",
    "hostellink=[]\n",
    "name = []\n",
    "distance=[]\n",
    "rating=[]\n",
    "overallreviews=[]\n",
    "totalreviews=[]\n",
    "premiumprice=[]\n",
    "Doormsprice=[]\n",
    "facilities=[]\n",
    "propertyinfo=[]\n",
    "\n",
    "for i in range(3):\n",
    " \n",
    "    hostellinktag = driver.find_elements(By.XPATH,'//h2[@class=\"title title-6\"]')\n",
    "    for i in hostellinktag:\n",
    "        hostellink.append(i.get_attribute(\"href\"))\n",
    "    \n",
    "    nametag = driver.find_elements(By.XPATH,'//h2[@class=\"title title-6\"]')\n",
    "    for i in nametag:\n",
    "        name.append(i.text)\n",
    "    \n",
    "    distancetag = driver.find_elements(By.XPATH,'//span[@class=\"description\"]')\n",
    "    for i in distancetag:\n",
    "        distance.append(i.text)\n",
    "\n",
    "    ratingtag = driver.find_elements(By.XPATH,'//div[@data-v-0bb1e8b6=//*]//div[@data-v-8f08c426=//*]')\n",
    "    for i in rating:\n",
    "        rating.append(i.text)\n",
    "    \n",
    "    overalltags = driver.find_elements(By.XPATH,'//div[@data-v-0bb1e8b6=//*]//div[@data-v-1a6916de=//*]//span[@data-v-1a6916de=//*]')\n",
    "    for i in overalltags:\n",
    "        overallreviews.append(i.text)\n",
    "    \n",
    "    totaltags = driver.find_elements(By.XPATH,'//div[@data-v-1a6916de and @class=\"reviews\"]')\n",
    "    for i in totaltags:\n",
    "        totalreviews.append(i.text)\n",
    "    \n",
    "    ptags=driver.find_elements(By.XPATH,'//div[@data-v-0bb1e8b6 and @class=\"price-col\"][1][1][1]')\n",
    "    for i in ptags:\n",
    "        l = i.text.split(\"£\")\n",
    "        if len(l)==1:\n",
    "            premiumprice.append(l[0])\n",
    "        elif len(l)==2:\n",
    "            premiumprice.append(\"£\"+l[1])\n",
    "        else:\n",
    "            premiumprice.append(\"£\"+l[2])\n",
    "\n",
    "    Dtags=driver.find_elements(By.XPATH,'//div[@data-v-0bb1e8b6 and @class=\"price-col\"][2]')\n",
    "    for i in Dtags:\n",
    "        l = i.text.split(\"£\")\n",
    "        if len(l)==1:\n",
    "            Doormsprice.append(l[0])\n",
    "        elif len(l)==2:\n",
    "            Doormsprice.append(\"£\"+l[1])\n",
    "        else:\n",
    "            Doormsprice.append(\"£\"+l[2])\n",
    "    \n",
    "    ftags= driver.find_elements(By.XPATH,'//div[@class=\"facilities-label facilities\"]')\n",
    "    for i in ftags:\n",
    "        facilities.append(i.text)\n",
    "            \n",
    "    try:\n",
    "        nextbtn = driver.find_element(By.XPATH,'//div[@class=\"pagination-item pagination-next\"]').click()\n",
    "    \n",
    "    except NoSuchElementException:\n",
    "        print(\"No More Pages to display any result\")\n",
    "    \n",
    "    time.sleep(5)"
   ]
  },
  {
   "cell_type": "code",
   "execution_count": 122,
   "id": "75604521",
   "metadata": {},
   "outputs": [],
   "source": [
    "# hostellink.clear()\n",
    "# name.clear()\n",
    "# distance.clear()\n",
    "# rating.clear()\n",
    "# overallreviews.clear()\n",
    "# totalreviews.clear()\n",
    "# premiumprice.clear()\n",
    "# Doormsprice.clear()\n",
    "# facilities.clear()"
   ]
  },
  {
   "cell_type": "code",
   "execution_count": 123,
   "id": "3b144cd1",
   "metadata": {},
   "outputs": [
    {
     "name": "stdout",
     "output_type": "stream",
     "text": [
      "0 0 0 0 0 0 0 0 0\n"
     ]
    }
   ],
   "source": [
    "#check the length of the list\n",
    "print(len(hostellink),\n",
    "len(name),\n",
    "len(distance),\n",
    "len(rating),\n",
    "len(overallreviews),\n",
    "len(totalreviews),\n",
    "len(premiumprice),\n",
    "len(Doormsprice),\n",
    "len(facilities))"
   ]
  },
  {
   "cell_type": "code",
   "execution_count": 150,
   "id": "0d43352f",
   "metadata": {},
   "outputs": [
    {
     "ename": "ElementClickInterceptedException",
     "evalue": "Message: element click intercepted: Element is not clickable at point (474, 8476)\n  (Session info: chrome=107.0.5304.107)\nStacktrace:\nBacktrace:\n\tOrdinal0 [0x006DACD3+2075859]\n\tOrdinal0 [0x0066EE61+1633889]\n\tOrdinal0 [0x0056B7BD+571325]\n\tOrdinal0 [0x005A1499+791705]\n\tOrdinal0 [0x0059F4AC+783532]\n\tOrdinal0 [0x0059D0AB+774315]\n\tOrdinal0 [0x0059BD37+769335]\n\tOrdinal0 [0x00591C76+728182]\n\tOrdinal0 [0x005B731C+881436]\n\tOrdinal0 [0x005915BF+726463]\n\tOrdinal0 [0x005B7534+881972]\n\tOrdinal0 [0x005CB56A+963946]\n\tOrdinal0 [0x005B7136+880950]\n\tOrdinal0 [0x0058FEFD+720637]\n\tOrdinal0 [0x00590F3F+724799]\n\tGetHandleVerifier [0x0098EED2+2769538]\n\tGetHandleVerifier [0x00980D95+2711877]\n\tGetHandleVerifier [0x0076A03A+521194]\n\tGetHandleVerifier [0x00768DA0+516432]\n\tOrdinal0 [0x0067682C+1665068]\n\tOrdinal0 [0x0067B128+1683752]\n\tOrdinal0 [0x0067B215+1683989]\n\tOrdinal0 [0x00686484+1729668]\n\tBaseThreadInitThunk [0x76A2FEF9+25]\n\tRtlGetAppContainerNamedObjectPath [0x77C07BBE+286]\n\tRtlGetAppContainerNamedObjectPath [0x77C07B8E+238]\n",
     "output_type": "error",
     "traceback": [
      "\u001b[1;31m---------------------------------------------------------------------------\u001b[0m",
      "\u001b[1;31mElementClickInterceptedException\u001b[0m          Traceback (most recent call last)",
      "Input \u001b[1;32mIn [150]\u001b[0m, in \u001b[0;36m<cell line: 1>\u001b[1;34m()\u001b[0m\n\u001b[1;32m----> 1\u001b[0m nextbtn \u001b[38;5;241m=\u001b[39m \u001b[43mdriver\u001b[49m\u001b[38;5;241;43m.\u001b[39;49m\u001b[43mfind_element\u001b[49m\u001b[43m(\u001b[49m\u001b[43mBy\u001b[49m\u001b[38;5;241;43m.\u001b[39;49m\u001b[43mXPATH\u001b[49m\u001b[43m,\u001b[49m\u001b[38;5;124;43m'\u001b[39;49m\u001b[38;5;124;43m//i[@data-v-2e225c62 and @aria-describedby=\u001b[39;49m\u001b[38;5;124;43m\"\u001b[39;49m\u001b[38;5;124;43micon-core-chevron-right-aria-description\u001b[39;49m\u001b[38;5;124;43m\"\u001b[39;49m\u001b[38;5;124;43m]\u001b[39;49m\u001b[38;5;124;43m'\u001b[39;49m\u001b[43m)\u001b[49m\u001b[38;5;241;43m.\u001b[39;49m\u001b[43mclick\u001b[49m\u001b[43m(\u001b[49m\u001b[43m)\u001b[49m\n",
      "File \u001b[1;32m~\\anaconda3\\anaconda3\\lib\\site-packages\\selenium\\webdriver\\remote\\webelement.py:93\u001b[0m, in \u001b[0;36mWebElement.click\u001b[1;34m(self)\u001b[0m\n\u001b[0;32m     91\u001b[0m \u001b[38;5;28;01mdef\u001b[39;00m \u001b[38;5;21mclick\u001b[39m(\u001b[38;5;28mself\u001b[39m) \u001b[38;5;241m-\u001b[39m\u001b[38;5;241m>\u001b[39m \u001b[38;5;28;01mNone\u001b[39;00m:\n\u001b[0;32m     92\u001b[0m     \u001b[38;5;124;03m\"\"\"Clicks the element.\"\"\"\u001b[39;00m\n\u001b[1;32m---> 93\u001b[0m     \u001b[38;5;28;43mself\u001b[39;49m\u001b[38;5;241;43m.\u001b[39;49m\u001b[43m_execute\u001b[49m\u001b[43m(\u001b[49m\u001b[43mCommand\u001b[49m\u001b[38;5;241;43m.\u001b[39;49m\u001b[43mCLICK_ELEMENT\u001b[49m\u001b[43m)\u001b[49m\n",
      "File \u001b[1;32m~\\anaconda3\\anaconda3\\lib\\site-packages\\selenium\\webdriver\\remote\\webelement.py:410\u001b[0m, in \u001b[0;36mWebElement._execute\u001b[1;34m(self, command, params)\u001b[0m\n\u001b[0;32m    408\u001b[0m     params \u001b[38;5;241m=\u001b[39m {}\n\u001b[0;32m    409\u001b[0m params[\u001b[38;5;124m\"\u001b[39m\u001b[38;5;124mid\u001b[39m\u001b[38;5;124m\"\u001b[39m] \u001b[38;5;241m=\u001b[39m \u001b[38;5;28mself\u001b[39m\u001b[38;5;241m.\u001b[39m_id\n\u001b[1;32m--> 410\u001b[0m \u001b[38;5;28;01mreturn\u001b[39;00m \u001b[38;5;28;43mself\u001b[39;49m\u001b[38;5;241;43m.\u001b[39;49m\u001b[43m_parent\u001b[49m\u001b[38;5;241;43m.\u001b[39;49m\u001b[43mexecute\u001b[49m\u001b[43m(\u001b[49m\u001b[43mcommand\u001b[49m\u001b[43m,\u001b[49m\u001b[43m \u001b[49m\u001b[43mparams\u001b[49m\u001b[43m)\u001b[49m\n",
      "File \u001b[1;32m~\\anaconda3\\anaconda3\\lib\\site-packages\\selenium\\webdriver\\remote\\webdriver.py:444\u001b[0m, in \u001b[0;36mWebDriver.execute\u001b[1;34m(self, driver_command, params)\u001b[0m\n\u001b[0;32m    442\u001b[0m response \u001b[38;5;241m=\u001b[39m \u001b[38;5;28mself\u001b[39m\u001b[38;5;241m.\u001b[39mcommand_executor\u001b[38;5;241m.\u001b[39mexecute(driver_command, params)\n\u001b[0;32m    443\u001b[0m \u001b[38;5;28;01mif\u001b[39;00m response:\n\u001b[1;32m--> 444\u001b[0m     \u001b[38;5;28;43mself\u001b[39;49m\u001b[38;5;241;43m.\u001b[39;49m\u001b[43merror_handler\u001b[49m\u001b[38;5;241;43m.\u001b[39;49m\u001b[43mcheck_response\u001b[49m\u001b[43m(\u001b[49m\u001b[43mresponse\u001b[49m\u001b[43m)\u001b[49m\n\u001b[0;32m    445\u001b[0m     response[\u001b[38;5;124m\"\u001b[39m\u001b[38;5;124mvalue\u001b[39m\u001b[38;5;124m\"\u001b[39m] \u001b[38;5;241m=\u001b[39m \u001b[38;5;28mself\u001b[39m\u001b[38;5;241m.\u001b[39m_unwrap_value(response\u001b[38;5;241m.\u001b[39mget(\u001b[38;5;124m\"\u001b[39m\u001b[38;5;124mvalue\u001b[39m\u001b[38;5;124m\"\u001b[39m, \u001b[38;5;28;01mNone\u001b[39;00m))\n\u001b[0;32m    446\u001b[0m     \u001b[38;5;28;01mreturn\u001b[39;00m response\n",
      "File \u001b[1;32m~\\anaconda3\\anaconda3\\lib\\site-packages\\selenium\\webdriver\\remote\\errorhandler.py:249\u001b[0m, in \u001b[0;36mErrorHandler.check_response\u001b[1;34m(self, response)\u001b[0m\n\u001b[0;32m    247\u001b[0m         alert_text \u001b[38;5;241m=\u001b[39m value[\u001b[38;5;124m\"\u001b[39m\u001b[38;5;124malert\u001b[39m\u001b[38;5;124m\"\u001b[39m]\u001b[38;5;241m.\u001b[39mget(\u001b[38;5;124m\"\u001b[39m\u001b[38;5;124mtext\u001b[39m\u001b[38;5;124m\"\u001b[39m)\n\u001b[0;32m    248\u001b[0m     \u001b[38;5;28;01mraise\u001b[39;00m exception_class(message, screen, stacktrace, alert_text)  \u001b[38;5;66;03m# type: ignore[call-arg]  # mypy is not smart enough here\u001b[39;00m\n\u001b[1;32m--> 249\u001b[0m \u001b[38;5;28;01mraise\u001b[39;00m exception_class(message, screen, stacktrace)\n",
      "\u001b[1;31mElementClickInterceptedException\u001b[0m: Message: element click intercepted: Element is not clickable at point (474, 8476)\n  (Session info: chrome=107.0.5304.107)\nStacktrace:\nBacktrace:\n\tOrdinal0 [0x006DACD3+2075859]\n\tOrdinal0 [0x0066EE61+1633889]\n\tOrdinal0 [0x0056B7BD+571325]\n\tOrdinal0 [0x005A1499+791705]\n\tOrdinal0 [0x0059F4AC+783532]\n\tOrdinal0 [0x0059D0AB+774315]\n\tOrdinal0 [0x0059BD37+769335]\n\tOrdinal0 [0x00591C76+728182]\n\tOrdinal0 [0x005B731C+881436]\n\tOrdinal0 [0x005915BF+726463]\n\tOrdinal0 [0x005B7534+881972]\n\tOrdinal0 [0x005CB56A+963946]\n\tOrdinal0 [0x005B7136+880950]\n\tOrdinal0 [0x0058FEFD+720637]\n\tOrdinal0 [0x00590F3F+724799]\n\tGetHandleVerifier [0x0098EED2+2769538]\n\tGetHandleVerifier [0x00980D95+2711877]\n\tGetHandleVerifier [0x0076A03A+521194]\n\tGetHandleVerifier [0x00768DA0+516432]\n\tOrdinal0 [0x0067682C+1665068]\n\tOrdinal0 [0x0067B128+1683752]\n\tOrdinal0 [0x0067B215+1683989]\n\tOrdinal0 [0x00686484+1729668]\n\tBaseThreadInitThunk [0x76A2FEF9+25]\n\tRtlGetAppContainerNamedObjectPath [0x77C07BBE+286]\n\tRtlGetAppContainerNamedObjectPath [0x77C07B8E+238]\n"
     ]
    }
   ],
   "source": [
    "nextbtn = driver.find_element(By.XPATH,'//i[@data-v-2e225c62 and @aria-describedby=\"icon-core-chevron-right-aria-description\"]').click()\n"
   ]
  },
  {
   "cell_type": "code",
   "execution_count": null,
   "id": "8188234f",
   "metadata": {},
   "outputs": [],
   "source": []
  }
 ],
 "metadata": {
  "kernelspec": {
   "display_name": "Python 3 (ipykernel)",
   "language": "python",
   "name": "python3"
  },
  "language_info": {
   "codemirror_mode": {
    "name": "ipython",
    "version": 3
   },
   "file_extension": ".py",
   "mimetype": "text/x-python",
   "name": "python",
   "nbconvert_exporter": "python",
   "pygments_lexer": "ipython3",
   "version": "3.9.12"
  }
 },
 "nbformat": 4,
 "nbformat_minor": 5
}
