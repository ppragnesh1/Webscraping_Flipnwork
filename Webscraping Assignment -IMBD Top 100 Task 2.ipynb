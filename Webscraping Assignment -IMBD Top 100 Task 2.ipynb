{
 "cells": [
  {
   "cell_type": "code",
   "execution_count": 1,
   "id": "1cb72cd3",
   "metadata": {},
   "outputs": [],
   "source": [
    "#import library\n",
    "import requests\n",
    "from bs4 import BeautifulSoup"
   ]
  },
  {
   "cell_type": "code",
   "execution_count": 2,
   "id": "2e1c53c2",
   "metadata": {},
   "outputs": [],
   "source": [
    "#set the variabel for imdb webaddress\n",
    "url = \"https://www.imdb.com/list/ls055592025/\"\n",
    "req = requests.get(url)"
   ]
  },
  {
   "cell_type": "code",
   "execution_count": 3,
   "id": "9c2a7752",
   "metadata": {},
   "outputs": [
    {
     "name": "stdout",
     "output_type": "stream",
     "text": [
      "<Response [200]>\n"
     ]
    }
   ],
   "source": [
    "# check if response from website\n",
    "print(req)"
   ]
  },
  {
   "cell_type": "code",
   "execution_count": 7,
   "id": "efd1f7cf",
   "metadata": {},
   "outputs": [],
   "source": [
    "#set soup variable for parsing data\n",
    "soup = BeautifulSoup(req.text,\"html.parser\")"
   ]
  },
  {
   "cell_type": "code",
   "execution_count": 8,
   "id": "100db352",
   "metadata": {},
   "outputs": [],
   "source": [
    "# itering the contains from website\n",
    "moviename = []\n",
    "movieyear = []\n",
    "for item in soup.find_all(\"h3\",class_=\"lister-item-header\"):\n",
    "    item = item.text\n",
    "    item = item.split(\"\\n\")\n",
    "    name = item[2]\n",
    "    year = ''.join(number for number in item[3] if number.isnumeric())\n",
    "    moviename.append(name)\n",
    "    movieyear.append(year)"
   ]
  },
  {
   "cell_type": "code",
   "execution_count": 9,
   "id": "1502839f",
   "metadata": {},
   "outputs": [
    {
     "name": "stdout",
     "output_type": "stream",
     "text": [
      "['The Godfather', 'The Shawshank Redemption', \"Schindler's List\", 'Raging Bull', 'Casablanca', 'Citizen Kane', 'Gone with the Wind', 'The Wizard of Oz', \"One Flew Over the Cuckoo's Nest\", 'Lawrence of Arabia', 'Vertigo', 'Psycho', 'The Godfather: Part II', 'On the Waterfront', 'Sunset Blvd.', 'Forrest Gump', 'The Sound of Music', '12 Angry Men', 'West Side Story', 'Star Wars', '2001: A Space Odyssey', 'E.T. the Extra-Terrestrial', 'The Silence of the Lambs', 'Chinatown', 'The Bridge on the River Kwai', \"Singin' in the Rain\", \"It's a Wonderful Life\", 'Dr. Strangelove or: How I Learned to Stop Worrying and Love the Bomb', 'Some Like It Hot', 'Ben-Hur', 'Apocalypse Now', 'Amadeus', 'The Lord of the Rings: The Return of the King', 'Gladiator', 'Titanic', 'From Here to Eternity', 'Saving Private Ryan', 'Unforgiven', 'Raiders of the Lost Ark', 'Rocky', 'A Streetcar Named Desire', 'The Philadelphia Story', 'To Kill a Mockingbird', 'An American in Paris', 'The Best Years of Our Lives', 'My Fair Lady', 'A Clockwork Orange', 'Doctor Zhivago', 'The Searchers', 'Jaws', 'Patton', 'Butch Cassidy and the Sundance Kid', 'The Treasure of the Sierra Madre', 'The Good, the Bad and the Ugly', 'The Apartment', 'Platoon', 'High Noon', 'Braveheart', 'Dances with Wolves', 'Jurassic Park', 'The Exorcist', 'The Pianist', 'Goodfellas', 'The Deer Hunter', 'All Quiet on the Western Front', 'Bonnie and Clyde', 'The French Connection', 'City Lights', 'It Happened One Night', 'A Place in the Sun', 'Midnight Cowboy', 'Mr. Smith Goes to Washington', 'Rain Man', 'Annie Hall', 'Fargo', 'Giant', 'Shane', 'The Grapes of Wrath', 'The Green Mile', 'Close Encounters of the Third Kind', 'Nashville', 'Network', 'The Graduate', 'American Graffiti', 'Pulp Fiction', 'Terms of Endearment', 'Good Will Hunting', 'The African Queen', 'Stagecoach', 'Mutiny on the Bounty', 'The Great Dictator', 'Double Indemnity', 'The Maltese Falcon', 'Wuthering Heights', 'Taxi Driver', 'Rear Window', 'The Third Man', 'Rebel Without a Cause', 'North by Northwest', 'Yankee Doodle Dandy']\n",
      "['1972', '1994', '1993', '1980', '1942', '1941', '1939', '1939', '1975', '1962', '1958', '1960', '1974', '1954', '1950', '1994', '1965', '1957', '1961', '1977', '1968', '1982', '1991', '1974', '1957', '1952', '1946', '1964', '1959', '1959', '1979', '1984', '2003', '2000', '1997', '1953', '1998', '1992', '1981', '1976', '1951', '1940', '1962', '1951', '1946', '1964', '1971', '1965', '1956', '1975', '1970', '1969', '1948', '1966', '1960', '1986', '1952', '1995', '1990', '1993', '1973', '2002', '1990', '1978', '1930', '1967', '1971', '1931', '1934', '1951', '1969', '1939', '1988', '1977', '1996', '1956', '1953', '1940', '1999', '1977', '1975', '1976', '1967', '1973', '1994', '1983', '1997', '1951', '1939', '1935', '1940', '1944', '1941', '1939', '1976', '1954', '1949', '1955', '1959', '1942']\n"
     ]
    }
   ],
   "source": [
    "#check the moviename and movieyear list\n",
    "print(moviename)\n",
    "print(movieyear)"
   ]
  },
  {
   "cell_type": "code",
   "execution_count": 11,
   "id": "e19949ae",
   "metadata": {},
   "outputs": [],
   "source": [
    "#now get the rating of the movies\n",
    "rating=[]\n",
    "for r in soup.find_all(\"div\",class_=\"ipl-rating-star small\"):\n",
    "    r = r.text\n",
    "    r = float(r.strip())\n",
    "    rating.append(r)"
   ]
  },
  {
   "cell_type": "code",
   "execution_count": 12,
   "id": "7dee5516",
   "metadata": {},
   "outputs": [
    {
     "name": "stdout",
     "output_type": "stream",
     "text": [
      "[9.2, 9.3, 9.0, 8.2, 8.5, 8.3, 8.2, 8.1, 8.7, 8.3, 8.3, 8.5, 9.0, 8.1, 8.4, 8.8, 8.1, 9.0, 7.6, 8.6, 8.3, 7.9, 8.6, 8.2, 8.2, 8.3, 8.6, 8.4, 8.2, 8.1, 8.5, 8.4, 9.0, 8.5, 7.9, 7.6, 8.6, 8.2, 8.4, 8.1, 7.9, 7.9, 8.3, 7.2, 8.1, 7.8, 8.3, 7.9, 7.9, 8.1, 7.9, 8.0, 8.2, 8.8, 8.3, 8.1, 8.0, 8.4, 8.0, 8.2, 8.1, 8.5, 8.7, 8.1, 8.1, 7.7, 7.7, 8.5, 8.1, 7.7, 7.8, 8.1, 8.0, 8.0, 8.1, 7.6, 7.6, 8.1, 8.6, 7.6, 7.7, 8.1, 8.0, 7.4, 8.9, 7.4, 8.3, 7.7, 7.8, 7.7, 8.4, 8.3, 8.0, 7.5, 8.2, 8.5, 8.1, 7.6, 8.3, 7.6]\n"
     ]
    }
   ],
   "source": [
    "#print the fating list\n",
    "print(rating)"
   ]
  },
  {
   "cell_type": "code",
   "execution_count": 14,
   "id": "12a5105a",
   "metadata": {},
   "outputs": [],
   "source": [
    "#create a DataFrame by combining the name, year and rating\n",
    "import pandas as pd # importing pandas library to create a Dataframe\n",
    "top100moviesdf = pd.DataFrame({\"Movie Name\":moviename,\"Release Year\":movieyear,\"IMBD Rating\":rating})"
   ]
  },
  {
   "cell_type": "code",
   "execution_count": 15,
   "id": "a7215091",
   "metadata": {},
   "outputs": [
    {
     "data": {
      "text/html": [
       "<div>\n",
       "<style scoped>\n",
       "    .dataframe tbody tr th:only-of-type {\n",
       "        vertical-align: middle;\n",
       "    }\n",
       "\n",
       "    .dataframe tbody tr th {\n",
       "        vertical-align: top;\n",
       "    }\n",
       "\n",
       "    .dataframe thead th {\n",
       "        text-align: right;\n",
       "    }\n",
       "</style>\n",
       "<table border=\"1\" class=\"dataframe\">\n",
       "  <thead>\n",
       "    <tr style=\"text-align: right;\">\n",
       "      <th></th>\n",
       "      <th>Movie Name</th>\n",
       "      <th>Release Year</th>\n",
       "      <th>IMBD Rating</th>\n",
       "    </tr>\n",
       "  </thead>\n",
       "  <tbody>\n",
       "    <tr>\n",
       "      <th>0</th>\n",
       "      <td>The Godfather</td>\n",
       "      <td>1972</td>\n",
       "      <td>9.2</td>\n",
       "    </tr>\n",
       "    <tr>\n",
       "      <th>1</th>\n",
       "      <td>The Shawshank Redemption</td>\n",
       "      <td>1994</td>\n",
       "      <td>9.3</td>\n",
       "    </tr>\n",
       "    <tr>\n",
       "      <th>2</th>\n",
       "      <td>Schindler's List</td>\n",
       "      <td>1993</td>\n",
       "      <td>9.0</td>\n",
       "    </tr>\n",
       "    <tr>\n",
       "      <th>3</th>\n",
       "      <td>Raging Bull</td>\n",
       "      <td>1980</td>\n",
       "      <td>8.2</td>\n",
       "    </tr>\n",
       "    <tr>\n",
       "      <th>4</th>\n",
       "      <td>Casablanca</td>\n",
       "      <td>1942</td>\n",
       "      <td>8.5</td>\n",
       "    </tr>\n",
       "    <tr>\n",
       "      <th>...</th>\n",
       "      <td>...</td>\n",
       "      <td>...</td>\n",
       "      <td>...</td>\n",
       "    </tr>\n",
       "    <tr>\n",
       "      <th>95</th>\n",
       "      <td>Rear Window</td>\n",
       "      <td>1954</td>\n",
       "      <td>8.5</td>\n",
       "    </tr>\n",
       "    <tr>\n",
       "      <th>96</th>\n",
       "      <td>The Third Man</td>\n",
       "      <td>1949</td>\n",
       "      <td>8.1</td>\n",
       "    </tr>\n",
       "    <tr>\n",
       "      <th>97</th>\n",
       "      <td>Rebel Without a Cause</td>\n",
       "      <td>1955</td>\n",
       "      <td>7.6</td>\n",
       "    </tr>\n",
       "    <tr>\n",
       "      <th>98</th>\n",
       "      <td>North by Northwest</td>\n",
       "      <td>1959</td>\n",
       "      <td>8.3</td>\n",
       "    </tr>\n",
       "    <tr>\n",
       "      <th>99</th>\n",
       "      <td>Yankee Doodle Dandy</td>\n",
       "      <td>1942</td>\n",
       "      <td>7.6</td>\n",
       "    </tr>\n",
       "  </tbody>\n",
       "</table>\n",
       "<p>100 rows × 3 columns</p>\n",
       "</div>"
      ],
      "text/plain": [
       "                  Movie Name Release Year  IMBD Rating\n",
       "0              The Godfather         1972          9.2\n",
       "1   The Shawshank Redemption         1994          9.3\n",
       "2           Schindler's List         1993          9.0\n",
       "3                Raging Bull         1980          8.2\n",
       "4                 Casablanca         1942          8.5\n",
       "..                       ...          ...          ...\n",
       "95               Rear Window         1954          8.5\n",
       "96             The Third Man         1949          8.1\n",
       "97     Rebel Without a Cause         1955          7.6\n",
       "98        North by Northwest         1959          8.3\n",
       "99       Yankee Doodle Dandy         1942          7.6\n",
       "\n",
       "[100 rows x 3 columns]"
      ]
     },
     "execution_count": 15,
     "metadata": {},
     "output_type": "execute_result"
    }
   ],
   "source": [
    "top100moviesdf"
   ]
  },
  {
   "cell_type": "code",
   "execution_count": null,
   "id": "b29edf55",
   "metadata": {},
   "outputs": [],
   "source": []
  }
 ],
 "metadata": {
  "kernelspec": {
   "display_name": "Python 3 (ipykernel)",
   "language": "python",
   "name": "python3"
  },
  "language_info": {
   "codemirror_mode": {
    "name": "ipython",
    "version": 3
   },
   "file_extension": ".py",
   "mimetype": "text/x-python",
   "name": "python",
   "nbconvert_exporter": "python",
   "pygments_lexer": "ipython3",
   "version": "3.9.12"
  }
 },
 "nbformat": 4,
 "nbformat_minor": 5
}
